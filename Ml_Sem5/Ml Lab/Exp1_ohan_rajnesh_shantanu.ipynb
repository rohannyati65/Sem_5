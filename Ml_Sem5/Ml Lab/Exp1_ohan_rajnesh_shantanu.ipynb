{
  "nbformat": 4,
  "nbformat_minor": 0,
  "metadata": {
    "colab": {
      "name": "Exp1_ohan_rajnesh_shantanu.ipynb",
      "provenance": [],
      "collapsed_sections": []
    },
    "kernelspec": {
      "name": "python3",
      "display_name": "Python 3"
    },
    "language_info": {
      "name": "python"
    }
  },
  "cells": [
    {
      "cell_type": "markdown",
      "metadata": {
        "id": "MiWS39G0VSWv"
      },
      "source": [
        "#**Experiment 1: Introduction To Pandas And Introduction To Numpy**"
      ]
    },
    {
      "cell_type": "markdown",
      "metadata": {
        "id": "AnHX_1glVeWP"
      },
      "source": [
        "# 1.1 Introduction To Numpy"
      ]
    },
    {
      "cell_type": "code",
      "metadata": {
        "id": "XXaDStIIT8Nj"
      },
      "source": [
        "import numpy as np"
      ],
      "execution_count": 1,
      "outputs": []
    },
    {
      "cell_type": "code",
      "metadata": {
        "colab": {
          "base_uri": "https://localhost:8080/"
        },
        "id": "QnD_dyyYVxrs",
        "outputId": "b3a0e55a-4a88-4c27-e29c-38cf8cee79b3"
      },
      "source": [
        "a = np.arange(15).reshape(3, 5)\n",
        "a.shape\n"
      ],
      "execution_count": 3,
      "outputs": [
        {
          "output_type": "execute_result",
          "data": {
            "text/plain": [
              "(3, 5)"
            ]
          },
          "metadata": {
            "tags": []
          },
          "execution_count": 3
        }
      ]
    },
    {
      "cell_type": "code",
      "metadata": {
        "colab": {
          "base_uri": "https://localhost:8080/"
        },
        "id": "oHpvSFYkVxpP",
        "outputId": "d773b069-1ad5-4126-e80b-d943c407e358"
      },
      "source": [
        " a.ndim"
      ],
      "execution_count": 4,
      "outputs": [
        {
          "output_type": "execute_result",
          "data": {
            "text/plain": [
              "2"
            ]
          },
          "metadata": {
            "tags": []
          },
          "execution_count": 4
        }
      ]
    },
    {
      "cell_type": "code",
      "metadata": {
        "colab": {
          "base_uri": "https://localhost:8080/",
          "height": 35
        },
        "id": "v4I_6os7VxnD",
        "outputId": "78e63df2-7ac4-4b3c-d712-db837d40d32b"
      },
      "source": [
        "a.dtype.name"
      ],
      "execution_count": 5,
      "outputs": [
        {
          "output_type": "execute_result",
          "data": {
            "application/vnd.google.colaboratory.intrinsic+json": {
              "type": "string"
            },
            "text/plain": [
              "'int64'"
            ]
          },
          "metadata": {
            "tags": []
          },
          "execution_count": 5
        }
      ]
    },
    {
      "cell_type": "code",
      "metadata": {
        "colab": {
          "base_uri": "https://localhost:8080/"
        },
        "id": "sinA4iDmVxkR",
        "outputId": "0181e1e9-fb61-45e9-aad8-8874ff2e2535"
      },
      "source": [
        " a.itemsize"
      ],
      "execution_count": 6,
      "outputs": [
        {
          "output_type": "execute_result",
          "data": {
            "text/plain": [
              "8"
            ]
          },
          "metadata": {
            "tags": []
          },
          "execution_count": 6
        }
      ]
    },
    {
      "cell_type": "code",
      "metadata": {
        "colab": {
          "base_uri": "https://localhost:8080/"
        },
        "id": "ix-lI8qJVxiH",
        "outputId": "0977e1cf-e81b-47f6-f9f4-802859b886df"
      },
      "source": [
        "a.size"
      ],
      "execution_count": 7,
      "outputs": [
        {
          "output_type": "execute_result",
          "data": {
            "text/plain": [
              "15"
            ]
          },
          "metadata": {
            "tags": []
          },
          "execution_count": 7
        }
      ]
    },
    {
      "cell_type": "code",
      "metadata": {
        "colab": {
          "base_uri": "https://localhost:8080/"
        },
        "id": "1o9385imVxfU",
        "outputId": "b8fd6a6d-2f1a-4ee8-f1f5-4aeecd0af6a7"
      },
      "source": [
        "type(a)\n"
      ],
      "execution_count": 8,
      "outputs": [
        {
          "output_type": "execute_result",
          "data": {
            "text/plain": [
              "numpy.ndarray"
            ]
          },
          "metadata": {
            "tags": []
          },
          "execution_count": 8
        }
      ]
    },
    {
      "cell_type": "code",
      "metadata": {
        "id": "P7TYVjbkVxc7"
      },
      "source": [
        " b = np.array([6, 7, 8])\n"
      ],
      "execution_count": 9,
      "outputs": []
    },
    {
      "cell_type": "code",
      "metadata": {
        "colab": {
          "base_uri": "https://localhost:8080/"
        },
        "id": "o447DQMVVxaS",
        "outputId": "388bc2e5-41d0-4768-e410-710cb6958823"
      },
      "source": [
        "b\n"
      ],
      "execution_count": 10,
      "outputs": [
        {
          "output_type": "execute_result",
          "data": {
            "text/plain": [
              "array([6, 7, 8])"
            ]
          },
          "metadata": {
            "tags": []
          },
          "execution_count": 10
        }
      ]
    },
    {
      "cell_type": "code",
      "metadata": {
        "colab": {
          "base_uri": "https://localhost:8080/"
        },
        "id": "gJ7MdUluVxXw",
        "outputId": "bac95230-9cae-49cc-b3a7-a7d4ecabd7d0"
      },
      "source": [
        "type(b)\n"
      ],
      "execution_count": 11,
      "outputs": [
        {
          "output_type": "execute_result",
          "data": {
            "text/plain": [
              "numpy.ndarray"
            ]
          },
          "metadata": {
            "tags": []
          },
          "execution_count": 11
        }
      ]
    },
    {
      "cell_type": "code",
      "metadata": {
        "colab": {
          "base_uri": "https://localhost:8080/"
        },
        "id": "YXEAplp6VxVJ",
        "outputId": "4becca14-6fdd-417e-d83d-b81880e9a002"
      },
      "source": [
        "b.dtype\n"
      ],
      "execution_count": 12,
      "outputs": [
        {
          "output_type": "execute_result",
          "data": {
            "text/plain": [
              "dtype('int64')"
            ]
          },
          "metadata": {
            "tags": []
          },
          "execution_count": 12
        }
      ]
    },
    {
      "cell_type": "code",
      "metadata": {
        "id": "IbjZ7h-eVxSb"
      },
      "source": [
        "c = np.array([[1, 2], [3, 4]], dtype=complex)\n"
      ],
      "execution_count": 13,
      "outputs": []
    },
    {
      "cell_type": "code",
      "metadata": {
        "colab": {
          "base_uri": "https://localhost:8080/"
        },
        "id": "EmzFR1rYVxPY",
        "outputId": "8772be83-af85-41ba-8de1-1741e3daaf98"
      },
      "source": [
        "c"
      ],
      "execution_count": 14,
      "outputs": [
        {
          "output_type": "execute_result",
          "data": {
            "text/plain": [
              "array([[1.+0.j, 2.+0.j],\n",
              "       [3.+0.j, 4.+0.j]])"
            ]
          },
          "metadata": {
            "tags": []
          },
          "execution_count": 14
        }
      ]
    },
    {
      "cell_type": "code",
      "metadata": {
        "colab": {
          "base_uri": "https://localhost:8080/",
          "height": 35
        },
        "id": "Ct0ht71qVxLt",
        "outputId": "24837f43-1ff1-4ddc-fa46-e5adef81c3a7"
      },
      "source": [
        "c.dtype.name"
      ],
      "execution_count": 15,
      "outputs": [
        {
          "output_type": "execute_result",
          "data": {
            "application/vnd.google.colaboratory.intrinsic+json": {
              "type": "string"
            },
            "text/plain": [
              "'complex128'"
            ]
          },
          "metadata": {
            "tags": []
          },
          "execution_count": 15
        }
      ]
    },
    {
      "cell_type": "code",
      "metadata": {
        "colab": {
          "base_uri": "https://localhost:8080/"
        },
        "id": "WCnEDMJqVxI7",
        "outputId": "2f152fe3-c2eb-40a0-8379-fb8b0f31c689"
      },
      "source": [
        "np.zeros((3, 4))"
      ],
      "execution_count": 16,
      "outputs": [
        {
          "output_type": "execute_result",
          "data": {
            "text/plain": [
              "array([[0., 0., 0., 0.],\n",
              "       [0., 0., 0., 0.],\n",
              "       [0., 0., 0., 0.]])"
            ]
          },
          "metadata": {
            "tags": []
          },
          "execution_count": 16
        }
      ]
    },
    {
      "cell_type": "code",
      "metadata": {
        "colab": {
          "base_uri": "https://localhost:8080/"
        },
        "id": "6CKi13hFXGrl",
        "outputId": "ac6d6a25-f307-432e-bdc6-845552f07617"
      },
      "source": [
        "np.ones((2, 3, 4), dtype=np.int16)"
      ],
      "execution_count": 17,
      "outputs": [
        {
          "output_type": "execute_result",
          "data": {
            "text/plain": [
              "array([[[1, 1, 1, 1],\n",
              "        [1, 1, 1, 1],\n",
              "        [1, 1, 1, 1]],\n",
              "\n",
              "       [[1, 1, 1, 1],\n",
              "        [1, 1, 1, 1],\n",
              "        [1, 1, 1, 1]]], dtype=int16)"
            ]
          },
          "metadata": {
            "tags": []
          },
          "execution_count": 17
        }
      ]
    },
    {
      "cell_type": "code",
      "metadata": {
        "colab": {
          "base_uri": "https://localhost:8080/"
        },
        "id": "1M1tOfsTXGo1",
        "outputId": "244195e7-ff62-45e3-c7f2-000e5778b6dd"
      },
      "source": [
        "np.empty((2, 3))\n"
      ],
      "execution_count": 18,
      "outputs": [
        {
          "output_type": "execute_result",
          "data": {
            "text/plain": [
              "array([[4.66943349e-310, 0.00000000e+000, 0.00000000e+000],\n",
              "       [0.00000000e+000, 0.00000000e+000, 0.00000000e+000]])"
            ]
          },
          "metadata": {
            "tags": []
          },
          "execution_count": 18
        }
      ]
    },
    {
      "cell_type": "code",
      "metadata": {
        "colab": {
          "base_uri": "https://localhost:8080/"
        },
        "id": "NHvUBBECXGmQ",
        "outputId": "f0b8dbda-0484-43e0-b2d6-a377920c5689"
      },
      "source": [
        "np.eye(7)"
      ],
      "execution_count": 19,
      "outputs": [
        {
          "output_type": "execute_result",
          "data": {
            "text/plain": [
              "array([[1., 0., 0., 0., 0., 0., 0.],\n",
              "       [0., 1., 0., 0., 0., 0., 0.],\n",
              "       [0., 0., 1., 0., 0., 0., 0.],\n",
              "       [0., 0., 0., 1., 0., 0., 0.],\n",
              "       [0., 0., 0., 0., 1., 0., 0.],\n",
              "       [0., 0., 0., 0., 0., 1., 0.],\n",
              "       [0., 0., 0., 0., 0., 0., 1.]])"
            ]
          },
          "metadata": {
            "tags": []
          },
          "execution_count": 19
        }
      ]
    },
    {
      "cell_type": "code",
      "metadata": {
        "colab": {
          "base_uri": "https://localhost:8080/"
        },
        "id": "46dN_kxwXGjg",
        "outputId": "2adbeb47-e13b-4652-8380-8f5b41dff261"
      },
      "source": [
        "np.arange(10, 30, 5)"
      ],
      "execution_count": 20,
      "outputs": [
        {
          "output_type": "execute_result",
          "data": {
            "text/plain": [
              "array([10, 15, 20, 25])"
            ]
          },
          "metadata": {
            "tags": []
          },
          "execution_count": 20
        }
      ]
    },
    {
      "cell_type": "code",
      "metadata": {
        "colab": {
          "base_uri": "https://localhost:8080/"
        },
        "id": "inw9dNNMXGeC",
        "outputId": "e7bccc83-b096-4d58-c345-1502d1d3ff01"
      },
      "source": [
        "np.arange(0, 2, 0.3)\n"
      ],
      "execution_count": 21,
      "outputs": [
        {
          "output_type": "execute_result",
          "data": {
            "text/plain": [
              "array([0. , 0.3, 0.6, 0.9, 1.2, 1.5, 1.8])"
            ]
          },
          "metadata": {
            "tags": []
          },
          "execution_count": 21
        }
      ]
    },
    {
      "cell_type": "code",
      "metadata": {
        "colab": {
          "base_uri": "https://localhost:8080/"
        },
        "id": "FLaZJmylXGbc",
        "outputId": "72971f40-a5ca-4b45-a4d8-18bea404164b"
      },
      "source": [
        "np.linspace(0, 2, 9)\n"
      ],
      "execution_count": 22,
      "outputs": [
        {
          "output_type": "execute_result",
          "data": {
            "text/plain": [
              "array([0.  , 0.25, 0.5 , 0.75, 1.  , 1.25, 1.5 , 1.75, 2.  ])"
            ]
          },
          "metadata": {
            "tags": []
          },
          "execution_count": 22
        }
      ]
    },
    {
      "cell_type": "code",
      "metadata": {
        "colab": {
          "base_uri": "https://localhost:8080/"
        },
        "id": "ioclM24CXGY3",
        "outputId": "ce4f0470-67d0-4229-c213-e6af853406ec"
      },
      "source": [
        "np.arange(0, 11, 1)**2"
      ],
      "execution_count": 23,
      "outputs": [
        {
          "output_type": "execute_result",
          "data": {
            "text/plain": [
              "array([  0,   1,   4,   9,  16,  25,  36,  49,  64,  81, 100])"
            ]
          },
          "metadata": {
            "tags": []
          },
          "execution_count": 23
        }
      ]
    },
    {
      "cell_type": "code",
      "metadata": {
        "colab": {
          "base_uri": "https://localhost:8080/"
        },
        "id": "P_KOtO8WXGVj",
        "outputId": "7bbe55a8-64e0-4bc9-cb3b-4a2fc167cd79"
      },
      "source": [
        "print(a)\n"
      ],
      "execution_count": 24,
      "outputs": [
        {
          "output_type": "stream",
          "text": [
            "[[ 0  1  2  3  4]\n",
            " [ 5  6  7  8  9]\n",
            " [10 11 12 13 14]]\n"
          ],
          "name": "stdout"
        }
      ]
    },
    {
      "cell_type": "code",
      "metadata": {
        "colab": {
          "base_uri": "https://localhost:8080/"
        },
        "id": "xGU52JygXGRk",
        "outputId": "2d9f84e7-d3a5-43d2-863f-3e74738972ab"
      },
      "source": [
        "print(a.reshape(5, 3))\n"
      ],
      "execution_count": 25,
      "outputs": [
        {
          "output_type": "stream",
          "text": [
            "[[ 0  1  2]\n",
            " [ 3  4  5]\n",
            " [ 6  7  8]\n",
            " [ 9 10 11]\n",
            " [12 13 14]]\n"
          ],
          "name": "stdout"
        }
      ]
    },
    {
      "cell_type": "code",
      "metadata": {
        "colab": {
          "base_uri": "https://localhost:8080/"
        },
        "id": "NNbawKIKXGHz",
        "outputId": "24f1e652-db14-4cc8-9e17-fe15ff14755d"
      },
      "source": [
        "print(np.arange(10000))"
      ],
      "execution_count": 26,
      "outputs": [
        {
          "output_type": "stream",
          "text": [
            "[   0    1    2 ... 9997 9998 9999]\n"
          ],
          "name": "stdout"
        }
      ]
    },
    {
      "cell_type": "code",
      "metadata": {
        "id": "BD1omjk6XFcV"
      },
      "source": [
        "A = np.array([[1, 1], [0, 1]])\n",
        "B = np.array([[2, 0], [3, 4]])\n"
      ],
      "execution_count": 27,
      "outputs": []
    },
    {
      "cell_type": "code",
      "metadata": {
        "colab": {
          "base_uri": "https://localhost:8080/"
        },
        "id": "YU4XNRB5XgW1",
        "outputId": "7b34a135-e682-4031-b226-dd0f810d0580"
      },
      "source": [
        "A+B"
      ],
      "execution_count": 28,
      "outputs": [
        {
          "output_type": "execute_result",
          "data": {
            "text/plain": [
              "array([[3, 1],\n",
              "       [3, 5]])"
            ]
          },
          "metadata": {
            "tags": []
          },
          "execution_count": 28
        }
      ]
    },
    {
      "cell_type": "code",
      "metadata": {
        "colab": {
          "base_uri": "https://localhost:8080/"
        },
        "id": "Mv5hFQqbXgMD",
        "outputId": "36318075-9a4e-45ee-b4cb-a97f5b33e51a"
      },
      "source": [
        "A-B"
      ],
      "execution_count": 29,
      "outputs": [
        {
          "output_type": "execute_result",
          "data": {
            "text/plain": [
              "array([[-1,  1],\n",
              "       [-3, -3]])"
            ]
          },
          "metadata": {
            "tags": []
          },
          "execution_count": 29
        }
      ]
    },
    {
      "cell_type": "code",
      "metadata": {
        "colab": {
          "base_uri": "https://localhost:8080/"
        },
        "id": "nGqGSYe_XgJL",
        "outputId": "6688da7f-1d07-46c3-9fdb-f9dd75c514a8"
      },
      "source": [
        "A*B"
      ],
      "execution_count": 30,
      "outputs": [
        {
          "output_type": "execute_result",
          "data": {
            "text/plain": [
              "array([[2, 0],\n",
              "       [0, 4]])"
            ]
          },
          "metadata": {
            "tags": []
          },
          "execution_count": 30
        }
      ]
    },
    {
      "cell_type": "code",
      "metadata": {
        "colab": {
          "base_uri": "https://localhost:8080/"
        },
        "id": "AHwizRQsXlK_",
        "outputId": "703a07e7-d3b1-4cc8-d614-a6a4abc447a8"
      },
      "source": [
        "A @ B"
      ],
      "execution_count": 31,
      "outputs": [
        {
          "output_type": "execute_result",
          "data": {
            "text/plain": [
              "array([[5, 4],\n",
              "       [3, 4]])"
            ]
          },
          "metadata": {
            "tags": []
          },
          "execution_count": 31
        }
      ]
    },
    {
      "cell_type": "code",
      "metadata": {
        "colab": {
          "base_uri": "https://localhost:8080/"
        },
        "id": "XKdWCUYzXlIX",
        "outputId": "c52a8a26-4c9a-4c06-f012-c707ecdc08ed"
      },
      "source": [
        "A/B"
      ],
      "execution_count": 32,
      "outputs": [
        {
          "output_type": "stream",
          "text": [
            "/usr/local/lib/python3.7/dist-packages/ipykernel_launcher.py:1: RuntimeWarning: divide by zero encountered in true_divide\n",
            "  \"\"\"Entry point for launching an IPython kernel.\n"
          ],
          "name": "stderr"
        },
        {
          "output_type": "execute_result",
          "data": {
            "text/plain": [
              "array([[0.5 ,  inf],\n",
              "       [0.  , 0.25]])"
            ]
          },
          "metadata": {
            "tags": []
          },
          "execution_count": 32
        }
      ]
    },
    {
      "cell_type": "code",
      "metadata": {
        "colab": {
          "base_uri": "https://localhost:8080/"
        },
        "id": "g95ONpDnXlFq",
        "outputId": "fa88e64c-d24d-4153-9ac3-1c19d1bc5e34"
      },
      "source": [
        " np.sin(np.arange(0, 2 * np.pi, np.pi / 6))"
      ],
      "execution_count": 33,
      "outputs": [
        {
          "output_type": "execute_result",
          "data": {
            "text/plain": [
              "array([ 0.00000000e+00,  5.00000000e-01,  8.66025404e-01,  1.00000000e+00,\n",
              "        8.66025404e-01,  5.00000000e-01,  1.22464680e-16, -5.00000000e-01,\n",
              "       -8.66025404e-01, -1.00000000e+00, -8.66025404e-01, -5.00000000e-01])"
            ]
          },
          "metadata": {
            "tags": []
          },
          "execution_count": 33
        }
      ]
    },
    {
      "cell_type": "code",
      "metadata": {
        "colab": {
          "base_uri": "https://localhost:8080/"
        },
        "id": "tPbqk6G6XlDK",
        "outputId": "fc640887-b352-4906-8d92-82f48cb1737d"
      },
      "source": [
        "A.dot(B)\n"
      ],
      "execution_count": 34,
      "outputs": [
        {
          "output_type": "execute_result",
          "data": {
            "text/plain": [
              "array([[5, 4],\n",
              "       [3, 4]])"
            ]
          },
          "metadata": {
            "tags": []
          },
          "execution_count": 34
        }
      ]
    },
    {
      "cell_type": "code",
      "metadata": {
        "colab": {
          "base_uri": "https://localhost:8080/"
        },
        "id": "Nwez8OaeXlAZ",
        "outputId": "4d68f278-6097-4f8e-f903-6c88844cfae2"
      },
      "source": [
        "a[:6:2]"
      ],
      "execution_count": 35,
      "outputs": [
        {
          "output_type": "execute_result",
          "data": {
            "text/plain": [
              "array([[ 0,  1,  2,  3,  4],\n",
              "       [10, 11, 12, 13, 14]])"
            ]
          },
          "metadata": {
            "tags": []
          },
          "execution_count": 35
        }
      ]
    },
    {
      "cell_type": "code",
      "metadata": {
        "colab": {
          "base_uri": "https://localhost:8080/"
        },
        "id": "C_IfAjhWXk9Z",
        "outputId": "ed10ee09-5fda-415e-f665-9b9594895f15"
      },
      "source": [
        "a[::-1]\n"
      ],
      "execution_count": 36,
      "outputs": [
        {
          "output_type": "execute_result",
          "data": {
            "text/plain": [
              "array([[10, 11, 12, 13, 14],\n",
              "       [ 5,  6,  7,  8,  9],\n",
              "       [ 0,  1,  2,  3,  4]])"
            ]
          },
          "metadata": {
            "tags": []
          },
          "execution_count": 36
        }
      ]
    },
    {
      "cell_type": "code",
      "metadata": {
        "colab": {
          "base_uri": "https://localhost:8080/"
        },
        "id": "whP9NQ1rXk3U",
        "outputId": "7a7a84be-5a61-42a5-ecd1-676267c31446"
      },
      "source": [
        "a[::-1]\n"
      ],
      "execution_count": 37,
      "outputs": [
        {
          "output_type": "execute_result",
          "data": {
            "text/plain": [
              "array([[10, 11, 12, 13, 14],\n",
              "       [ 5,  6,  7,  8,  9],\n",
              "       [ 0,  1,  2,  3,  4]])"
            ]
          },
          "metadata": {
            "tags": []
          },
          "execution_count": 37
        }
      ]
    },
    {
      "cell_type": "code",
      "metadata": {
        "colab": {
          "base_uri": "https://localhost:8080/"
        },
        "id": "AwccOk50Xkba",
        "outputId": "51430a27-dead-4d6c-aa42-a4c149c51f83"
      },
      "source": [
        " A.trace()"
      ],
      "execution_count": 38,
      "outputs": [
        {
          "output_type": "execute_result",
          "data": {
            "text/plain": [
              "2"
            ]
          },
          "metadata": {
            "tags": []
          },
          "execution_count": 38
        }
      ]
    },
    {
      "cell_type": "code",
      "metadata": {
        "colab": {
          "base_uri": "https://localhost:8080/"
        },
        "id": "QCIicfRGYkaa",
        "outputId": "02fdceee-c701-49d6-bc26-1ed10a97e076"
      },
      "source": [
        "A[0][[False, True]]\n"
      ],
      "execution_count": 39,
      "outputs": [
        {
          "output_type": "execute_result",
          "data": {
            "text/plain": [
              "array([1])"
            ]
          },
          "metadata": {
            "tags": []
          },
          "execution_count": 39
        }
      ]
    },
    {
      "cell_type": "markdown",
      "metadata": {
        "id": "pbS61lOaZPk6"
      },
      "source": [
        "# 1.2 Introduction To Pandas"
      ]
    },
    {
      "cell_type": "code",
      "metadata": {
        "id": "N_0ZGouIYkXh"
      },
      "source": [
        "import pandas as pd"
      ],
      "execution_count": 40,
      "outputs": []
    },
    {
      "cell_type": "code",
      "metadata": {
        "id": "P_aSrKplYkU3"
      },
      "source": [
        "s = pd.Series([1,3, 5, np.nan, 6, 8])\n"
      ],
      "execution_count": 41,
      "outputs": []
    },
    {
      "cell_type": "code",
      "metadata": {
        "colab": {
          "base_uri": "https://localhost:8080/"
        },
        "id": "GH9REY1WYkSO",
        "outputId": "f59ab261-1c94-462a-fc7d-7de9ff932e03"
      },
      "source": [
        "s"
      ],
      "execution_count": 42,
      "outputs": [
        {
          "output_type": "execute_result",
          "data": {
            "text/plain": [
              "0    1.0\n",
              "1    3.0\n",
              "2    5.0\n",
              "3    NaN\n",
              "4    6.0\n",
              "5    8.0\n",
              "dtype: float64"
            ]
          },
          "metadata": {
            "tags": []
          },
          "execution_count": 42
        }
      ]
    },
    {
      "cell_type": "code",
      "metadata": {
        "id": "XQzKHZGDYkPf"
      },
      "source": [
        "dates = pd.date_range('20130101', periods=6)\n"
      ],
      "execution_count": 43,
      "outputs": []
    },
    {
      "cell_type": "code",
      "metadata": {
        "colab": {
          "base_uri": "https://localhost:8080/"
        },
        "id": "MoMNhYhBYkM_",
        "outputId": "410feaba-10e7-42bb-bfd5-cd16bf169076"
      },
      "source": [
        "dates"
      ],
      "execution_count": 44,
      "outputs": [
        {
          "output_type": "execute_result",
          "data": {
            "text/plain": [
              "DatetimeIndex(['2013-01-01', '2013-01-02', '2013-01-03', '2013-01-04',\n",
              "               '2013-01-05', '2013-01-06'],\n",
              "              dtype='datetime64[ns]', freq='D')"
            ]
          },
          "metadata": {
            "tags": []
          },
          "execution_count": 44
        }
      ]
    },
    {
      "cell_type": "code",
      "metadata": {
        "id": "guagIDBLYkKY"
      },
      "source": [
        "df = pd.DataFrame(np.random.randn(6, 4), index=dates, columns=list('ABCD'))\n"
      ],
      "execution_count": 45,
      "outputs": []
    },
    {
      "cell_type": "code",
      "metadata": {
        "colab": {
          "base_uri": "https://localhost:8080/",
          "height": 234
        },
        "id": "ZJYPdixaYkHa",
        "outputId": "f9887d12-835f-4544-fc65-e94caeca5ae8"
      },
      "source": [
        "df"
      ],
      "execution_count": 46,
      "outputs": [
        {
          "output_type": "execute_result",
          "data": {
            "text/html": [
              "<div>\n",
              "<style scoped>\n",
              "    .dataframe tbody tr th:only-of-type {\n",
              "        vertical-align: middle;\n",
              "    }\n",
              "\n",
              "    .dataframe tbody tr th {\n",
              "        vertical-align: top;\n",
              "    }\n",
              "\n",
              "    .dataframe thead th {\n",
              "        text-align: right;\n",
              "    }\n",
              "</style>\n",
              "<table border=\"1\" class=\"dataframe\">\n",
              "  <thead>\n",
              "    <tr style=\"text-align: right;\">\n",
              "      <th></th>\n",
              "      <th>A</th>\n",
              "      <th>B</th>\n",
              "      <th>C</th>\n",
              "      <th>D</th>\n",
              "    </tr>\n",
              "  </thead>\n",
              "  <tbody>\n",
              "    <tr>\n",
              "      <th>2013-01-01</th>\n",
              "      <td>0.246267</td>\n",
              "      <td>1.989041</td>\n",
              "      <td>1.622371</td>\n",
              "      <td>-1.655383</td>\n",
              "    </tr>\n",
              "    <tr>\n",
              "      <th>2013-01-02</th>\n",
              "      <td>0.617953</td>\n",
              "      <td>0.780909</td>\n",
              "      <td>0.144204</td>\n",
              "      <td>-1.009016</td>\n",
              "    </tr>\n",
              "    <tr>\n",
              "      <th>2013-01-03</th>\n",
              "      <td>1.392900</td>\n",
              "      <td>-1.336249</td>\n",
              "      <td>-0.314047</td>\n",
              "      <td>1.602269</td>\n",
              "    </tr>\n",
              "    <tr>\n",
              "      <th>2013-01-04</th>\n",
              "      <td>-0.160673</td>\n",
              "      <td>-0.480174</td>\n",
              "      <td>-0.598889</td>\n",
              "      <td>-0.285122</td>\n",
              "    </tr>\n",
              "    <tr>\n",
              "      <th>2013-01-05</th>\n",
              "      <td>-0.370925</td>\n",
              "      <td>0.623369</td>\n",
              "      <td>0.636178</td>\n",
              "      <td>0.077903</td>\n",
              "    </tr>\n",
              "    <tr>\n",
              "      <th>2013-01-06</th>\n",
              "      <td>-0.197939</td>\n",
              "      <td>-0.783883</td>\n",
              "      <td>-0.887962</td>\n",
              "      <td>-0.654281</td>\n",
              "    </tr>\n",
              "  </tbody>\n",
              "</table>\n",
              "</div>"
            ],
            "text/plain": [
              "                   A         B         C         D\n",
              "2013-01-01  0.246267  1.989041  1.622371 -1.655383\n",
              "2013-01-02  0.617953  0.780909  0.144204 -1.009016\n",
              "2013-01-03  1.392900 -1.336249 -0.314047  1.602269\n",
              "2013-01-04 -0.160673 -0.480174 -0.598889 -0.285122\n",
              "2013-01-05 -0.370925  0.623369  0.636178  0.077903\n",
              "2013-01-06 -0.197939 -0.783883 -0.887962 -0.654281"
            ]
          },
          "metadata": {
            "tags": []
          },
          "execution_count": 46
        }
      ]
    },
    {
      "cell_type": "code",
      "metadata": {
        "id": "M4CPlPPXYkEX"
      },
      "source": [
        "df2 = pd.DataFrame({\n",
        "'A' : 1.0,\n",
        "'B' : pd.Timestamp('20130102'),\n",
        "'C' : pd.Series(1, index=list(range(4)), dtype='float32'),\n",
        "'D' : np.array([3] * 4, dtype='int32'),\n",
        "'E' : pd.Categorical(['test', 'train', 'test', 'train']),\n",
        "'F' : 'foo'\n",
        "})"
      ],
      "execution_count": 47,
      "outputs": []
    },
    {
      "cell_type": "code",
      "metadata": {
        "colab": {
          "base_uri": "https://localhost:8080/",
          "height": 172
        },
        "id": "9g0ANNvRYkBm",
        "outputId": "7c7f37a5-cc89-4cb6-f5f5-eb3511e9d35b"
      },
      "source": [
        "df2"
      ],
      "execution_count": 48,
      "outputs": [
        {
          "output_type": "execute_result",
          "data": {
            "text/html": [
              "<div>\n",
              "<style scoped>\n",
              "    .dataframe tbody tr th:only-of-type {\n",
              "        vertical-align: middle;\n",
              "    }\n",
              "\n",
              "    .dataframe tbody tr th {\n",
              "        vertical-align: top;\n",
              "    }\n",
              "\n",
              "    .dataframe thead th {\n",
              "        text-align: right;\n",
              "    }\n",
              "</style>\n",
              "<table border=\"1\" class=\"dataframe\">\n",
              "  <thead>\n",
              "    <tr style=\"text-align: right;\">\n",
              "      <th></th>\n",
              "      <th>A</th>\n",
              "      <th>B</th>\n",
              "      <th>C</th>\n",
              "      <th>D</th>\n",
              "      <th>E</th>\n",
              "      <th>F</th>\n",
              "    </tr>\n",
              "  </thead>\n",
              "  <tbody>\n",
              "    <tr>\n",
              "      <th>0</th>\n",
              "      <td>1.0</td>\n",
              "      <td>2013-01-02</td>\n",
              "      <td>1.0</td>\n",
              "      <td>3</td>\n",
              "      <td>test</td>\n",
              "      <td>foo</td>\n",
              "    </tr>\n",
              "    <tr>\n",
              "      <th>1</th>\n",
              "      <td>1.0</td>\n",
              "      <td>2013-01-02</td>\n",
              "      <td>1.0</td>\n",
              "      <td>3</td>\n",
              "      <td>train</td>\n",
              "      <td>foo</td>\n",
              "    </tr>\n",
              "    <tr>\n",
              "      <th>2</th>\n",
              "      <td>1.0</td>\n",
              "      <td>2013-01-02</td>\n",
              "      <td>1.0</td>\n",
              "      <td>3</td>\n",
              "      <td>test</td>\n",
              "      <td>foo</td>\n",
              "    </tr>\n",
              "    <tr>\n",
              "      <th>3</th>\n",
              "      <td>1.0</td>\n",
              "      <td>2013-01-02</td>\n",
              "      <td>1.0</td>\n",
              "      <td>3</td>\n",
              "      <td>train</td>\n",
              "      <td>foo</td>\n",
              "    </tr>\n",
              "  </tbody>\n",
              "</table>\n",
              "</div>"
            ],
            "text/plain": [
              "     A          B    C  D      E    F\n",
              "0  1.0 2013-01-02  1.0  3   test  foo\n",
              "1  1.0 2013-01-02  1.0  3  train  foo\n",
              "2  1.0 2013-01-02  1.0  3   test  foo\n",
              "3  1.0 2013-01-02  1.0  3  train  foo"
            ]
          },
          "metadata": {
            "tags": []
          },
          "execution_count": 48
        }
      ]
    },
    {
      "cell_type": "code",
      "metadata": {
        "colab": {
          "base_uri": "https://localhost:8080/"
        },
        "id": "AQ7H8cwWYj98",
        "outputId": "7864a18d-7334-4c8c-bb2e-96c1df4989b7"
      },
      "source": [
        "df2.dtypes"
      ],
      "execution_count": 49,
      "outputs": [
        {
          "output_type": "execute_result",
          "data": {
            "text/plain": [
              "A           float64\n",
              "B    datetime64[ns]\n",
              "C           float32\n",
              "D             int32\n",
              "E          category\n",
              "F            object\n",
              "dtype: object"
            ]
          },
          "metadata": {
            "tags": []
          },
          "execution_count": 49
        }
      ]
    },
    {
      "cell_type": "code",
      "metadata": {
        "colab": {
          "base_uri": "https://localhost:8080/",
          "height": 203
        },
        "id": "5BX-df8sYj2M",
        "outputId": "0608b62e-21b0-43b7-b72a-2f2e65cb1db2"
      },
      "source": [
        "df.head()"
      ],
      "execution_count": 50,
      "outputs": [
        {
          "output_type": "execute_result",
          "data": {
            "text/html": [
              "<div>\n",
              "<style scoped>\n",
              "    .dataframe tbody tr th:only-of-type {\n",
              "        vertical-align: middle;\n",
              "    }\n",
              "\n",
              "    .dataframe tbody tr th {\n",
              "        vertical-align: top;\n",
              "    }\n",
              "\n",
              "    .dataframe thead th {\n",
              "        text-align: right;\n",
              "    }\n",
              "</style>\n",
              "<table border=\"1\" class=\"dataframe\">\n",
              "  <thead>\n",
              "    <tr style=\"text-align: right;\">\n",
              "      <th></th>\n",
              "      <th>A</th>\n",
              "      <th>B</th>\n",
              "      <th>C</th>\n",
              "      <th>D</th>\n",
              "    </tr>\n",
              "  </thead>\n",
              "  <tbody>\n",
              "    <tr>\n",
              "      <th>2013-01-01</th>\n",
              "      <td>0.246267</td>\n",
              "      <td>1.989041</td>\n",
              "      <td>1.622371</td>\n",
              "      <td>-1.655383</td>\n",
              "    </tr>\n",
              "    <tr>\n",
              "      <th>2013-01-02</th>\n",
              "      <td>0.617953</td>\n",
              "      <td>0.780909</td>\n",
              "      <td>0.144204</td>\n",
              "      <td>-1.009016</td>\n",
              "    </tr>\n",
              "    <tr>\n",
              "      <th>2013-01-03</th>\n",
              "      <td>1.392900</td>\n",
              "      <td>-1.336249</td>\n",
              "      <td>-0.314047</td>\n",
              "      <td>1.602269</td>\n",
              "    </tr>\n",
              "    <tr>\n",
              "      <th>2013-01-04</th>\n",
              "      <td>-0.160673</td>\n",
              "      <td>-0.480174</td>\n",
              "      <td>-0.598889</td>\n",
              "      <td>-0.285122</td>\n",
              "    </tr>\n",
              "    <tr>\n",
              "      <th>2013-01-05</th>\n",
              "      <td>-0.370925</td>\n",
              "      <td>0.623369</td>\n",
              "      <td>0.636178</td>\n",
              "      <td>0.077903</td>\n",
              "    </tr>\n",
              "  </tbody>\n",
              "</table>\n",
              "</div>"
            ],
            "text/plain": [
              "                   A         B         C         D\n",
              "2013-01-01  0.246267  1.989041  1.622371 -1.655383\n",
              "2013-01-02  0.617953  0.780909  0.144204 -1.009016\n",
              "2013-01-03  1.392900 -1.336249 -0.314047  1.602269\n",
              "2013-01-04 -0.160673 -0.480174 -0.598889 -0.285122\n",
              "2013-01-05 -0.370925  0.623369  0.636178  0.077903"
            ]
          },
          "metadata": {
            "tags": []
          },
          "execution_count": 50
        }
      ]
    },
    {
      "cell_type": "code",
      "metadata": {
        "colab": {
          "base_uri": "https://localhost:8080/",
          "height": 142
        },
        "id": "Qn_GVXMwaSL9",
        "outputId": "00a39cbd-207f-4c28-9402-d4b046f24111"
      },
      "source": [
        "df.tail(3)"
      ],
      "execution_count": 51,
      "outputs": [
        {
          "output_type": "execute_result",
          "data": {
            "text/html": [
              "<div>\n",
              "<style scoped>\n",
              "    .dataframe tbody tr th:only-of-type {\n",
              "        vertical-align: middle;\n",
              "    }\n",
              "\n",
              "    .dataframe tbody tr th {\n",
              "        vertical-align: top;\n",
              "    }\n",
              "\n",
              "    .dataframe thead th {\n",
              "        text-align: right;\n",
              "    }\n",
              "</style>\n",
              "<table border=\"1\" class=\"dataframe\">\n",
              "  <thead>\n",
              "    <tr style=\"text-align: right;\">\n",
              "      <th></th>\n",
              "      <th>A</th>\n",
              "      <th>B</th>\n",
              "      <th>C</th>\n",
              "      <th>D</th>\n",
              "    </tr>\n",
              "  </thead>\n",
              "  <tbody>\n",
              "    <tr>\n",
              "      <th>2013-01-04</th>\n",
              "      <td>-0.160673</td>\n",
              "      <td>-0.480174</td>\n",
              "      <td>-0.598889</td>\n",
              "      <td>-0.285122</td>\n",
              "    </tr>\n",
              "    <tr>\n",
              "      <th>2013-01-05</th>\n",
              "      <td>-0.370925</td>\n",
              "      <td>0.623369</td>\n",
              "      <td>0.636178</td>\n",
              "      <td>0.077903</td>\n",
              "    </tr>\n",
              "    <tr>\n",
              "      <th>2013-01-06</th>\n",
              "      <td>-0.197939</td>\n",
              "      <td>-0.783883</td>\n",
              "      <td>-0.887962</td>\n",
              "      <td>-0.654281</td>\n",
              "    </tr>\n",
              "  </tbody>\n",
              "</table>\n",
              "</div>"
            ],
            "text/plain": [
              "                   A         B         C         D\n",
              "2013-01-04 -0.160673 -0.480174 -0.598889 -0.285122\n",
              "2013-01-05 -0.370925  0.623369  0.636178  0.077903\n",
              "2013-01-06 -0.197939 -0.783883 -0.887962 -0.654281"
            ]
          },
          "metadata": {
            "tags": []
          },
          "execution_count": 51
        }
      ]
    },
    {
      "cell_type": "code",
      "metadata": {
        "colab": {
          "base_uri": "https://localhost:8080/"
        },
        "id": "xhoaImxKaSJs",
        "outputId": "be77c7da-e6df-4b98-9464-784e3002a258"
      },
      "source": [
        "df.index"
      ],
      "execution_count": 52,
      "outputs": [
        {
          "output_type": "execute_result",
          "data": {
            "text/plain": [
              "DatetimeIndex(['2013-01-01', '2013-01-02', '2013-01-03', '2013-01-04',\n",
              "               '2013-01-05', '2013-01-06'],\n",
              "              dtype='datetime64[ns]', freq='D')"
            ]
          },
          "metadata": {
            "tags": []
          },
          "execution_count": 52
        }
      ]
    },
    {
      "cell_type": "code",
      "metadata": {
        "colab": {
          "base_uri": "https://localhost:8080/"
        },
        "id": "BjcLfOtiaSHd",
        "outputId": "a741b740-1992-41c2-dd54-c3b0563e5735"
      },
      "source": [
        "df.columns"
      ],
      "execution_count": 53,
      "outputs": [
        {
          "output_type": "execute_result",
          "data": {
            "text/plain": [
              "Index(['A', 'B', 'C', 'D'], dtype='object')"
            ]
          },
          "metadata": {
            "tags": []
          },
          "execution_count": 53
        }
      ]
    },
    {
      "cell_type": "code",
      "metadata": {
        "colab": {
          "base_uri": "https://localhost:8080/"
        },
        "id": "FcI3CjEPaSE-",
        "outputId": "883c6c97-6382-4f70-f565-fc90229c214f"
      },
      "source": [
        "df.to_numpy()"
      ],
      "execution_count": 54,
      "outputs": [
        {
          "output_type": "execute_result",
          "data": {
            "text/plain": [
              "array([[ 0.24626705,  1.98904088,  1.62237067, -1.6553834 ],\n",
              "       [ 0.61795308,  0.78090933,  0.14420434, -1.00901582],\n",
              "       [ 1.39290005, -1.33624861, -0.31404697,  1.60226865],\n",
              "       [-0.16067314, -0.48017366, -0.59888881, -0.28512197],\n",
              "       [-0.37092496,  0.62336912,  0.63617839,  0.07790301],\n",
              "       [-0.19793877, -0.7838831 , -0.88796207, -0.65428143]])"
            ]
          },
          "metadata": {
            "tags": []
          },
          "execution_count": 54
        }
      ]
    },
    {
      "cell_type": "code",
      "metadata": {
        "colab": {
          "base_uri": "https://localhost:8080/"
        },
        "id": "8aVR-YxSaSCQ",
        "outputId": "1a7f0b6a-b0af-4e3d-effd-f8201857e844"
      },
      "source": [
        "df2.to_numpy()\n"
      ],
      "execution_count": 55,
      "outputs": [
        {
          "output_type": "execute_result",
          "data": {
            "text/plain": [
              "array([[1.0, Timestamp('2013-01-02 00:00:00'), 1.0, 3, 'test', 'foo'],\n",
              "       [1.0, Timestamp('2013-01-02 00:00:00'), 1.0, 3, 'train', 'foo'],\n",
              "       [1.0, Timestamp('2013-01-02 00:00:00'), 1.0, 3, 'test', 'foo'],\n",
              "       [1.0, Timestamp('2013-01-02 00:00:00'), 1.0, 3, 'train', 'foo']],\n",
              "      dtype=object)"
            ]
          },
          "metadata": {
            "tags": []
          },
          "execution_count": 55
        }
      ]
    },
    {
      "cell_type": "code",
      "metadata": {
        "colab": {
          "base_uri": "https://localhost:8080/",
          "height": 295
        },
        "id": "w7aXu6B9aSAH",
        "outputId": "c620c94f-36ae-472a-ad78-16d09615ee1d"
      },
      "source": [
        "df.describe()"
      ],
      "execution_count": 56,
      "outputs": [
        {
          "output_type": "execute_result",
          "data": {
            "text/html": [
              "<div>\n",
              "<style scoped>\n",
              "    .dataframe tbody tr th:only-of-type {\n",
              "        vertical-align: middle;\n",
              "    }\n",
              "\n",
              "    .dataframe tbody tr th {\n",
              "        vertical-align: top;\n",
              "    }\n",
              "\n",
              "    .dataframe thead th {\n",
              "        text-align: right;\n",
              "    }\n",
              "</style>\n",
              "<table border=\"1\" class=\"dataframe\">\n",
              "  <thead>\n",
              "    <tr style=\"text-align: right;\">\n",
              "      <th></th>\n",
              "      <th>A</th>\n",
              "      <th>B</th>\n",
              "      <th>C</th>\n",
              "      <th>D</th>\n",
              "    </tr>\n",
              "  </thead>\n",
              "  <tbody>\n",
              "    <tr>\n",
              "      <th>count</th>\n",
              "      <td>6.000000</td>\n",
              "      <td>6.000000</td>\n",
              "      <td>6.000000</td>\n",
              "      <td>6.000000</td>\n",
              "    </tr>\n",
              "    <tr>\n",
              "      <th>mean</th>\n",
              "      <td>0.254597</td>\n",
              "      <td>0.132169</td>\n",
              "      <td>0.100309</td>\n",
              "      <td>-0.320605</td>\n",
              "    </tr>\n",
              "    <tr>\n",
              "      <th>std</th>\n",
              "      <td>0.662774</td>\n",
              "      <td>1.223150</td>\n",
              "      <td>0.921195</td>\n",
              "      <td>1.115741</td>\n",
              "    </tr>\n",
              "    <tr>\n",
              "      <th>min</th>\n",
              "      <td>-0.370925</td>\n",
              "      <td>-1.336249</td>\n",
              "      <td>-0.887962</td>\n",
              "      <td>-1.655383</td>\n",
              "    </tr>\n",
              "    <tr>\n",
              "      <th>25%</th>\n",
              "      <td>-0.188622</td>\n",
              "      <td>-0.707956</td>\n",
              "      <td>-0.527678</td>\n",
              "      <td>-0.920332</td>\n",
              "    </tr>\n",
              "    <tr>\n",
              "      <th>50%</th>\n",
              "      <td>0.042797</td>\n",
              "      <td>0.071598</td>\n",
              "      <td>-0.084921</td>\n",
              "      <td>-0.469702</td>\n",
              "    </tr>\n",
              "    <tr>\n",
              "      <th>75%</th>\n",
              "      <td>0.525032</td>\n",
              "      <td>0.741524</td>\n",
              "      <td>0.513185</td>\n",
              "      <td>-0.012853</td>\n",
              "    </tr>\n",
              "    <tr>\n",
              "      <th>max</th>\n",
              "      <td>1.392900</td>\n",
              "      <td>1.989041</td>\n",
              "      <td>1.622371</td>\n",
              "      <td>1.602269</td>\n",
              "    </tr>\n",
              "  </tbody>\n",
              "</table>\n",
              "</div>"
            ],
            "text/plain": [
              "              A         B         C         D\n",
              "count  6.000000  6.000000  6.000000  6.000000\n",
              "mean   0.254597  0.132169  0.100309 -0.320605\n",
              "std    0.662774  1.223150  0.921195  1.115741\n",
              "min   -0.370925 -1.336249 -0.887962 -1.655383\n",
              "25%   -0.188622 -0.707956 -0.527678 -0.920332\n",
              "50%    0.042797  0.071598 -0.084921 -0.469702\n",
              "75%    0.525032  0.741524  0.513185 -0.012853\n",
              "max    1.392900  1.989041  1.622371  1.602269"
            ]
          },
          "metadata": {
            "tags": []
          },
          "execution_count": 56
        }
      ]
    },
    {
      "cell_type": "code",
      "metadata": {
        "colab": {
          "base_uri": "https://localhost:8080/",
          "height": 172
        },
        "id": "psYWh63faR9N",
        "outputId": "e46ad40d-d1e0-4e2c-e355-4475c56003bf"
      },
      "source": [
        "df.T"
      ],
      "execution_count": 57,
      "outputs": [
        {
          "output_type": "execute_result",
          "data": {
            "text/html": [
              "<div>\n",
              "<style scoped>\n",
              "    .dataframe tbody tr th:only-of-type {\n",
              "        vertical-align: middle;\n",
              "    }\n",
              "\n",
              "    .dataframe tbody tr th {\n",
              "        vertical-align: top;\n",
              "    }\n",
              "\n",
              "    .dataframe thead th {\n",
              "        text-align: right;\n",
              "    }\n",
              "</style>\n",
              "<table border=\"1\" class=\"dataframe\">\n",
              "  <thead>\n",
              "    <tr style=\"text-align: right;\">\n",
              "      <th></th>\n",
              "      <th>2013-01-01</th>\n",
              "      <th>2013-01-02</th>\n",
              "      <th>2013-01-03</th>\n",
              "      <th>2013-01-04</th>\n",
              "      <th>2013-01-05</th>\n",
              "      <th>2013-01-06</th>\n",
              "    </tr>\n",
              "  </thead>\n",
              "  <tbody>\n",
              "    <tr>\n",
              "      <th>A</th>\n",
              "      <td>0.246267</td>\n",
              "      <td>0.617953</td>\n",
              "      <td>1.392900</td>\n",
              "      <td>-0.160673</td>\n",
              "      <td>-0.370925</td>\n",
              "      <td>-0.197939</td>\n",
              "    </tr>\n",
              "    <tr>\n",
              "      <th>B</th>\n",
              "      <td>1.989041</td>\n",
              "      <td>0.780909</td>\n",
              "      <td>-1.336249</td>\n",
              "      <td>-0.480174</td>\n",
              "      <td>0.623369</td>\n",
              "      <td>-0.783883</td>\n",
              "    </tr>\n",
              "    <tr>\n",
              "      <th>C</th>\n",
              "      <td>1.622371</td>\n",
              "      <td>0.144204</td>\n",
              "      <td>-0.314047</td>\n",
              "      <td>-0.598889</td>\n",
              "      <td>0.636178</td>\n",
              "      <td>-0.887962</td>\n",
              "    </tr>\n",
              "    <tr>\n",
              "      <th>D</th>\n",
              "      <td>-1.655383</td>\n",
              "      <td>-1.009016</td>\n",
              "      <td>1.602269</td>\n",
              "      <td>-0.285122</td>\n",
              "      <td>0.077903</td>\n",
              "      <td>-0.654281</td>\n",
              "    </tr>\n",
              "  </tbody>\n",
              "</table>\n",
              "</div>"
            ],
            "text/plain": [
              "   2013-01-01  2013-01-02  2013-01-03  2013-01-04  2013-01-05  2013-01-06\n",
              "A    0.246267    0.617953    1.392900   -0.160673   -0.370925   -0.197939\n",
              "B    1.989041    0.780909   -1.336249   -0.480174    0.623369   -0.783883\n",
              "C    1.622371    0.144204   -0.314047   -0.598889    0.636178   -0.887962\n",
              "D   -1.655383   -1.009016    1.602269   -0.285122    0.077903   -0.654281"
            ]
          },
          "metadata": {
            "tags": []
          },
          "execution_count": 57
        }
      ]
    },
    {
      "cell_type": "code",
      "metadata": {
        "colab": {
          "base_uri": "https://localhost:8080/",
          "height": 234
        },
        "id": "WRorR6g2aR5p",
        "outputId": "61fd441c-7df5-4e54-d4e8-703b9e3bc921"
      },
      "source": [
        "df.sort_index(axis=1, ascending=False)\n"
      ],
      "execution_count": 58,
      "outputs": [
        {
          "output_type": "execute_result",
          "data": {
            "text/html": [
              "<div>\n",
              "<style scoped>\n",
              "    .dataframe tbody tr th:only-of-type {\n",
              "        vertical-align: middle;\n",
              "    }\n",
              "\n",
              "    .dataframe tbody tr th {\n",
              "        vertical-align: top;\n",
              "    }\n",
              "\n",
              "    .dataframe thead th {\n",
              "        text-align: right;\n",
              "    }\n",
              "</style>\n",
              "<table border=\"1\" class=\"dataframe\">\n",
              "  <thead>\n",
              "    <tr style=\"text-align: right;\">\n",
              "      <th></th>\n",
              "      <th>D</th>\n",
              "      <th>C</th>\n",
              "      <th>B</th>\n",
              "      <th>A</th>\n",
              "    </tr>\n",
              "  </thead>\n",
              "  <tbody>\n",
              "    <tr>\n",
              "      <th>2013-01-01</th>\n",
              "      <td>-1.655383</td>\n",
              "      <td>1.622371</td>\n",
              "      <td>1.989041</td>\n",
              "      <td>0.246267</td>\n",
              "    </tr>\n",
              "    <tr>\n",
              "      <th>2013-01-02</th>\n",
              "      <td>-1.009016</td>\n",
              "      <td>0.144204</td>\n",
              "      <td>0.780909</td>\n",
              "      <td>0.617953</td>\n",
              "    </tr>\n",
              "    <tr>\n",
              "      <th>2013-01-03</th>\n",
              "      <td>1.602269</td>\n",
              "      <td>-0.314047</td>\n",
              "      <td>-1.336249</td>\n",
              "      <td>1.392900</td>\n",
              "    </tr>\n",
              "    <tr>\n",
              "      <th>2013-01-04</th>\n",
              "      <td>-0.285122</td>\n",
              "      <td>-0.598889</td>\n",
              "      <td>-0.480174</td>\n",
              "      <td>-0.160673</td>\n",
              "    </tr>\n",
              "    <tr>\n",
              "      <th>2013-01-05</th>\n",
              "      <td>0.077903</td>\n",
              "      <td>0.636178</td>\n",
              "      <td>0.623369</td>\n",
              "      <td>-0.370925</td>\n",
              "    </tr>\n",
              "    <tr>\n",
              "      <th>2013-01-06</th>\n",
              "      <td>-0.654281</td>\n",
              "      <td>-0.887962</td>\n",
              "      <td>-0.783883</td>\n",
              "      <td>-0.197939</td>\n",
              "    </tr>\n",
              "  </tbody>\n",
              "</table>\n",
              "</div>"
            ],
            "text/plain": [
              "                   D         C         B         A\n",
              "2013-01-01 -1.655383  1.622371  1.989041  0.246267\n",
              "2013-01-02 -1.009016  0.144204  0.780909  0.617953\n",
              "2013-01-03  1.602269 -0.314047 -1.336249  1.392900\n",
              "2013-01-04 -0.285122 -0.598889 -0.480174 -0.160673\n",
              "2013-01-05  0.077903  0.636178  0.623369 -0.370925\n",
              "2013-01-06 -0.654281 -0.887962 -0.783883 -0.197939"
            ]
          },
          "metadata": {
            "tags": []
          },
          "execution_count": 58
        }
      ]
    },
    {
      "cell_type": "code",
      "metadata": {
        "colab": {
          "base_uri": "https://localhost:8080/",
          "height": 234
        },
        "id": "kVCN6cLmaRx1",
        "outputId": "932da3ed-7ab9-4303-a7f7-e8a365fccc84"
      },
      "source": [
        "df.sort_values(by='B')\n"
      ],
      "execution_count": 59,
      "outputs": [
        {
          "output_type": "execute_result",
          "data": {
            "text/html": [
              "<div>\n",
              "<style scoped>\n",
              "    .dataframe tbody tr th:only-of-type {\n",
              "        vertical-align: middle;\n",
              "    }\n",
              "\n",
              "    .dataframe tbody tr th {\n",
              "        vertical-align: top;\n",
              "    }\n",
              "\n",
              "    .dataframe thead th {\n",
              "        text-align: right;\n",
              "    }\n",
              "</style>\n",
              "<table border=\"1\" class=\"dataframe\">\n",
              "  <thead>\n",
              "    <tr style=\"text-align: right;\">\n",
              "      <th></th>\n",
              "      <th>A</th>\n",
              "      <th>B</th>\n",
              "      <th>C</th>\n",
              "      <th>D</th>\n",
              "    </tr>\n",
              "  </thead>\n",
              "  <tbody>\n",
              "    <tr>\n",
              "      <th>2013-01-03</th>\n",
              "      <td>1.392900</td>\n",
              "      <td>-1.336249</td>\n",
              "      <td>-0.314047</td>\n",
              "      <td>1.602269</td>\n",
              "    </tr>\n",
              "    <tr>\n",
              "      <th>2013-01-06</th>\n",
              "      <td>-0.197939</td>\n",
              "      <td>-0.783883</td>\n",
              "      <td>-0.887962</td>\n",
              "      <td>-0.654281</td>\n",
              "    </tr>\n",
              "    <tr>\n",
              "      <th>2013-01-04</th>\n",
              "      <td>-0.160673</td>\n",
              "      <td>-0.480174</td>\n",
              "      <td>-0.598889</td>\n",
              "      <td>-0.285122</td>\n",
              "    </tr>\n",
              "    <tr>\n",
              "      <th>2013-01-05</th>\n",
              "      <td>-0.370925</td>\n",
              "      <td>0.623369</td>\n",
              "      <td>0.636178</td>\n",
              "      <td>0.077903</td>\n",
              "    </tr>\n",
              "    <tr>\n",
              "      <th>2013-01-02</th>\n",
              "      <td>0.617953</td>\n",
              "      <td>0.780909</td>\n",
              "      <td>0.144204</td>\n",
              "      <td>-1.009016</td>\n",
              "    </tr>\n",
              "    <tr>\n",
              "      <th>2013-01-01</th>\n",
              "      <td>0.246267</td>\n",
              "      <td>1.989041</td>\n",
              "      <td>1.622371</td>\n",
              "      <td>-1.655383</td>\n",
              "    </tr>\n",
              "  </tbody>\n",
              "</table>\n",
              "</div>"
            ],
            "text/plain": [
              "                   A         B         C         D\n",
              "2013-01-03  1.392900 -1.336249 -0.314047  1.602269\n",
              "2013-01-06 -0.197939 -0.783883 -0.887962 -0.654281\n",
              "2013-01-04 -0.160673 -0.480174 -0.598889 -0.285122\n",
              "2013-01-05 -0.370925  0.623369  0.636178  0.077903\n",
              "2013-01-02  0.617953  0.780909  0.144204 -1.009016\n",
              "2013-01-01  0.246267  1.989041  1.622371 -1.655383"
            ]
          },
          "metadata": {
            "tags": []
          },
          "execution_count": 59
        }
      ]
    },
    {
      "cell_type": "code",
      "metadata": {
        "colab": {
          "base_uri": "https://localhost:8080/"
        },
        "id": "rQyjk-FaanyU",
        "outputId": "4fdb17cf-310e-4b55-8756-7a92fb6b7c89"
      },
      "source": [
        "df['A']\n"
      ],
      "execution_count": 60,
      "outputs": [
        {
          "output_type": "execute_result",
          "data": {
            "text/plain": [
              "2013-01-01    0.246267\n",
              "2013-01-02    0.617953\n",
              "2013-01-03    1.392900\n",
              "2013-01-04   -0.160673\n",
              "2013-01-05   -0.370925\n",
              "2013-01-06   -0.197939\n",
              "Freq: D, Name: A, dtype: float64"
            ]
          },
          "metadata": {
            "tags": []
          },
          "execution_count": 60
        }
      ]
    },
    {
      "cell_type": "code",
      "metadata": {
        "colab": {
          "base_uri": "https://localhost:8080/",
          "height": 142
        },
        "id": "FTuARhEEanvr",
        "outputId": "411e044e-0118-42f1-c185-df0756c2c43b"
      },
      "source": [
        "df[0:3]"
      ],
      "execution_count": 61,
      "outputs": [
        {
          "output_type": "execute_result",
          "data": {
            "text/html": [
              "<div>\n",
              "<style scoped>\n",
              "    .dataframe tbody tr th:only-of-type {\n",
              "        vertical-align: middle;\n",
              "    }\n",
              "\n",
              "    .dataframe tbody tr th {\n",
              "        vertical-align: top;\n",
              "    }\n",
              "\n",
              "    .dataframe thead th {\n",
              "        text-align: right;\n",
              "    }\n",
              "</style>\n",
              "<table border=\"1\" class=\"dataframe\">\n",
              "  <thead>\n",
              "    <tr style=\"text-align: right;\">\n",
              "      <th></th>\n",
              "      <th>A</th>\n",
              "      <th>B</th>\n",
              "      <th>C</th>\n",
              "      <th>D</th>\n",
              "    </tr>\n",
              "  </thead>\n",
              "  <tbody>\n",
              "    <tr>\n",
              "      <th>2013-01-01</th>\n",
              "      <td>0.246267</td>\n",
              "      <td>1.989041</td>\n",
              "      <td>1.622371</td>\n",
              "      <td>-1.655383</td>\n",
              "    </tr>\n",
              "    <tr>\n",
              "      <th>2013-01-02</th>\n",
              "      <td>0.617953</td>\n",
              "      <td>0.780909</td>\n",
              "      <td>0.144204</td>\n",
              "      <td>-1.009016</td>\n",
              "    </tr>\n",
              "    <tr>\n",
              "      <th>2013-01-03</th>\n",
              "      <td>1.392900</td>\n",
              "      <td>-1.336249</td>\n",
              "      <td>-0.314047</td>\n",
              "      <td>1.602269</td>\n",
              "    </tr>\n",
              "  </tbody>\n",
              "</table>\n",
              "</div>"
            ],
            "text/plain": [
              "                   A         B         C         D\n",
              "2013-01-01  0.246267  1.989041  1.622371 -1.655383\n",
              "2013-01-02  0.617953  0.780909  0.144204 -1.009016\n",
              "2013-01-03  1.392900 -1.336249 -0.314047  1.602269"
            ]
          },
          "metadata": {
            "tags": []
          },
          "execution_count": 61
        }
      ]
    },
    {
      "cell_type": "code",
      "metadata": {
        "colab": {
          "base_uri": "https://localhost:8080/",
          "height": 142
        },
        "id": "JxGZjZxsanta",
        "outputId": "eeb8dd88-076c-4d42-cd56-583c3c7f0803"
      },
      "source": [
        "df['20130102':'20130104']\n"
      ],
      "execution_count": 62,
      "outputs": [
        {
          "output_type": "execute_result",
          "data": {
            "text/html": [
              "<div>\n",
              "<style scoped>\n",
              "    .dataframe tbody tr th:only-of-type {\n",
              "        vertical-align: middle;\n",
              "    }\n",
              "\n",
              "    .dataframe tbody tr th {\n",
              "        vertical-align: top;\n",
              "    }\n",
              "\n",
              "    .dataframe thead th {\n",
              "        text-align: right;\n",
              "    }\n",
              "</style>\n",
              "<table border=\"1\" class=\"dataframe\">\n",
              "  <thead>\n",
              "    <tr style=\"text-align: right;\">\n",
              "      <th></th>\n",
              "      <th>A</th>\n",
              "      <th>B</th>\n",
              "      <th>C</th>\n",
              "      <th>D</th>\n",
              "    </tr>\n",
              "  </thead>\n",
              "  <tbody>\n",
              "    <tr>\n",
              "      <th>2013-01-02</th>\n",
              "      <td>0.617953</td>\n",
              "      <td>0.780909</td>\n",
              "      <td>0.144204</td>\n",
              "      <td>-1.009016</td>\n",
              "    </tr>\n",
              "    <tr>\n",
              "      <th>2013-01-03</th>\n",
              "      <td>1.392900</td>\n",
              "      <td>-1.336249</td>\n",
              "      <td>-0.314047</td>\n",
              "      <td>1.602269</td>\n",
              "    </tr>\n",
              "    <tr>\n",
              "      <th>2013-01-04</th>\n",
              "      <td>-0.160673</td>\n",
              "      <td>-0.480174</td>\n",
              "      <td>-0.598889</td>\n",
              "      <td>-0.285122</td>\n",
              "    </tr>\n",
              "  </tbody>\n",
              "</table>\n",
              "</div>"
            ],
            "text/plain": [
              "                   A         B         C         D\n",
              "2013-01-02  0.617953  0.780909  0.144204 -1.009016\n",
              "2013-01-03  1.392900 -1.336249 -0.314047  1.602269\n",
              "2013-01-04 -0.160673 -0.480174 -0.598889 -0.285122"
            ]
          },
          "metadata": {
            "tags": []
          },
          "execution_count": 62
        }
      ]
    },
    {
      "cell_type": "code",
      "metadata": {
        "colab": {
          "base_uri": "https://localhost:8080/"
        },
        "id": "9R_gVqm_anqq",
        "outputId": "020a25f3-405a-406c-c3b2-5f623eaba7dc"
      },
      "source": [
        "df.loc[dates[0]]"
      ],
      "execution_count": 63,
      "outputs": [
        {
          "output_type": "execute_result",
          "data": {
            "text/plain": [
              "A    0.246267\n",
              "B    1.989041\n",
              "C    1.622371\n",
              "D   -1.655383\n",
              "Name: 2013-01-01 00:00:00, dtype: float64"
            ]
          },
          "metadata": {
            "tags": []
          },
          "execution_count": 63
        }
      ]
    },
    {
      "cell_type": "code",
      "metadata": {
        "colab": {
          "base_uri": "https://localhost:8080/",
          "height": 234
        },
        "id": "rRUj4Z-Vann_",
        "outputId": "29a5bf41-d789-47c5-9ab5-a4af6841f6cd"
      },
      "source": [
        "df.loc[:, [\"A\", \"B\"]]\n"
      ],
      "execution_count": 64,
      "outputs": [
        {
          "output_type": "execute_result",
          "data": {
            "text/html": [
              "<div>\n",
              "<style scoped>\n",
              "    .dataframe tbody tr th:only-of-type {\n",
              "        vertical-align: middle;\n",
              "    }\n",
              "\n",
              "    .dataframe tbody tr th {\n",
              "        vertical-align: top;\n",
              "    }\n",
              "\n",
              "    .dataframe thead th {\n",
              "        text-align: right;\n",
              "    }\n",
              "</style>\n",
              "<table border=\"1\" class=\"dataframe\">\n",
              "  <thead>\n",
              "    <tr style=\"text-align: right;\">\n",
              "      <th></th>\n",
              "      <th>A</th>\n",
              "      <th>B</th>\n",
              "    </tr>\n",
              "  </thead>\n",
              "  <tbody>\n",
              "    <tr>\n",
              "      <th>2013-01-01</th>\n",
              "      <td>0.246267</td>\n",
              "      <td>1.989041</td>\n",
              "    </tr>\n",
              "    <tr>\n",
              "      <th>2013-01-02</th>\n",
              "      <td>0.617953</td>\n",
              "      <td>0.780909</td>\n",
              "    </tr>\n",
              "    <tr>\n",
              "      <th>2013-01-03</th>\n",
              "      <td>1.392900</td>\n",
              "      <td>-1.336249</td>\n",
              "    </tr>\n",
              "    <tr>\n",
              "      <th>2013-01-04</th>\n",
              "      <td>-0.160673</td>\n",
              "      <td>-0.480174</td>\n",
              "    </tr>\n",
              "    <tr>\n",
              "      <th>2013-01-05</th>\n",
              "      <td>-0.370925</td>\n",
              "      <td>0.623369</td>\n",
              "    </tr>\n",
              "    <tr>\n",
              "      <th>2013-01-06</th>\n",
              "      <td>-0.197939</td>\n",
              "      <td>-0.783883</td>\n",
              "    </tr>\n",
              "  </tbody>\n",
              "</table>\n",
              "</div>"
            ],
            "text/plain": [
              "                   A         B\n",
              "2013-01-01  0.246267  1.989041\n",
              "2013-01-02  0.617953  0.780909\n",
              "2013-01-03  1.392900 -1.336249\n",
              "2013-01-04 -0.160673 -0.480174\n",
              "2013-01-05 -0.370925  0.623369\n",
              "2013-01-06 -0.197939 -0.783883"
            ]
          },
          "metadata": {
            "tags": []
          },
          "execution_count": 64
        }
      ]
    },
    {
      "cell_type": "code",
      "metadata": {
        "colab": {
          "base_uri": "https://localhost:8080/"
        },
        "id": "v4JRG2_0anld",
        "outputId": "2fcf82ff-e52a-47f6-ec5c-89b745c7c78d"
      },
      "source": [
        "df.at[dates[0], 'A']\n"
      ],
      "execution_count": 65,
      "outputs": [
        {
          "output_type": "execute_result",
          "data": {
            "text/plain": [
              "0.2462670523922099"
            ]
          },
          "metadata": {
            "tags": []
          },
          "execution_count": 65
        }
      ]
    },
    {
      "cell_type": "code",
      "metadata": {
        "colab": {
          "base_uri": "https://localhost:8080/"
        },
        "id": "VHBxuAAqanjC",
        "outputId": "2d4fc01e-4834-4f87-8531-c9e2f8f162d5"
      },
      "source": [
        " df.iloc[3]\n"
      ],
      "execution_count": 66,
      "outputs": [
        {
          "output_type": "execute_result",
          "data": {
            "text/plain": [
              "A   -0.160673\n",
              "B   -0.480174\n",
              "C   -0.598889\n",
              "D   -0.285122\n",
              "Name: 2013-01-04 00:00:00, dtype: float64"
            ]
          },
          "metadata": {
            "tags": []
          },
          "execution_count": 66
        }
      ]
    },
    {
      "cell_type": "code",
      "metadata": {
        "colab": {
          "base_uri": "https://localhost:8080/",
          "height": 142
        },
        "id": "1awt9lusangd",
        "outputId": "35715a6e-1a20-4d3d-a7ad-bd1ae7eedfaa"
      },
      "source": [
        "df[df['A'] > 0]\n"
      ],
      "execution_count": 67,
      "outputs": [
        {
          "output_type": "execute_result",
          "data": {
            "text/html": [
              "<div>\n",
              "<style scoped>\n",
              "    .dataframe tbody tr th:only-of-type {\n",
              "        vertical-align: middle;\n",
              "    }\n",
              "\n",
              "    .dataframe tbody tr th {\n",
              "        vertical-align: top;\n",
              "    }\n",
              "\n",
              "    .dataframe thead th {\n",
              "        text-align: right;\n",
              "    }\n",
              "</style>\n",
              "<table border=\"1\" class=\"dataframe\">\n",
              "  <thead>\n",
              "    <tr style=\"text-align: right;\">\n",
              "      <th></th>\n",
              "      <th>A</th>\n",
              "      <th>B</th>\n",
              "      <th>C</th>\n",
              "      <th>D</th>\n",
              "    </tr>\n",
              "  </thead>\n",
              "  <tbody>\n",
              "    <tr>\n",
              "      <th>2013-01-01</th>\n",
              "      <td>0.246267</td>\n",
              "      <td>1.989041</td>\n",
              "      <td>1.622371</td>\n",
              "      <td>-1.655383</td>\n",
              "    </tr>\n",
              "    <tr>\n",
              "      <th>2013-01-02</th>\n",
              "      <td>0.617953</td>\n",
              "      <td>0.780909</td>\n",
              "      <td>0.144204</td>\n",
              "      <td>-1.009016</td>\n",
              "    </tr>\n",
              "    <tr>\n",
              "      <th>2013-01-03</th>\n",
              "      <td>1.392900</td>\n",
              "      <td>-1.336249</td>\n",
              "      <td>-0.314047</td>\n",
              "      <td>1.602269</td>\n",
              "    </tr>\n",
              "  </tbody>\n",
              "</table>\n",
              "</div>"
            ],
            "text/plain": [
              "                   A         B         C         D\n",
              "2013-01-01  0.246267  1.989041  1.622371 -1.655383\n",
              "2013-01-02  0.617953  0.780909  0.144204 -1.009016\n",
              "2013-01-03  1.392900 -1.336249 -0.314047  1.602269"
            ]
          },
          "metadata": {
            "tags": []
          },
          "execution_count": 67
        }
      ]
    },
    {
      "cell_type": "code",
      "metadata": {
        "id": "r6GrWW60and7"
      },
      "source": [
        "s1 = pd.Series([1, 2, 3, 4, 5, 6], index=pd.date_range(\"20130102\", periods=6))\n"
      ],
      "execution_count": 68,
      "outputs": []
    },
    {
      "cell_type": "code",
      "metadata": {
        "colab": {
          "base_uri": "https://localhost:8080/"
        },
        "id": "zK3Ct5isanbJ",
        "outputId": "f9e42366-c677-47dc-f25b-a89c1caf935f"
      },
      "source": [
        "s1"
      ],
      "execution_count": 69,
      "outputs": [
        {
          "output_type": "execute_result",
          "data": {
            "text/plain": [
              "2013-01-02    1\n",
              "2013-01-03    2\n",
              "2013-01-04    3\n",
              "2013-01-05    4\n",
              "2013-01-06    5\n",
              "2013-01-07    6\n",
              "Freq: D, dtype: int64"
            ]
          },
          "metadata": {
            "tags": []
          },
          "execution_count": 69
        }
      ]
    },
    {
      "cell_type": "code",
      "metadata": {
        "id": "STdoeFenanVe"
      },
      "source": [
        "df['F'] = s1\n"
      ],
      "execution_count": 70,
      "outputs": []
    },
    {
      "cell_type": "code",
      "metadata": {
        "colab": {
          "base_uri": "https://localhost:8080/",
          "height": 234
        },
        "id": "cXo5f7MwbHoU",
        "outputId": "bcb9b4b7-f613-4c85-ae21-9af051a2b600"
      },
      "source": [
        "df"
      ],
      "execution_count": 71,
      "outputs": [
        {
          "output_type": "execute_result",
          "data": {
            "text/html": [
              "<div>\n",
              "<style scoped>\n",
              "    .dataframe tbody tr th:only-of-type {\n",
              "        vertical-align: middle;\n",
              "    }\n",
              "\n",
              "    .dataframe tbody tr th {\n",
              "        vertical-align: top;\n",
              "    }\n",
              "\n",
              "    .dataframe thead th {\n",
              "        text-align: right;\n",
              "    }\n",
              "</style>\n",
              "<table border=\"1\" class=\"dataframe\">\n",
              "  <thead>\n",
              "    <tr style=\"text-align: right;\">\n",
              "      <th></th>\n",
              "      <th>A</th>\n",
              "      <th>B</th>\n",
              "      <th>C</th>\n",
              "      <th>D</th>\n",
              "      <th>F</th>\n",
              "    </tr>\n",
              "  </thead>\n",
              "  <tbody>\n",
              "    <tr>\n",
              "      <th>2013-01-01</th>\n",
              "      <td>0.246267</td>\n",
              "      <td>1.989041</td>\n",
              "      <td>1.622371</td>\n",
              "      <td>-1.655383</td>\n",
              "      <td>NaN</td>\n",
              "    </tr>\n",
              "    <tr>\n",
              "      <th>2013-01-02</th>\n",
              "      <td>0.617953</td>\n",
              "      <td>0.780909</td>\n",
              "      <td>0.144204</td>\n",
              "      <td>-1.009016</td>\n",
              "      <td>1.0</td>\n",
              "    </tr>\n",
              "    <tr>\n",
              "      <th>2013-01-03</th>\n",
              "      <td>1.392900</td>\n",
              "      <td>-1.336249</td>\n",
              "      <td>-0.314047</td>\n",
              "      <td>1.602269</td>\n",
              "      <td>2.0</td>\n",
              "    </tr>\n",
              "    <tr>\n",
              "      <th>2013-01-04</th>\n",
              "      <td>-0.160673</td>\n",
              "      <td>-0.480174</td>\n",
              "      <td>-0.598889</td>\n",
              "      <td>-0.285122</td>\n",
              "      <td>3.0</td>\n",
              "    </tr>\n",
              "    <tr>\n",
              "      <th>2013-01-05</th>\n",
              "      <td>-0.370925</td>\n",
              "      <td>0.623369</td>\n",
              "      <td>0.636178</td>\n",
              "      <td>0.077903</td>\n",
              "      <td>4.0</td>\n",
              "    </tr>\n",
              "    <tr>\n",
              "      <th>2013-01-06</th>\n",
              "      <td>-0.197939</td>\n",
              "      <td>-0.783883</td>\n",
              "      <td>-0.887962</td>\n",
              "      <td>-0.654281</td>\n",
              "      <td>5.0</td>\n",
              "    </tr>\n",
              "  </tbody>\n",
              "</table>\n",
              "</div>"
            ],
            "text/plain": [
              "                   A         B         C         D    F\n",
              "2013-01-01  0.246267  1.989041  1.622371 -1.655383  NaN\n",
              "2013-01-02  0.617953  0.780909  0.144204 -1.009016  1.0\n",
              "2013-01-03  1.392900 -1.336249 -0.314047  1.602269  2.0\n",
              "2013-01-04 -0.160673 -0.480174 -0.598889 -0.285122  3.0\n",
              "2013-01-05 -0.370925  0.623369  0.636178  0.077903  4.0\n",
              "2013-01-06 -0.197939 -0.783883 -0.887962 -0.654281  5.0"
            ]
          },
          "metadata": {
            "tags": []
          },
          "execution_count": 71
        }
      ]
    },
    {
      "cell_type": "code",
      "metadata": {
        "colab": {
          "base_uri": "https://localhost:8080/",
          "height": 234
        },
        "id": "BGpiDDFjbHls",
        "outputId": "b41db3d3-23f7-4dab-96e5-cb6c4955be47"
      },
      "source": [
        "df.fillna(value=5)"
      ],
      "execution_count": 72,
      "outputs": [
        {
          "output_type": "execute_result",
          "data": {
            "text/html": [
              "<div>\n",
              "<style scoped>\n",
              "    .dataframe tbody tr th:only-of-type {\n",
              "        vertical-align: middle;\n",
              "    }\n",
              "\n",
              "    .dataframe tbody tr th {\n",
              "        vertical-align: top;\n",
              "    }\n",
              "\n",
              "    .dataframe thead th {\n",
              "        text-align: right;\n",
              "    }\n",
              "</style>\n",
              "<table border=\"1\" class=\"dataframe\">\n",
              "  <thead>\n",
              "    <tr style=\"text-align: right;\">\n",
              "      <th></th>\n",
              "      <th>A</th>\n",
              "      <th>B</th>\n",
              "      <th>C</th>\n",
              "      <th>D</th>\n",
              "      <th>F</th>\n",
              "    </tr>\n",
              "  </thead>\n",
              "  <tbody>\n",
              "    <tr>\n",
              "      <th>2013-01-01</th>\n",
              "      <td>0.246267</td>\n",
              "      <td>1.989041</td>\n",
              "      <td>1.622371</td>\n",
              "      <td>-1.655383</td>\n",
              "      <td>5.0</td>\n",
              "    </tr>\n",
              "    <tr>\n",
              "      <th>2013-01-02</th>\n",
              "      <td>0.617953</td>\n",
              "      <td>0.780909</td>\n",
              "      <td>0.144204</td>\n",
              "      <td>-1.009016</td>\n",
              "      <td>1.0</td>\n",
              "    </tr>\n",
              "    <tr>\n",
              "      <th>2013-01-03</th>\n",
              "      <td>1.392900</td>\n",
              "      <td>-1.336249</td>\n",
              "      <td>-0.314047</td>\n",
              "      <td>1.602269</td>\n",
              "      <td>2.0</td>\n",
              "    </tr>\n",
              "    <tr>\n",
              "      <th>2013-01-04</th>\n",
              "      <td>-0.160673</td>\n",
              "      <td>-0.480174</td>\n",
              "      <td>-0.598889</td>\n",
              "      <td>-0.285122</td>\n",
              "      <td>3.0</td>\n",
              "    </tr>\n",
              "    <tr>\n",
              "      <th>2013-01-05</th>\n",
              "      <td>-0.370925</td>\n",
              "      <td>0.623369</td>\n",
              "      <td>0.636178</td>\n",
              "      <td>0.077903</td>\n",
              "      <td>4.0</td>\n",
              "    </tr>\n",
              "    <tr>\n",
              "      <th>2013-01-06</th>\n",
              "      <td>-0.197939</td>\n",
              "      <td>-0.783883</td>\n",
              "      <td>-0.887962</td>\n",
              "      <td>-0.654281</td>\n",
              "      <td>5.0</td>\n",
              "    </tr>\n",
              "  </tbody>\n",
              "</table>\n",
              "</div>"
            ],
            "text/plain": [
              "                   A         B         C         D    F\n",
              "2013-01-01  0.246267  1.989041  1.622371 -1.655383  5.0\n",
              "2013-01-02  0.617953  0.780909  0.144204 -1.009016  1.0\n",
              "2013-01-03  1.392900 -1.336249 -0.314047  1.602269  2.0\n",
              "2013-01-04 -0.160673 -0.480174 -0.598889 -0.285122  3.0\n",
              "2013-01-05 -0.370925  0.623369  0.636178  0.077903  4.0\n",
              "2013-01-06 -0.197939 -0.783883 -0.887962 -0.654281  5.0"
            ]
          },
          "metadata": {
            "tags": []
          },
          "execution_count": 72
        }
      ]
    },
    {
      "cell_type": "code",
      "metadata": {
        "colab": {
          "base_uri": "https://localhost:8080/",
          "height": 234
        },
        "id": "gPM8pZdVbHij",
        "outputId": "7faa76c3-3d07-4394-e063-3adbc128cb1e"
      },
      "source": [
        "pd.isna(df)"
      ],
      "execution_count": 73,
      "outputs": [
        {
          "output_type": "execute_result",
          "data": {
            "text/html": [
              "<div>\n",
              "<style scoped>\n",
              "    .dataframe tbody tr th:only-of-type {\n",
              "        vertical-align: middle;\n",
              "    }\n",
              "\n",
              "    .dataframe tbody tr th {\n",
              "        vertical-align: top;\n",
              "    }\n",
              "\n",
              "    .dataframe thead th {\n",
              "        text-align: right;\n",
              "    }\n",
              "</style>\n",
              "<table border=\"1\" class=\"dataframe\">\n",
              "  <thead>\n",
              "    <tr style=\"text-align: right;\">\n",
              "      <th></th>\n",
              "      <th>A</th>\n",
              "      <th>B</th>\n",
              "      <th>C</th>\n",
              "      <th>D</th>\n",
              "      <th>F</th>\n",
              "    </tr>\n",
              "  </thead>\n",
              "  <tbody>\n",
              "    <tr>\n",
              "      <th>2013-01-01</th>\n",
              "      <td>False</td>\n",
              "      <td>False</td>\n",
              "      <td>False</td>\n",
              "      <td>False</td>\n",
              "      <td>True</td>\n",
              "    </tr>\n",
              "    <tr>\n",
              "      <th>2013-01-02</th>\n",
              "      <td>False</td>\n",
              "      <td>False</td>\n",
              "      <td>False</td>\n",
              "      <td>False</td>\n",
              "      <td>False</td>\n",
              "    </tr>\n",
              "    <tr>\n",
              "      <th>2013-01-03</th>\n",
              "      <td>False</td>\n",
              "      <td>False</td>\n",
              "      <td>False</td>\n",
              "      <td>False</td>\n",
              "      <td>False</td>\n",
              "    </tr>\n",
              "    <tr>\n",
              "      <th>2013-01-04</th>\n",
              "      <td>False</td>\n",
              "      <td>False</td>\n",
              "      <td>False</td>\n",
              "      <td>False</td>\n",
              "      <td>False</td>\n",
              "    </tr>\n",
              "    <tr>\n",
              "      <th>2013-01-05</th>\n",
              "      <td>False</td>\n",
              "      <td>False</td>\n",
              "      <td>False</td>\n",
              "      <td>False</td>\n",
              "      <td>False</td>\n",
              "    </tr>\n",
              "    <tr>\n",
              "      <th>2013-01-06</th>\n",
              "      <td>False</td>\n",
              "      <td>False</td>\n",
              "      <td>False</td>\n",
              "      <td>False</td>\n",
              "      <td>False</td>\n",
              "    </tr>\n",
              "  </tbody>\n",
              "</table>\n",
              "</div>"
            ],
            "text/plain": [
              "                A      B      C      D      F\n",
              "2013-01-01  False  False  False  False   True\n",
              "2013-01-02  False  False  False  False  False\n",
              "2013-01-03  False  False  False  False  False\n",
              "2013-01-04  False  False  False  False  False\n",
              "2013-01-05  False  False  False  False  False\n",
              "2013-01-06  False  False  False  False  False"
            ]
          },
          "metadata": {
            "tags": []
          },
          "execution_count": 73
        }
      ]
    },
    {
      "cell_type": "code",
      "metadata": {
        "colab": {
          "base_uri": "https://localhost:8080/"
        },
        "id": "mLo_dxU5bHfw",
        "outputId": "157bc994-1c28-4ad7-83a0-ce613f1a7846"
      },
      "source": [
        "df.mean()\n"
      ],
      "execution_count": 74,
      "outputs": [
        {
          "output_type": "execute_result",
          "data": {
            "text/plain": [
              "A    0.254597\n",
              "B    0.132169\n",
              "C    0.100309\n",
              "D   -0.320605\n",
              "F    3.000000\n",
              "dtype: float64"
            ]
          },
          "metadata": {
            "tags": []
          },
          "execution_count": 74
        }
      ]
    },
    {
      "cell_type": "code",
      "metadata": {
        "colab": {
          "base_uri": "https://localhost:8080/"
        },
        "id": "Bf8SJUbNbHde",
        "outputId": "a68037a2-070c-4cb5-f470-42e86d0b260a"
      },
      "source": [
        "df.mean(axis=1)\n"
      ],
      "execution_count": 75,
      "outputs": [
        {
          "output_type": "execute_result",
          "data": {
            "text/plain": [
              "2013-01-01    0.550574\n",
              "2013-01-02    0.306810\n",
              "2013-01-03    0.668975\n",
              "2013-01-04    0.295028\n",
              "2013-01-05    0.993305\n",
              "2013-01-06    0.495187\n",
              "Freq: D, dtype: float64"
            ]
          },
          "metadata": {
            "tags": []
          },
          "execution_count": 75
        }
      ]
    },
    {
      "cell_type": "code",
      "metadata": {
        "colab": {
          "base_uri": "https://localhost:8080/",
          "height": 234
        },
        "id": "RAQwzLa9bHbB",
        "outputId": "e72bb1cf-9341-4b07-da5a-3e19d5a3d925"
      },
      "source": [
        "df.apply(np.cumsum)"
      ],
      "execution_count": 76,
      "outputs": [
        {
          "output_type": "execute_result",
          "data": {
            "text/html": [
              "<div>\n",
              "<style scoped>\n",
              "    .dataframe tbody tr th:only-of-type {\n",
              "        vertical-align: middle;\n",
              "    }\n",
              "\n",
              "    .dataframe tbody tr th {\n",
              "        vertical-align: top;\n",
              "    }\n",
              "\n",
              "    .dataframe thead th {\n",
              "        text-align: right;\n",
              "    }\n",
              "</style>\n",
              "<table border=\"1\" class=\"dataframe\">\n",
              "  <thead>\n",
              "    <tr style=\"text-align: right;\">\n",
              "      <th></th>\n",
              "      <th>A</th>\n",
              "      <th>B</th>\n",
              "      <th>C</th>\n",
              "      <th>D</th>\n",
              "      <th>F</th>\n",
              "    </tr>\n",
              "  </thead>\n",
              "  <tbody>\n",
              "    <tr>\n",
              "      <th>2013-01-01</th>\n",
              "      <td>0.246267</td>\n",
              "      <td>1.989041</td>\n",
              "      <td>1.622371</td>\n",
              "      <td>-1.655383</td>\n",
              "      <td>NaN</td>\n",
              "    </tr>\n",
              "    <tr>\n",
              "      <th>2013-01-02</th>\n",
              "      <td>0.864220</td>\n",
              "      <td>2.769950</td>\n",
              "      <td>1.766575</td>\n",
              "      <td>-2.664399</td>\n",
              "      <td>1.0</td>\n",
              "    </tr>\n",
              "    <tr>\n",
              "      <th>2013-01-03</th>\n",
              "      <td>2.257120</td>\n",
              "      <td>1.433702</td>\n",
              "      <td>1.452528</td>\n",
              "      <td>-1.062131</td>\n",
              "      <td>3.0</td>\n",
              "    </tr>\n",
              "    <tr>\n",
              "      <th>2013-01-04</th>\n",
              "      <td>2.096447</td>\n",
              "      <td>0.953528</td>\n",
              "      <td>0.853639</td>\n",
              "      <td>-1.347253</td>\n",
              "      <td>6.0</td>\n",
              "    </tr>\n",
              "    <tr>\n",
              "      <th>2013-01-05</th>\n",
              "      <td>1.725522</td>\n",
              "      <td>1.576897</td>\n",
              "      <td>1.489818</td>\n",
              "      <td>-1.269350</td>\n",
              "      <td>10.0</td>\n",
              "    </tr>\n",
              "    <tr>\n",
              "      <th>2013-01-06</th>\n",
              "      <td>1.527583</td>\n",
              "      <td>0.793014</td>\n",
              "      <td>0.601856</td>\n",
              "      <td>-1.923631</td>\n",
              "      <td>15.0</td>\n",
              "    </tr>\n",
              "  </tbody>\n",
              "</table>\n",
              "</div>"
            ],
            "text/plain": [
              "                   A         B         C         D     F\n",
              "2013-01-01  0.246267  1.989041  1.622371 -1.655383   NaN\n",
              "2013-01-02  0.864220  2.769950  1.766575 -2.664399   1.0\n",
              "2013-01-03  2.257120  1.433702  1.452528 -1.062131   3.0\n",
              "2013-01-04  2.096447  0.953528  0.853639 -1.347253   6.0\n",
              "2013-01-05  1.725522  1.576897  1.489818 -1.269350  10.0\n",
              "2013-01-06  1.527583  0.793014  0.601856 -1.923631  15.0"
            ]
          },
          "metadata": {
            "tags": []
          },
          "execution_count": 76
        }
      ]
    },
    {
      "cell_type": "code",
      "metadata": {
        "colab": {
          "base_uri": "https://localhost:8080/"
        },
        "id": "-yKnMxekbHX8",
        "outputId": "d54e6d8b-b5bb-457e-e49f-89816fea0337"
      },
      "source": [
        "df.apply(lambda x: x.max() - x.min())\n"
      ],
      "execution_count": 77,
      "outputs": [
        {
          "output_type": "execute_result",
          "data": {
            "text/plain": [
              "A    1.763825\n",
              "B    3.325289\n",
              "C    2.510333\n",
              "D    3.257652\n",
              "F    4.000000\n",
              "dtype: float64"
            ]
          },
          "metadata": {
            "tags": []
          },
          "execution_count": 77
        }
      ]
    },
    {
      "cell_type": "code",
      "metadata": {
        "id": "wkrr8uVEbHT1"
      },
      "source": [
        "s = pd.Series([\"A\", \"B\", \"C\", \"Aaba\", \"Baca\", np.nan, \"CABA\", \"dog\", \"cat\"])"
      ],
      "execution_count": 78,
      "outputs": []
    },
    {
      "cell_type": "code",
      "metadata": {
        "colab": {
          "base_uri": "https://localhost:8080/"
        },
        "id": "mDyaYSWsbblQ",
        "outputId": "5aefcc6e-1a15-4fe0-b1ee-7cccd17ac927"
      },
      "source": [
        "s.str.lower()"
      ],
      "execution_count": 79,
      "outputs": [
        {
          "output_type": "execute_result",
          "data": {
            "text/plain": [
              "0       a\n",
              "1       b\n",
              "2       c\n",
              "3    aaba\n",
              "4    baca\n",
              "5     NaN\n",
              "6    caba\n",
              "7     dog\n",
              "8     cat\n",
              "dtype: object"
            ]
          },
          "metadata": {
            "tags": []
          },
          "execution_count": 79
        }
      ]
    },
    {
      "cell_type": "code",
      "metadata": {
        "id": "NBYOkNdJbbiU"
      },
      "source": [
        "df = pd.DataFrame(np.random.randn(10, 4))\n"
      ],
      "execution_count": 80,
      "outputs": []
    },
    {
      "cell_type": "code",
      "metadata": {
        "colab": {
          "base_uri": "https://localhost:8080/",
          "height": 357
        },
        "id": "GZ5hDKxnbbfZ",
        "outputId": "8df7bb7c-0516-4645-c180-f04eb1e1dde4"
      },
      "source": [
        "df"
      ],
      "execution_count": 81,
      "outputs": [
        {
          "output_type": "execute_result",
          "data": {
            "text/html": [
              "<div>\n",
              "<style scoped>\n",
              "    .dataframe tbody tr th:only-of-type {\n",
              "        vertical-align: middle;\n",
              "    }\n",
              "\n",
              "    .dataframe tbody tr th {\n",
              "        vertical-align: top;\n",
              "    }\n",
              "\n",
              "    .dataframe thead th {\n",
              "        text-align: right;\n",
              "    }\n",
              "</style>\n",
              "<table border=\"1\" class=\"dataframe\">\n",
              "  <thead>\n",
              "    <tr style=\"text-align: right;\">\n",
              "      <th></th>\n",
              "      <th>0</th>\n",
              "      <th>1</th>\n",
              "      <th>2</th>\n",
              "      <th>3</th>\n",
              "    </tr>\n",
              "  </thead>\n",
              "  <tbody>\n",
              "    <tr>\n",
              "      <th>0</th>\n",
              "      <td>-0.067382</td>\n",
              "      <td>0.882148</td>\n",
              "      <td>0.868840</td>\n",
              "      <td>0.336886</td>\n",
              "    </tr>\n",
              "    <tr>\n",
              "      <th>1</th>\n",
              "      <td>-0.084769</td>\n",
              "      <td>0.664199</td>\n",
              "      <td>0.907972</td>\n",
              "      <td>-0.589513</td>\n",
              "    </tr>\n",
              "    <tr>\n",
              "      <th>2</th>\n",
              "      <td>-1.101599</td>\n",
              "      <td>-0.635754</td>\n",
              "      <td>2.034735</td>\n",
              "      <td>-0.801006</td>\n",
              "    </tr>\n",
              "    <tr>\n",
              "      <th>3</th>\n",
              "      <td>-1.161684</td>\n",
              "      <td>0.931134</td>\n",
              "      <td>0.263672</td>\n",
              "      <td>0.628022</td>\n",
              "    </tr>\n",
              "    <tr>\n",
              "      <th>4</th>\n",
              "      <td>-1.105327</td>\n",
              "      <td>0.518964</td>\n",
              "      <td>-0.097384</td>\n",
              "      <td>1.039860</td>\n",
              "    </tr>\n",
              "    <tr>\n",
              "      <th>5</th>\n",
              "      <td>-0.076878</td>\n",
              "      <td>-1.465875</td>\n",
              "      <td>1.760561</td>\n",
              "      <td>-1.075042</td>\n",
              "    </tr>\n",
              "    <tr>\n",
              "      <th>6</th>\n",
              "      <td>-1.919208</td>\n",
              "      <td>0.499476</td>\n",
              "      <td>-0.926883</td>\n",
              "      <td>1.353055</td>\n",
              "    </tr>\n",
              "    <tr>\n",
              "      <th>7</th>\n",
              "      <td>-1.525982</td>\n",
              "      <td>0.231861</td>\n",
              "      <td>-0.125767</td>\n",
              "      <td>1.229975</td>\n",
              "    </tr>\n",
              "    <tr>\n",
              "      <th>8</th>\n",
              "      <td>0.732977</td>\n",
              "      <td>-0.721244</td>\n",
              "      <td>-0.497716</td>\n",
              "      <td>1.406749</td>\n",
              "    </tr>\n",
              "    <tr>\n",
              "      <th>9</th>\n",
              "      <td>-1.805513</td>\n",
              "      <td>0.089302</td>\n",
              "      <td>-0.366929</td>\n",
              "      <td>2.499762</td>\n",
              "    </tr>\n",
              "  </tbody>\n",
              "</table>\n",
              "</div>"
            ],
            "text/plain": [
              "          0         1         2         3\n",
              "0 -0.067382  0.882148  0.868840  0.336886\n",
              "1 -0.084769  0.664199  0.907972 -0.589513\n",
              "2 -1.101599 -0.635754  2.034735 -0.801006\n",
              "3 -1.161684  0.931134  0.263672  0.628022\n",
              "4 -1.105327  0.518964 -0.097384  1.039860\n",
              "5 -0.076878 -1.465875  1.760561 -1.075042\n",
              "6 -1.919208  0.499476 -0.926883  1.353055\n",
              "7 -1.525982  0.231861 -0.125767  1.229975\n",
              "8  0.732977 -0.721244 -0.497716  1.406749\n",
              "9 -1.805513  0.089302 -0.366929  2.499762"
            ]
          },
          "metadata": {
            "tags": []
          },
          "execution_count": 81
        }
      ]
    },
    {
      "cell_type": "code",
      "metadata": {
        "id": "tmcZRCpMbbbm"
      },
      "source": [
        "pieces = [df[:3], df[3:7], df[7:]]\n"
      ],
      "execution_count": 82,
      "outputs": []
    },
    {
      "cell_type": "code",
      "metadata": {
        "colab": {
          "base_uri": "https://localhost:8080/"
        },
        "id": "b6eB_utObbYx",
        "outputId": "0dd63c0c-cd2e-4833-b313-b5db0ae15991"
      },
      "source": [
        "pieces"
      ],
      "execution_count": 83,
      "outputs": [
        {
          "output_type": "execute_result",
          "data": {
            "text/plain": [
              "[          0         1         2         3\n",
              " 0 -0.067382  0.882148  0.868840  0.336886\n",
              " 1 -0.084769  0.664199  0.907972 -0.589513\n",
              " 2 -1.101599 -0.635754  2.034735 -0.801006,\n",
              "           0         1         2         3\n",
              " 3 -1.161684  0.931134  0.263672  0.628022\n",
              " 4 -1.105327  0.518964 -0.097384  1.039860\n",
              " 5 -0.076878 -1.465875  1.760561 -1.075042\n",
              " 6 -1.919208  0.499476 -0.926883  1.353055,\n",
              "           0         1         2         3\n",
              " 7 -1.525982  0.231861 -0.125767  1.229975\n",
              " 8  0.732977 -0.721244 -0.497716  1.406749\n",
              " 9 -1.805513  0.089302 -0.366929  2.499762]"
            ]
          },
          "metadata": {
            "tags": []
          },
          "execution_count": 83
        }
      ]
    },
    {
      "cell_type": "code",
      "metadata": {
        "colab": {
          "base_uri": "https://localhost:8080/",
          "height": 357
        },
        "id": "4Ze53uNBbbVi",
        "outputId": "7c04d32a-400e-4c36-938b-7909f33b4836"
      },
      "source": [
        "pd.concat(pieces)"
      ],
      "execution_count": 84,
      "outputs": [
        {
          "output_type": "execute_result",
          "data": {
            "text/html": [
              "<div>\n",
              "<style scoped>\n",
              "    .dataframe tbody tr th:only-of-type {\n",
              "        vertical-align: middle;\n",
              "    }\n",
              "\n",
              "    .dataframe tbody tr th {\n",
              "        vertical-align: top;\n",
              "    }\n",
              "\n",
              "    .dataframe thead th {\n",
              "        text-align: right;\n",
              "    }\n",
              "</style>\n",
              "<table border=\"1\" class=\"dataframe\">\n",
              "  <thead>\n",
              "    <tr style=\"text-align: right;\">\n",
              "      <th></th>\n",
              "      <th>0</th>\n",
              "      <th>1</th>\n",
              "      <th>2</th>\n",
              "      <th>3</th>\n",
              "    </tr>\n",
              "  </thead>\n",
              "  <tbody>\n",
              "    <tr>\n",
              "      <th>0</th>\n",
              "      <td>-0.067382</td>\n",
              "      <td>0.882148</td>\n",
              "      <td>0.868840</td>\n",
              "      <td>0.336886</td>\n",
              "    </tr>\n",
              "    <tr>\n",
              "      <th>1</th>\n",
              "      <td>-0.084769</td>\n",
              "      <td>0.664199</td>\n",
              "      <td>0.907972</td>\n",
              "      <td>-0.589513</td>\n",
              "    </tr>\n",
              "    <tr>\n",
              "      <th>2</th>\n",
              "      <td>-1.101599</td>\n",
              "      <td>-0.635754</td>\n",
              "      <td>2.034735</td>\n",
              "      <td>-0.801006</td>\n",
              "    </tr>\n",
              "    <tr>\n",
              "      <th>3</th>\n",
              "      <td>-1.161684</td>\n",
              "      <td>0.931134</td>\n",
              "      <td>0.263672</td>\n",
              "      <td>0.628022</td>\n",
              "    </tr>\n",
              "    <tr>\n",
              "      <th>4</th>\n",
              "      <td>-1.105327</td>\n",
              "      <td>0.518964</td>\n",
              "      <td>-0.097384</td>\n",
              "      <td>1.039860</td>\n",
              "    </tr>\n",
              "    <tr>\n",
              "      <th>5</th>\n",
              "      <td>-0.076878</td>\n",
              "      <td>-1.465875</td>\n",
              "      <td>1.760561</td>\n",
              "      <td>-1.075042</td>\n",
              "    </tr>\n",
              "    <tr>\n",
              "      <th>6</th>\n",
              "      <td>-1.919208</td>\n",
              "      <td>0.499476</td>\n",
              "      <td>-0.926883</td>\n",
              "      <td>1.353055</td>\n",
              "    </tr>\n",
              "    <tr>\n",
              "      <th>7</th>\n",
              "      <td>-1.525982</td>\n",
              "      <td>0.231861</td>\n",
              "      <td>-0.125767</td>\n",
              "      <td>1.229975</td>\n",
              "    </tr>\n",
              "    <tr>\n",
              "      <th>8</th>\n",
              "      <td>0.732977</td>\n",
              "      <td>-0.721244</td>\n",
              "      <td>-0.497716</td>\n",
              "      <td>1.406749</td>\n",
              "    </tr>\n",
              "    <tr>\n",
              "      <th>9</th>\n",
              "      <td>-1.805513</td>\n",
              "      <td>0.089302</td>\n",
              "      <td>-0.366929</td>\n",
              "      <td>2.499762</td>\n",
              "    </tr>\n",
              "  </tbody>\n",
              "</table>\n",
              "</div>"
            ],
            "text/plain": [
              "          0         1         2         3\n",
              "0 -0.067382  0.882148  0.868840  0.336886\n",
              "1 -0.084769  0.664199  0.907972 -0.589513\n",
              "2 -1.101599 -0.635754  2.034735 -0.801006\n",
              "3 -1.161684  0.931134  0.263672  0.628022\n",
              "4 -1.105327  0.518964 -0.097384  1.039860\n",
              "5 -0.076878 -1.465875  1.760561 -1.075042\n",
              "6 -1.919208  0.499476 -0.926883  1.353055\n",
              "7 -1.525982  0.231861 -0.125767  1.229975\n",
              "8  0.732977 -0.721244 -0.497716  1.406749\n",
              "9 -1.805513  0.089302 -0.366929  2.499762"
            ]
          },
          "metadata": {
            "tags": []
          },
          "execution_count": 84
        }
      ]
    },
    {
      "cell_type": "code",
      "metadata": {
        "id": "FLG3NiJVbbSQ"
      },
      "source": [
        "left = pd.DataFrame({\"key\": [\"foo\", \"foo\"], \"lval\": [1, 2]})"
      ],
      "execution_count": 85,
      "outputs": []
    },
    {
      "cell_type": "code",
      "metadata": {
        "id": "svl0NFaNbtLJ"
      },
      "source": [
        "right = pd.DataFrame({\"key\": [\"foo\", \"foo\"], \"rval\": [4, 5]})"
      ],
      "execution_count": 86,
      "outputs": []
    },
    {
      "cell_type": "code",
      "metadata": {
        "colab": {
          "base_uri": "https://localhost:8080/",
          "height": 172
        },
        "id": "oHjrgGsDbtI6",
        "outputId": "15fc12d7-8235-4c9f-f652-4e32196a03bf"
      },
      "source": [
        " pd.merge(left, right, on=\"key\")\n"
      ],
      "execution_count": 87,
      "outputs": [
        {
          "output_type": "execute_result",
          "data": {
            "text/html": [
              "<div>\n",
              "<style scoped>\n",
              "    .dataframe tbody tr th:only-of-type {\n",
              "        vertical-align: middle;\n",
              "    }\n",
              "\n",
              "    .dataframe tbody tr th {\n",
              "        vertical-align: top;\n",
              "    }\n",
              "\n",
              "    .dataframe thead th {\n",
              "        text-align: right;\n",
              "    }\n",
              "</style>\n",
              "<table border=\"1\" class=\"dataframe\">\n",
              "  <thead>\n",
              "    <tr style=\"text-align: right;\">\n",
              "      <th></th>\n",
              "      <th>key</th>\n",
              "      <th>lval</th>\n",
              "      <th>rval</th>\n",
              "    </tr>\n",
              "  </thead>\n",
              "  <tbody>\n",
              "    <tr>\n",
              "      <th>0</th>\n",
              "      <td>foo</td>\n",
              "      <td>1</td>\n",
              "      <td>4</td>\n",
              "    </tr>\n",
              "    <tr>\n",
              "      <th>1</th>\n",
              "      <td>foo</td>\n",
              "      <td>1</td>\n",
              "      <td>5</td>\n",
              "    </tr>\n",
              "    <tr>\n",
              "      <th>2</th>\n",
              "      <td>foo</td>\n",
              "      <td>2</td>\n",
              "      <td>4</td>\n",
              "    </tr>\n",
              "    <tr>\n",
              "      <th>3</th>\n",
              "      <td>foo</td>\n",
              "      <td>2</td>\n",
              "      <td>5</td>\n",
              "    </tr>\n",
              "  </tbody>\n",
              "</table>\n",
              "</div>"
            ],
            "text/plain": [
              "   key  lval  rval\n",
              "0  foo     1     4\n",
              "1  foo     1     5\n",
              "2  foo     2     4\n",
              "3  foo     2     5"
            ]
          },
          "metadata": {
            "tags": []
          },
          "execution_count": 87
        }
      ]
    },
    {
      "cell_type": "code",
      "metadata": {
        "colab": {
          "base_uri": "https://localhost:8080/",
          "height": 388
        },
        "id": "EANRy8kPbtGD",
        "outputId": "664e3b2c-dfcf-46b6-b2b2-90262a1ef190"
      },
      "source": [
        "df.groupby(1).sum()"
      ],
      "execution_count": 88,
      "outputs": [
        {
          "output_type": "execute_result",
          "data": {
            "text/html": [
              "<div>\n",
              "<style scoped>\n",
              "    .dataframe tbody tr th:only-of-type {\n",
              "        vertical-align: middle;\n",
              "    }\n",
              "\n",
              "    .dataframe tbody tr th {\n",
              "        vertical-align: top;\n",
              "    }\n",
              "\n",
              "    .dataframe thead th {\n",
              "        text-align: right;\n",
              "    }\n",
              "</style>\n",
              "<table border=\"1\" class=\"dataframe\">\n",
              "  <thead>\n",
              "    <tr style=\"text-align: right;\">\n",
              "      <th></th>\n",
              "      <th>0</th>\n",
              "      <th>2</th>\n",
              "      <th>3</th>\n",
              "    </tr>\n",
              "    <tr>\n",
              "      <th>1</th>\n",
              "      <th></th>\n",
              "      <th></th>\n",
              "      <th></th>\n",
              "    </tr>\n",
              "  </thead>\n",
              "  <tbody>\n",
              "    <tr>\n",
              "      <th>-1.465875</th>\n",
              "      <td>-0.076878</td>\n",
              "      <td>1.760561</td>\n",
              "      <td>-1.075042</td>\n",
              "    </tr>\n",
              "    <tr>\n",
              "      <th>-0.721244</th>\n",
              "      <td>0.732977</td>\n",
              "      <td>-0.497716</td>\n",
              "      <td>1.406749</td>\n",
              "    </tr>\n",
              "    <tr>\n",
              "      <th>-0.635754</th>\n",
              "      <td>-1.101599</td>\n",
              "      <td>2.034735</td>\n",
              "      <td>-0.801006</td>\n",
              "    </tr>\n",
              "    <tr>\n",
              "      <th>0.089302</th>\n",
              "      <td>-1.805513</td>\n",
              "      <td>-0.366929</td>\n",
              "      <td>2.499762</td>\n",
              "    </tr>\n",
              "    <tr>\n",
              "      <th>0.231861</th>\n",
              "      <td>-1.525982</td>\n",
              "      <td>-0.125767</td>\n",
              "      <td>1.229975</td>\n",
              "    </tr>\n",
              "    <tr>\n",
              "      <th>0.499476</th>\n",
              "      <td>-1.919208</td>\n",
              "      <td>-0.926883</td>\n",
              "      <td>1.353055</td>\n",
              "    </tr>\n",
              "    <tr>\n",
              "      <th>0.518964</th>\n",
              "      <td>-1.105327</td>\n",
              "      <td>-0.097384</td>\n",
              "      <td>1.039860</td>\n",
              "    </tr>\n",
              "    <tr>\n",
              "      <th>0.664199</th>\n",
              "      <td>-0.084769</td>\n",
              "      <td>0.907972</td>\n",
              "      <td>-0.589513</td>\n",
              "    </tr>\n",
              "    <tr>\n",
              "      <th>0.882148</th>\n",
              "      <td>-0.067382</td>\n",
              "      <td>0.868840</td>\n",
              "      <td>0.336886</td>\n",
              "    </tr>\n",
              "    <tr>\n",
              "      <th>0.931134</th>\n",
              "      <td>-1.161684</td>\n",
              "      <td>0.263672</td>\n",
              "      <td>0.628022</td>\n",
              "    </tr>\n",
              "  </tbody>\n",
              "</table>\n",
              "</div>"
            ],
            "text/plain": [
              "                  0         2         3\n",
              "1                                      \n",
              "-1.465875 -0.076878  1.760561 -1.075042\n",
              "-0.721244  0.732977 -0.497716  1.406749\n",
              "-0.635754 -1.101599  2.034735 -0.801006\n",
              " 0.089302 -1.805513 -0.366929  2.499762\n",
              " 0.231861 -1.525982 -0.125767  1.229975\n",
              " 0.499476 -1.919208 -0.926883  1.353055\n",
              " 0.518964 -1.105327 -0.097384  1.039860\n",
              " 0.664199 -0.084769  0.907972 -0.589513\n",
              " 0.882148 -0.067382  0.868840  0.336886\n",
              " 0.931134 -1.161684  0.263672  0.628022"
            ]
          },
          "metadata": {
            "tags": []
          },
          "execution_count": 88
        }
      ]
    },
    {
      "cell_type": "code",
      "metadata": {
        "colab": {
          "base_uri": "https://localhost:8080/",
          "height": 357
        },
        "id": "a1VxK_6CbtDc",
        "outputId": "e32c3941-a9e5-4413-b1d8-f0151fbee7ec"
      },
      "source": [
        "df.sort_values(by=1)"
      ],
      "execution_count": 89,
      "outputs": [
        {
          "output_type": "execute_result",
          "data": {
            "text/html": [
              "<div>\n",
              "<style scoped>\n",
              "    .dataframe tbody tr th:only-of-type {\n",
              "        vertical-align: middle;\n",
              "    }\n",
              "\n",
              "    .dataframe tbody tr th {\n",
              "        vertical-align: top;\n",
              "    }\n",
              "\n",
              "    .dataframe thead th {\n",
              "        text-align: right;\n",
              "    }\n",
              "</style>\n",
              "<table border=\"1\" class=\"dataframe\">\n",
              "  <thead>\n",
              "    <tr style=\"text-align: right;\">\n",
              "      <th></th>\n",
              "      <th>0</th>\n",
              "      <th>1</th>\n",
              "      <th>2</th>\n",
              "      <th>3</th>\n",
              "    </tr>\n",
              "  </thead>\n",
              "  <tbody>\n",
              "    <tr>\n",
              "      <th>5</th>\n",
              "      <td>-0.076878</td>\n",
              "      <td>-1.465875</td>\n",
              "      <td>1.760561</td>\n",
              "      <td>-1.075042</td>\n",
              "    </tr>\n",
              "    <tr>\n",
              "      <th>8</th>\n",
              "      <td>0.732977</td>\n",
              "      <td>-0.721244</td>\n",
              "      <td>-0.497716</td>\n",
              "      <td>1.406749</td>\n",
              "    </tr>\n",
              "    <tr>\n",
              "      <th>2</th>\n",
              "      <td>-1.101599</td>\n",
              "      <td>-0.635754</td>\n",
              "      <td>2.034735</td>\n",
              "      <td>-0.801006</td>\n",
              "    </tr>\n",
              "    <tr>\n",
              "      <th>9</th>\n",
              "      <td>-1.805513</td>\n",
              "      <td>0.089302</td>\n",
              "      <td>-0.366929</td>\n",
              "      <td>2.499762</td>\n",
              "    </tr>\n",
              "    <tr>\n",
              "      <th>7</th>\n",
              "      <td>-1.525982</td>\n",
              "      <td>0.231861</td>\n",
              "      <td>-0.125767</td>\n",
              "      <td>1.229975</td>\n",
              "    </tr>\n",
              "    <tr>\n",
              "      <th>6</th>\n",
              "      <td>-1.919208</td>\n",
              "      <td>0.499476</td>\n",
              "      <td>-0.926883</td>\n",
              "      <td>1.353055</td>\n",
              "    </tr>\n",
              "    <tr>\n",
              "      <th>4</th>\n",
              "      <td>-1.105327</td>\n",
              "      <td>0.518964</td>\n",
              "      <td>-0.097384</td>\n",
              "      <td>1.039860</td>\n",
              "    </tr>\n",
              "    <tr>\n",
              "      <th>1</th>\n",
              "      <td>-0.084769</td>\n",
              "      <td>0.664199</td>\n",
              "      <td>0.907972</td>\n",
              "      <td>-0.589513</td>\n",
              "    </tr>\n",
              "    <tr>\n",
              "      <th>0</th>\n",
              "      <td>-0.067382</td>\n",
              "      <td>0.882148</td>\n",
              "      <td>0.868840</td>\n",
              "      <td>0.336886</td>\n",
              "    </tr>\n",
              "    <tr>\n",
              "      <th>3</th>\n",
              "      <td>-1.161684</td>\n",
              "      <td>0.931134</td>\n",
              "      <td>0.263672</td>\n",
              "      <td>0.628022</td>\n",
              "    </tr>\n",
              "  </tbody>\n",
              "</table>\n",
              "</div>"
            ],
            "text/plain": [
              "          0         1         2         3\n",
              "5 -0.076878 -1.465875  1.760561 -1.075042\n",
              "8  0.732977 -0.721244 -0.497716  1.406749\n",
              "2 -1.101599 -0.635754  2.034735 -0.801006\n",
              "9 -1.805513  0.089302 -0.366929  2.499762\n",
              "7 -1.525982  0.231861 -0.125767  1.229975\n",
              "6 -1.919208  0.499476 -0.926883  1.353055\n",
              "4 -1.105327  0.518964 -0.097384  1.039860\n",
              "1 -0.084769  0.664199  0.907972 -0.589513\n",
              "0 -0.067382  0.882148  0.868840  0.336886\n",
              "3 -1.161684  0.931134  0.263672  0.628022"
            ]
          },
          "metadata": {
            "tags": []
          },
          "execution_count": 89
        }
      ]
    }
  ]
}