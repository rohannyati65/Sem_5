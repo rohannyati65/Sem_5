{
  "nbformat": 4,
  "nbformat_minor": 0,
  "metadata": {
    "colab": {
      "name": "EXP1_Rohit_Vijay,_SaumyaKulhari,_SatyamSharma_&_RajatSharma_.ipynb",
      "provenance": [],
      "collapsed_sections": [
        "AnHX_1glVeWP",
        "pbS61lOaZPk6"
      ]
    },
    "kernelspec": {
      "name": "python3",
      "display_name": "Python 3"
    },
    "language_info": {
      "name": "python"
    }
  },
  "cells": [
    {
      "cell_type": "markdown",
      "metadata": {
        "id": "MiWS39G0VSWv"
      },
      "source": [
        "#**Experiment 1: Introduction To Numpy And Introduction To Pandas**"
      ]
    },
    {
      "cell_type": "markdown",
      "metadata": {
        "id": "AnHX_1glVeWP"
      },
      "source": [
        "# 1.1 Introduction To Numpy"
      ]
    },
    {
      "cell_type": "code",
      "metadata": {
        "id": "XXaDStIIT8Nj"
      },
      "source": [
        "import numpy as np  #importing numpy into notebook"
      ],
      "execution_count": 1,
      "outputs": []
    },
    {
      "cell_type": "code",
      "metadata": {
        "colab": {
          "base_uri": "https://localhost:8080/"
        },
        "id": "QnD_dyyYVxrs",
        "outputId": "0adc675c-1dd0-464a-92a3-4384cdf5fc8e"
      },
      "source": [
        "a = np.arange(15).reshape(3, 5)  #arranging numbers from 0-14 into 3*5 matrix \n",
        "a.shape  #displaying shape of array\n"
      ],
      "execution_count": 2,
      "outputs": [
        {
          "output_type": "execute_result",
          "data": {
            "text/plain": [
              "(3, 5)"
            ]
          },
          "metadata": {
            "tags": []
          },
          "execution_count": 2
        }
      ]
    },
    {
      "cell_type": "code",
      "metadata": {
        "colab": {
          "base_uri": "https://localhost:8080/"
        },
        "id": "oHpvSFYkVxpP",
        "outputId": "d13a31d7-2873-4196-e37e-d5fce4e655bb"
      },
      "source": [
        " a.ndim   #no of dimensions of array"
      ],
      "execution_count": 3,
      "outputs": [
        {
          "output_type": "execute_result",
          "data": {
            "text/plain": [
              "2"
            ]
          },
          "metadata": {
            "tags": []
          },
          "execution_count": 3
        }
      ]
    },
    {
      "cell_type": "code",
      "metadata": {
        "colab": {
          "base_uri": "https://localhost:8080/",
          "height": 35
        },
        "id": "v4I_6os7VxnD",
        "outputId": "5ad28096-c0ee-4d4c-da18-f176d9b3fb25"
      },
      "source": [
        "a.dtype.name  #data types of array"
      ],
      "execution_count": 4,
      "outputs": [
        {
          "output_type": "execute_result",
          "data": {
            "application/vnd.google.colaboratory.intrinsic+json": {
              "type": "string"
            },
            "text/plain": [
              "'int64'"
            ]
          },
          "metadata": {
            "tags": []
          },
          "execution_count": 4
        }
      ]
    },
    {
      "cell_type": "code",
      "metadata": {
        "colab": {
          "base_uri": "https://localhost:8080/"
        },
        "id": "sinA4iDmVxkR",
        "outputId": "d8b275e9-7e87-4e97-9cea-c13e32d200f8"
      },
      "source": [
        " a.itemsize   #size of element in an array"
      ],
      "execution_count": 5,
      "outputs": [
        {
          "output_type": "execute_result",
          "data": {
            "text/plain": [
              "8"
            ]
          },
          "metadata": {
            "tags": []
          },
          "execution_count": 5
        }
      ]
    },
    {
      "cell_type": "code",
      "metadata": {
        "colab": {
          "base_uri": "https://localhost:8080/"
        },
        "id": "ix-lI8qJVxiH",
        "outputId": "ff7180ac-0d8b-47e8-9fe8-6a4a8bfe36e6"
      },
      "source": [
        "a.size     #no of elements in an array"
      ],
      "execution_count": 6,
      "outputs": [
        {
          "output_type": "execute_result",
          "data": {
            "text/plain": [
              "15"
            ]
          },
          "metadata": {
            "tags": []
          },
          "execution_count": 6
        }
      ]
    },
    {
      "cell_type": "code",
      "metadata": {
        "colab": {
          "base_uri": "https://localhost:8080/"
        },
        "id": "1o9385imVxfU",
        "outputId": "f2ad1b2c-18fa-4864-9813-daa3b276bc51"
      },
      "source": [
        "type(a)   #type of matrix\n"
      ],
      "execution_count": 7,
      "outputs": [
        {
          "output_type": "execute_result",
          "data": {
            "text/plain": [
              "numpy.ndarray"
            ]
          },
          "metadata": {
            "tags": []
          },
          "execution_count": 7
        }
      ]
    },
    {
      "cell_type": "code",
      "metadata": {
        "id": "P7TYVjbkVxc7"
      },
      "source": [
        " b = np.array([6, 7, 8])  #creating new array b\n"
      ],
      "execution_count": 8,
      "outputs": []
    },
    {
      "cell_type": "code",
      "metadata": {
        "colab": {
          "base_uri": "https://localhost:8080/"
        },
        "id": "o447DQMVVxaS",
        "outputId": "52e37b39-7480-4529-d756-16f1bb7898da"
      },
      "source": [
        "b  #printing array b\n"
      ],
      "execution_count": 9,
      "outputs": [
        {
          "output_type": "execute_result",
          "data": {
            "text/plain": [
              "array([6, 7, 8])"
            ]
          },
          "metadata": {
            "tags": []
          },
          "execution_count": 9
        }
      ]
    },
    {
      "cell_type": "code",
      "metadata": {
        "colab": {
          "base_uri": "https://localhost:8080/"
        },
        "id": "gJ7MdUluVxXw",
        "outputId": "a7cba148-0599-41b5-f03b-f0e9a8b1dec9"
      },
      "source": [
        "type(b)  #type of array\n"
      ],
      "execution_count": 10,
      "outputs": [
        {
          "output_type": "execute_result",
          "data": {
            "text/plain": [
              "numpy.ndarray"
            ]
          },
          "metadata": {
            "tags": []
          },
          "execution_count": 10
        }
      ]
    },
    {
      "cell_type": "code",
      "metadata": {
        "colab": {
          "base_uri": "https://localhost:8080/"
        },
        "id": "YXEAplp6VxVJ",
        "outputId": "216e48eb-e79e-4fb6-d002-816418b24a7d"
      },
      "source": [
        "b.dtype  #datatype of b\n"
      ],
      "execution_count": 11,
      "outputs": [
        {
          "output_type": "execute_result",
          "data": {
            "text/plain": [
              "dtype('int64')"
            ]
          },
          "metadata": {
            "tags": []
          },
          "execution_count": 11
        }
      ]
    },
    {
      "cell_type": "code",
      "metadata": {
        "id": "IbjZ7h-eVxSb"
      },
      "source": [
        "c = np.array([[1, 2], [3, 4]], dtype=complex)  #creating a new array and converting datatype into complex\n"
      ],
      "execution_count": 12,
      "outputs": []
    },
    {
      "cell_type": "code",
      "metadata": {
        "colab": {
          "base_uri": "https://localhost:8080/"
        },
        "id": "EmzFR1rYVxPY",
        "outputId": "944d2af8-8493-4535-a1de-a962848a896e"
      },
      "source": [
        "c   #printing array c"
      ],
      "execution_count": 13,
      "outputs": [
        {
          "output_type": "execute_result",
          "data": {
            "text/plain": [
              "array([[1.+0.j, 2.+0.j],\n",
              "       [3.+0.j, 4.+0.j]])"
            ]
          },
          "metadata": {
            "tags": []
          },
          "execution_count": 13
        }
      ]
    },
    {
      "cell_type": "code",
      "metadata": {
        "colab": {
          "base_uri": "https://localhost:8080/",
          "height": 35
        },
        "id": "Ct0ht71qVxLt",
        "outputId": "da24ba32-9da4-4fdb-c02b-9c29860650d5"
      },
      "source": [
        "c.dtype.name #datatype of c"
      ],
      "execution_count": 14,
      "outputs": [
        {
          "output_type": "execute_result",
          "data": {
            "application/vnd.google.colaboratory.intrinsic+json": {
              "type": "string"
            },
            "text/plain": [
              "'complex128'"
            ]
          },
          "metadata": {
            "tags": []
          },
          "execution_count": 14
        }
      ]
    },
    {
      "cell_type": "code",
      "metadata": {
        "colab": {
          "base_uri": "https://localhost:8080/"
        },
        "id": "WCnEDMJqVxI7",
        "outputId": "5fe35150-26eb-4369-923d-00958c950709"
      },
      "source": [
        "np.zeros((3, 4)) #creating a matrix of 3 rows and 4 columns with all elements 0"
      ],
      "execution_count": 15,
      "outputs": [
        {
          "output_type": "execute_result",
          "data": {
            "text/plain": [
              "array([[0., 0., 0., 0.],\n",
              "       [0., 0., 0., 0.],\n",
              "       [0., 0., 0., 0.]])"
            ]
          },
          "metadata": {
            "tags": []
          },
          "execution_count": 15
        }
      ]
    },
    {
      "cell_type": "code",
      "metadata": {
        "colab": {
          "base_uri": "https://localhost:8080/"
        },
        "id": "6CKi13hFXGrl",
        "outputId": "1cf2a1c1-01e9-4e4a-c87b-f3df793766dc"
      },
      "source": [
        "np.ones((2, 3, 4), dtype=np.int16)  #creating two arrays of 3*4 matrix containing all elements 1"
      ],
      "execution_count": 16,
      "outputs": [
        {
          "output_type": "execute_result",
          "data": {
            "text/plain": [
              "array([[[1, 1, 1, 1],\n",
              "        [1, 1, 1, 1],\n",
              "        [1, 1, 1, 1]],\n",
              "\n",
              "       [[1, 1, 1, 1],\n",
              "        [1, 1, 1, 1],\n",
              "        [1, 1, 1, 1]]], dtype=int16)"
            ]
          },
          "metadata": {
            "tags": []
          },
          "execution_count": 16
        }
      ]
    },
    {
      "cell_type": "code",
      "metadata": {
        "colab": {
          "base_uri": "https://localhost:8080/"
        },
        "id": "1M1tOfsTXGo1",
        "outputId": "496f65a4-c5ea-46e9-bf08-217893ec71db"
      },
      "source": [
        "np.empty((2, 3)) #creating an array of 2*3 with random numbers\n"
      ],
      "execution_count": 17,
      "outputs": [
        {
          "output_type": "execute_result",
          "data": {
            "text/plain": [
              "array([[4.68580766e-310, 0.00000000e+000, 0.00000000e+000],\n",
              "       [0.00000000e+000, 0.00000000e+000, 0.00000000e+000]])"
            ]
          },
          "metadata": {
            "tags": []
          },
          "execution_count": 17
        }
      ]
    },
    {
      "cell_type": "code",
      "metadata": {
        "colab": {
          "base_uri": "https://localhost:8080/"
        },
        "id": "NHvUBBECXGmQ",
        "outputId": "ccf1f0cb-a80d-4618-ce2b-b12de19072cf"
      },
      "source": [
        "np.eye(7)  #creating an identity matrix of 7*7"
      ],
      "execution_count": 18,
      "outputs": [
        {
          "output_type": "execute_result",
          "data": {
            "text/plain": [
              "array([[1., 0., 0., 0., 0., 0., 0.],\n",
              "       [0., 1., 0., 0., 0., 0., 0.],\n",
              "       [0., 0., 1., 0., 0., 0., 0.],\n",
              "       [0., 0., 0., 1., 0., 0., 0.],\n",
              "       [0., 0., 0., 0., 1., 0., 0.],\n",
              "       [0., 0., 0., 0., 0., 1., 0.],\n",
              "       [0., 0., 0., 0., 0., 0., 1.]])"
            ]
          },
          "metadata": {
            "tags": []
          },
          "execution_count": 18
        }
      ]
    },
    {
      "cell_type": "code",
      "metadata": {
        "colab": {
          "base_uri": "https://localhost:8080/"
        },
        "id": "46dN_kxwXGjg",
        "outputId": "238bf994-406d-4333-f832-1f0293e740c6"
      },
      "source": [
        "np.arange(10, 30, 5)  #arranges the given numbers with step of 5"
      ],
      "execution_count": 19,
      "outputs": [
        {
          "output_type": "execute_result",
          "data": {
            "text/plain": [
              "array([10, 15, 20, 25])"
            ]
          },
          "metadata": {
            "tags": []
          },
          "execution_count": 19
        }
      ]
    },
    {
      "cell_type": "code",
      "metadata": {
        "colab": {
          "base_uri": "https://localhost:8080/"
        },
        "id": "inw9dNNMXGeC",
        "outputId": "e5e202ba-d732-4417-bb89-f4169885544d"
      },
      "source": [
        "np.arange(0, 2, 0.3)  #arranges the given numbers with step of 0.3\n"
      ],
      "execution_count": 20,
      "outputs": [
        {
          "output_type": "execute_result",
          "data": {
            "text/plain": [
              "array([0. , 0.3, 0.6, 0.9, 1.2, 1.5, 1.8])"
            ]
          },
          "metadata": {
            "tags": []
          },
          "execution_count": 20
        }
      ]
    },
    {
      "cell_type": "code",
      "metadata": {
        "colab": {
          "base_uri": "https://localhost:8080/"
        },
        "id": "FLaZJmylXGbc",
        "outputId": "38b08cf1-6651-473c-b6d7-9d9490363ae1"
      },
      "source": [
        "np.linspace(0, 2, 9)  #9 equidistant values between 0-2\n"
      ],
      "execution_count": 21,
      "outputs": [
        {
          "output_type": "execute_result",
          "data": {
            "text/plain": [
              "array([0.  , 0.25, 0.5 , 0.75, 1.  , 1.25, 1.5 , 1.75, 2.  ])"
            ]
          },
          "metadata": {
            "tags": []
          },
          "execution_count": 21
        }
      ]
    },
    {
      "cell_type": "code",
      "metadata": {
        "colab": {
          "base_uri": "https://localhost:8080/"
        },
        "id": "ioclM24CXGY3",
        "outputId": "0014c97a-35db-4d3c-a195-c6a7068bd75e"
      },
      "source": [
        "np.arange(0, 11, 1)**2  #arranging the square of numbers 0-10 in an array"
      ],
      "execution_count": 22,
      "outputs": [
        {
          "output_type": "execute_result",
          "data": {
            "text/plain": [
              "array([  0,   1,   4,   9,  16,  25,  36,  49,  64,  81, 100])"
            ]
          },
          "metadata": {
            "tags": []
          },
          "execution_count": 22
        }
      ]
    },
    {
      "cell_type": "code",
      "metadata": {
        "colab": {
          "base_uri": "https://localhost:8080/"
        },
        "id": "P_KOtO8WXGVj",
        "outputId": "fe0d2fcf-1627-48a1-8dc9-01a812576ddb"
      },
      "source": [
        "print(a) #printing a matrix\n"
      ],
      "execution_count": 23,
      "outputs": [
        {
          "output_type": "stream",
          "text": [
            "[[ 0  1  2  3  4]\n",
            " [ 5  6  7  8  9]\n",
            " [10 11 12 13 14]]\n"
          ],
          "name": "stdout"
        }
      ]
    },
    {
      "cell_type": "code",
      "metadata": {
        "colab": {
          "base_uri": "https://localhost:8080/"
        },
        "id": "xGU52JygXGRk",
        "outputId": "61a0002d-8dfc-463a-8439-b6f62ce987d0"
      },
      "source": [
        "print(a.reshape(5, 3))  #printing matrix after reshaping\n"
      ],
      "execution_count": 24,
      "outputs": [
        {
          "output_type": "stream",
          "text": [
            "[[ 0  1  2]\n",
            " [ 3  4  5]\n",
            " [ 6  7  8]\n",
            " [ 9 10 11]\n",
            " [12 13 14]]\n"
          ],
          "name": "stdout"
        }
      ]
    },
    {
      "cell_type": "code",
      "metadata": {
        "colab": {
          "base_uri": "https://localhost:8080/"
        },
        "id": "NNbawKIKXGHz",
        "outputId": "da7bbe23-a6d4-483f-b452-4615437ebecd"
      },
      "source": [
        "print(np.arange(10000)) "
      ],
      "execution_count": 25,
      "outputs": [
        {
          "output_type": "stream",
          "text": [
            "[   0    1    2 ... 9997 9998 9999]\n"
          ],
          "name": "stdout"
        }
      ]
    },
    {
      "cell_type": "code",
      "metadata": {
        "id": "BD1omjk6XFcV"
      },
      "source": [
        "A = np.array([[1, 1], [0, 1]])  #arithmetic operation on matrix A & B\n",
        "B = np.array([[2, 0], [3, 4]])\n"
      ],
      "execution_count": 26,
      "outputs": []
    },
    {
      "cell_type": "code",
      "metadata": {
        "colab": {
          "base_uri": "https://localhost:8080/"
        },
        "id": "YU4XNRB5XgW1",
        "outputId": "feef1cdc-b9bd-480b-8907-032e099a2cf0"
      },
      "source": [
        "A+B"
      ],
      "execution_count": 27,
      "outputs": [
        {
          "output_type": "execute_result",
          "data": {
            "text/plain": [
              "array([[3, 1],\n",
              "       [3, 5]])"
            ]
          },
          "metadata": {
            "tags": []
          },
          "execution_count": 27
        }
      ]
    },
    {
      "cell_type": "code",
      "metadata": {
        "colab": {
          "base_uri": "https://localhost:8080/"
        },
        "id": "Mv5hFQqbXgMD",
        "outputId": "888c1b4f-16ef-4cae-fece-299da292b932"
      },
      "source": [
        "A-B"
      ],
      "execution_count": 28,
      "outputs": [
        {
          "output_type": "execute_result",
          "data": {
            "text/plain": [
              "array([[-1,  1],\n",
              "       [-3, -3]])"
            ]
          },
          "metadata": {
            "tags": []
          },
          "execution_count": 28
        }
      ]
    },
    {
      "cell_type": "code",
      "metadata": {
        "colab": {
          "base_uri": "https://localhost:8080/"
        },
        "id": "nGqGSYe_XgJL",
        "outputId": "7ff681f8-b293-48d0-978f-822d206ac1b4"
      },
      "source": [
        "A*B"
      ],
      "execution_count": 29,
      "outputs": [
        {
          "output_type": "execute_result",
          "data": {
            "text/plain": [
              "array([[2, 0],\n",
              "       [0, 4]])"
            ]
          },
          "metadata": {
            "tags": []
          },
          "execution_count": 29
        }
      ]
    },
    {
      "cell_type": "code",
      "metadata": {
        "colab": {
          "base_uri": "https://localhost:8080/"
        },
        "id": "AHwizRQsXlK_",
        "outputId": "005fb508-8dc5-47bf-a187-dbb08060435c"
      },
      "source": [
        "A @ B"
      ],
      "execution_count": 30,
      "outputs": [
        {
          "output_type": "execute_result",
          "data": {
            "text/plain": [
              "array([[5, 4],\n",
              "       [3, 4]])"
            ]
          },
          "metadata": {
            "tags": []
          },
          "execution_count": 30
        }
      ]
    },
    {
      "cell_type": "code",
      "metadata": {
        "colab": {
          "base_uri": "https://localhost:8080/"
        },
        "id": "XKdWCUYzXlIX",
        "outputId": "3b0436b9-b1a9-4245-c0ce-c742327a00ee"
      },
      "source": [
        "A/B"
      ],
      "execution_count": 31,
      "outputs": [
        {
          "output_type": "stream",
          "text": [
            "/usr/local/lib/python3.7/dist-packages/ipykernel_launcher.py:1: RuntimeWarning: divide by zero encountered in true_divide\n",
            "  \"\"\"Entry point for launching an IPython kernel.\n"
          ],
          "name": "stderr"
        },
        {
          "output_type": "execute_result",
          "data": {
            "text/plain": [
              "array([[0.5 ,  inf],\n",
              "       [0.  , 0.25]])"
            ]
          },
          "metadata": {
            "tags": []
          },
          "execution_count": 31
        }
      ]
    },
    {
      "cell_type": "code",
      "metadata": {
        "colab": {
          "base_uri": "https://localhost:8080/"
        },
        "id": "g95ONpDnXlFq",
        "outputId": "7f5d601e-6742-45ea-99f8-a1cd74e88067"
      },
      "source": [
        " np.sin(np.arange(0, 2 * np.pi, np.pi / 6))  #sin of values in matrix"
      ],
      "execution_count": 32,
      "outputs": [
        {
          "output_type": "execute_result",
          "data": {
            "text/plain": [
              "array([ 0.00000000e+00,  5.00000000e-01,  8.66025404e-01,  1.00000000e+00,\n",
              "        8.66025404e-01,  5.00000000e-01,  1.22464680e-16, -5.00000000e-01,\n",
              "       -8.66025404e-01, -1.00000000e+00, -8.66025404e-01, -5.00000000e-01])"
            ]
          },
          "metadata": {
            "tags": []
          },
          "execution_count": 32
        }
      ]
    },
    {
      "cell_type": "code",
      "metadata": {
        "colab": {
          "base_uri": "https://localhost:8080/"
        },
        "id": "tPbqk6G6XlDK",
        "outputId": "78a1c5d5-1453-4801-8845-1a3f6249058c"
      },
      "source": [
        "A.dot(B)  #dot product of matrix\n"
      ],
      "execution_count": 33,
      "outputs": [
        {
          "output_type": "execute_result",
          "data": {
            "text/plain": [
              "array([[5, 4],\n",
              "       [3, 4]])"
            ]
          },
          "metadata": {
            "tags": []
          },
          "execution_count": 33
        }
      ]
    },
    {
      "cell_type": "code",
      "metadata": {
        "colab": {
          "base_uri": "https://localhost:8080/"
        },
        "id": "Nwez8OaeXlAZ",
        "outputId": "6c3ac7e3-afb0-4c90-c5ec-ffc6834e4c03"
      },
      "source": [
        "a[:6:2]  "
      ],
      "execution_count": 34,
      "outputs": [
        {
          "output_type": "execute_result",
          "data": {
            "text/plain": [
              "array([[ 0,  1,  2,  3,  4],\n",
              "       [10, 11, 12, 13, 14]])"
            ]
          },
          "metadata": {
            "tags": []
          },
          "execution_count": 34
        }
      ]
    },
    {
      "cell_type": "code",
      "metadata": {
        "colab": {
          "base_uri": "https://localhost:8080/"
        },
        "id": "C_IfAjhWXk9Z",
        "outputId": "8668aacb-a9e5-4fff-c9fb-2139c6fb1458"
      },
      "source": [
        "a[::-1]\n"
      ],
      "execution_count": 35,
      "outputs": [
        {
          "output_type": "execute_result",
          "data": {
            "text/plain": [
              "array([[10, 11, 12, 13, 14],\n",
              "       [ 5,  6,  7,  8,  9],\n",
              "       [ 0,  1,  2,  3,  4]])"
            ]
          },
          "metadata": {
            "tags": []
          },
          "execution_count": 35
        }
      ]
    },
    {
      "cell_type": "code",
      "metadata": {
        "colab": {
          "base_uri": "https://localhost:8080/"
        },
        "id": "whP9NQ1rXk3U",
        "outputId": "7e1b7559-a77a-46cf-ac73-99d39c7e85c2"
      },
      "source": [
        "a.T #transpose of matrix\n"
      ],
      "execution_count": 36,
      "outputs": [
        {
          "output_type": "execute_result",
          "data": {
            "text/plain": [
              "array([[ 0,  5, 10],\n",
              "       [ 1,  6, 11],\n",
              "       [ 2,  7, 12],\n",
              "       [ 3,  8, 13],\n",
              "       [ 4,  9, 14]])"
            ]
          },
          "metadata": {
            "tags": []
          },
          "execution_count": 36
        }
      ]
    },
    {
      "cell_type": "code",
      "metadata": {
        "colab": {
          "base_uri": "https://localhost:8080/"
        },
        "id": "AwccOk50Xkba",
        "outputId": "30167400-b22a-4d82-cc4f-3c8ac524d72a"
      },
      "source": [
        " A.trace() #sum of diagonal elements"
      ],
      "execution_count": 37,
      "outputs": [
        {
          "output_type": "execute_result",
          "data": {
            "text/plain": [
              "2"
            ]
          },
          "metadata": {
            "tags": []
          },
          "execution_count": 37
        }
      ]
    },
    {
      "cell_type": "code",
      "metadata": {
        "colab": {
          "base_uri": "https://localhost:8080/"
        },
        "id": "QCIicfRGYkaa",
        "outputId": "74f72748-5845-44fe-b50a-0e9360383dca"
      },
      "source": [
        "A[0][[False, True]]\n"
      ],
      "execution_count": 38,
      "outputs": [
        {
          "output_type": "execute_result",
          "data": {
            "text/plain": [
              "array([1])"
            ]
          },
          "metadata": {
            "tags": []
          },
          "execution_count": 38
        }
      ]
    },
    {
      "cell_type": "markdown",
      "metadata": {
        "id": "pbS61lOaZPk6"
      },
      "source": [
        "# 1.2 Introduction To Pandas"
      ]
    },
    {
      "cell_type": "code",
      "metadata": {
        "id": "N_0ZGouIYkXh"
      },
      "source": [
        "import pandas as pd  #importing pandas in notebook"
      ],
      "execution_count": 39,
      "outputs": []
    },
    {
      "cell_type": "code",
      "metadata": {
        "id": "P_aSrKplYkU3"
      },
      "source": [
        "s = pd.Series([1,3, 5, np.nan, 6, 8])  #creates a new dataframe\n"
      ],
      "execution_count": 40,
      "outputs": []
    },
    {
      "cell_type": "code",
      "metadata": {
        "colab": {
          "base_uri": "https://localhost:8080/"
        },
        "id": "GH9REY1WYkSO",
        "outputId": "023a5d12-0e03-41f1-ca6d-693bb091f96a"
      },
      "source": [
        "s"
      ],
      "execution_count": 41,
      "outputs": [
        {
          "output_type": "execute_result",
          "data": {
            "text/plain": [
              "0    1.0\n",
              "1    3.0\n",
              "2    5.0\n",
              "3    NaN\n",
              "4    6.0\n",
              "5    8.0\n",
              "dtype: float64"
            ]
          },
          "metadata": {
            "tags": []
          },
          "execution_count": 41
        }
      ]
    },
    {
      "cell_type": "code",
      "metadata": {
        "id": "XQzKHZGDYkPf"
      },
      "source": [
        "dates = pd.date_range('20130101', periods=6)  #creates database of dates\n"
      ],
      "execution_count": 42,
      "outputs": []
    },
    {
      "cell_type": "code",
      "metadata": {
        "colab": {
          "base_uri": "https://localhost:8080/"
        },
        "id": "MoMNhYhBYkM_",
        "outputId": "9a3748d3-ec68-42a9-d834-9a3380db220f"
      },
      "source": [
        "dates"
      ],
      "execution_count": 43,
      "outputs": [
        {
          "output_type": "execute_result",
          "data": {
            "text/plain": [
              "DatetimeIndex(['2013-01-01', '2013-01-02', '2013-01-03', '2013-01-04',\n",
              "               '2013-01-05', '2013-01-06'],\n",
              "              dtype='datetime64[ns]', freq='D')"
            ]
          },
          "metadata": {
            "tags": []
          },
          "execution_count": 43
        }
      ]
    },
    {
      "cell_type": "code",
      "metadata": {
        "id": "guagIDBLYkKY"
      },
      "source": [
        "df = pd.DataFrame(np.random.randn(6, 4), index=dates, columns=list('ABCD'))  #creating new dataframe\n"
      ],
      "execution_count": 44,
      "outputs": []
    },
    {
      "cell_type": "code",
      "metadata": {
        "colab": {
          "base_uri": "https://localhost:8080/",
          "height": 234
        },
        "id": "ZJYPdixaYkHa",
        "outputId": "7f3f8541-df0a-4bdd-d731-8c1602788431"
      },
      "source": [
        "df"
      ],
      "execution_count": 45,
      "outputs": [
        {
          "output_type": "execute_result",
          "data": {
            "text/html": [
              "<div>\n",
              "<style scoped>\n",
              "    .dataframe tbody tr th:only-of-type {\n",
              "        vertical-align: middle;\n",
              "    }\n",
              "\n",
              "    .dataframe tbody tr th {\n",
              "        vertical-align: top;\n",
              "    }\n",
              "\n",
              "    .dataframe thead th {\n",
              "        text-align: right;\n",
              "    }\n",
              "</style>\n",
              "<table border=\"1\" class=\"dataframe\">\n",
              "  <thead>\n",
              "    <tr style=\"text-align: right;\">\n",
              "      <th></th>\n",
              "      <th>A</th>\n",
              "      <th>B</th>\n",
              "      <th>C</th>\n",
              "      <th>D</th>\n",
              "    </tr>\n",
              "  </thead>\n",
              "  <tbody>\n",
              "    <tr>\n",
              "      <th>2013-01-01</th>\n",
              "      <td>-1.218362</td>\n",
              "      <td>-1.199253</td>\n",
              "      <td>-1.364646</td>\n",
              "      <td>0.708749</td>\n",
              "    </tr>\n",
              "    <tr>\n",
              "      <th>2013-01-02</th>\n",
              "      <td>-0.347486</td>\n",
              "      <td>-0.849003</td>\n",
              "      <td>1.261718</td>\n",
              "      <td>-0.996791</td>\n",
              "    </tr>\n",
              "    <tr>\n",
              "      <th>2013-01-03</th>\n",
              "      <td>-0.762183</td>\n",
              "      <td>0.493651</td>\n",
              "      <td>0.292886</td>\n",
              "      <td>0.566268</td>\n",
              "    </tr>\n",
              "    <tr>\n",
              "      <th>2013-01-04</th>\n",
              "      <td>-0.943104</td>\n",
              "      <td>-0.621458</td>\n",
              "      <td>1.261407</td>\n",
              "      <td>-0.424963</td>\n",
              "    </tr>\n",
              "    <tr>\n",
              "      <th>2013-01-05</th>\n",
              "      <td>0.555460</td>\n",
              "      <td>1.265124</td>\n",
              "      <td>1.382343</td>\n",
              "      <td>-0.423750</td>\n",
              "    </tr>\n",
              "    <tr>\n",
              "      <th>2013-01-06</th>\n",
              "      <td>0.174468</td>\n",
              "      <td>-0.046051</td>\n",
              "      <td>-0.162930</td>\n",
              "      <td>0.011305</td>\n",
              "    </tr>\n",
              "  </tbody>\n",
              "</table>\n",
              "</div>"
            ],
            "text/plain": [
              "                   A         B         C         D\n",
              "2013-01-01 -1.218362 -1.199253 -1.364646  0.708749\n",
              "2013-01-02 -0.347486 -0.849003  1.261718 -0.996791\n",
              "2013-01-03 -0.762183  0.493651  0.292886  0.566268\n",
              "2013-01-04 -0.943104 -0.621458  1.261407 -0.424963\n",
              "2013-01-05  0.555460  1.265124  1.382343 -0.423750\n",
              "2013-01-06  0.174468 -0.046051 -0.162930  0.011305"
            ]
          },
          "metadata": {
            "tags": []
          },
          "execution_count": 45
        }
      ]
    },
    {
      "cell_type": "code",
      "metadata": {
        "id": "M4CPlPPXYkEX"
      },
      "source": [
        "#creating a new dataframe\n",
        "df2 = pd.DataFrame({\n",
        "'A' : 1.0,\n",
        "'B' : pd.Timestamp('20130102'),\n",
        "'C' : pd.Series(1, index=list(range(4)), dtype='float32'),\n",
        "'D' : np.array([3] * 4, dtype='int32'),\n",
        "'E' : pd.Categorical(['test', 'train', 'test', 'train']),\n",
        "'F' : 'foo'\n",
        "})"
      ],
      "execution_count": 46,
      "outputs": []
    },
    {
      "cell_type": "code",
      "metadata": {
        "colab": {
          "base_uri": "https://localhost:8080/",
          "height": 172
        },
        "id": "9g0ANNvRYkBm",
        "outputId": "150d5b06-9410-4b72-b5e8-f5f8029d93d6"
      },
      "source": [
        "df2"
      ],
      "execution_count": 47,
      "outputs": [
        {
          "output_type": "execute_result",
          "data": {
            "text/html": [
              "<div>\n",
              "<style scoped>\n",
              "    .dataframe tbody tr th:only-of-type {\n",
              "        vertical-align: middle;\n",
              "    }\n",
              "\n",
              "    .dataframe tbody tr th {\n",
              "        vertical-align: top;\n",
              "    }\n",
              "\n",
              "    .dataframe thead th {\n",
              "        text-align: right;\n",
              "    }\n",
              "</style>\n",
              "<table border=\"1\" class=\"dataframe\">\n",
              "  <thead>\n",
              "    <tr style=\"text-align: right;\">\n",
              "      <th></th>\n",
              "      <th>A</th>\n",
              "      <th>B</th>\n",
              "      <th>C</th>\n",
              "      <th>D</th>\n",
              "      <th>E</th>\n",
              "      <th>F</th>\n",
              "    </tr>\n",
              "  </thead>\n",
              "  <tbody>\n",
              "    <tr>\n",
              "      <th>0</th>\n",
              "      <td>1.0</td>\n",
              "      <td>2013-01-02</td>\n",
              "      <td>1.0</td>\n",
              "      <td>3</td>\n",
              "      <td>test</td>\n",
              "      <td>foo</td>\n",
              "    </tr>\n",
              "    <tr>\n",
              "      <th>1</th>\n",
              "      <td>1.0</td>\n",
              "      <td>2013-01-02</td>\n",
              "      <td>1.0</td>\n",
              "      <td>3</td>\n",
              "      <td>train</td>\n",
              "      <td>foo</td>\n",
              "    </tr>\n",
              "    <tr>\n",
              "      <th>2</th>\n",
              "      <td>1.0</td>\n",
              "      <td>2013-01-02</td>\n",
              "      <td>1.0</td>\n",
              "      <td>3</td>\n",
              "      <td>test</td>\n",
              "      <td>foo</td>\n",
              "    </tr>\n",
              "    <tr>\n",
              "      <th>3</th>\n",
              "      <td>1.0</td>\n",
              "      <td>2013-01-02</td>\n",
              "      <td>1.0</td>\n",
              "      <td>3</td>\n",
              "      <td>train</td>\n",
              "      <td>foo</td>\n",
              "    </tr>\n",
              "  </tbody>\n",
              "</table>\n",
              "</div>"
            ],
            "text/plain": [
              "     A          B    C  D      E    F\n",
              "0  1.0 2013-01-02  1.0  3   test  foo\n",
              "1  1.0 2013-01-02  1.0  3  train  foo\n",
              "2  1.0 2013-01-02  1.0  3   test  foo\n",
              "3  1.0 2013-01-02  1.0  3  train  foo"
            ]
          },
          "metadata": {
            "tags": []
          },
          "execution_count": 47
        }
      ]
    },
    {
      "cell_type": "code",
      "metadata": {
        "colab": {
          "base_uri": "https://localhost:8080/"
        },
        "id": "AQ7H8cwWYj98",
        "outputId": "5aa98d75-b57a-43d6-d9dd-60f1084e8a05"
      },
      "source": [
        "df2.dtypes  #datatypes of elements in database"
      ],
      "execution_count": 48,
      "outputs": [
        {
          "output_type": "execute_result",
          "data": {
            "text/plain": [
              "A           float64\n",
              "B    datetime64[ns]\n",
              "C           float32\n",
              "D             int32\n",
              "E          category\n",
              "F            object\n",
              "dtype: object"
            ]
          },
          "metadata": {
            "tags": []
          },
          "execution_count": 48
        }
      ]
    },
    {
      "cell_type": "code",
      "metadata": {
        "colab": {
          "base_uri": "https://localhost:8080/",
          "height": 203
        },
        "id": "5BX-df8sYj2M",
        "outputId": "232c33db-ee86-42de-e1d3-f6f128e61982"
      },
      "source": [
        "df.head(5)   #displaying first 5 rows of database"
      ],
      "execution_count": 49,
      "outputs": [
        {
          "output_type": "execute_result",
          "data": {
            "text/html": [
              "<div>\n",
              "<style scoped>\n",
              "    .dataframe tbody tr th:only-of-type {\n",
              "        vertical-align: middle;\n",
              "    }\n",
              "\n",
              "    .dataframe tbody tr th {\n",
              "        vertical-align: top;\n",
              "    }\n",
              "\n",
              "    .dataframe thead th {\n",
              "        text-align: right;\n",
              "    }\n",
              "</style>\n",
              "<table border=\"1\" class=\"dataframe\">\n",
              "  <thead>\n",
              "    <tr style=\"text-align: right;\">\n",
              "      <th></th>\n",
              "      <th>A</th>\n",
              "      <th>B</th>\n",
              "      <th>C</th>\n",
              "      <th>D</th>\n",
              "    </tr>\n",
              "  </thead>\n",
              "  <tbody>\n",
              "    <tr>\n",
              "      <th>2013-01-01</th>\n",
              "      <td>-1.218362</td>\n",
              "      <td>-1.199253</td>\n",
              "      <td>-1.364646</td>\n",
              "      <td>0.708749</td>\n",
              "    </tr>\n",
              "    <tr>\n",
              "      <th>2013-01-02</th>\n",
              "      <td>-0.347486</td>\n",
              "      <td>-0.849003</td>\n",
              "      <td>1.261718</td>\n",
              "      <td>-0.996791</td>\n",
              "    </tr>\n",
              "    <tr>\n",
              "      <th>2013-01-03</th>\n",
              "      <td>-0.762183</td>\n",
              "      <td>0.493651</td>\n",
              "      <td>0.292886</td>\n",
              "      <td>0.566268</td>\n",
              "    </tr>\n",
              "    <tr>\n",
              "      <th>2013-01-04</th>\n",
              "      <td>-0.943104</td>\n",
              "      <td>-0.621458</td>\n",
              "      <td>1.261407</td>\n",
              "      <td>-0.424963</td>\n",
              "    </tr>\n",
              "    <tr>\n",
              "      <th>2013-01-05</th>\n",
              "      <td>0.555460</td>\n",
              "      <td>1.265124</td>\n",
              "      <td>1.382343</td>\n",
              "      <td>-0.423750</td>\n",
              "    </tr>\n",
              "  </tbody>\n",
              "</table>\n",
              "</div>"
            ],
            "text/plain": [
              "                   A         B         C         D\n",
              "2013-01-01 -1.218362 -1.199253 -1.364646  0.708749\n",
              "2013-01-02 -0.347486 -0.849003  1.261718 -0.996791\n",
              "2013-01-03 -0.762183  0.493651  0.292886  0.566268\n",
              "2013-01-04 -0.943104 -0.621458  1.261407 -0.424963\n",
              "2013-01-05  0.555460  1.265124  1.382343 -0.423750"
            ]
          },
          "metadata": {
            "tags": []
          },
          "execution_count": 49
        }
      ]
    },
    {
      "cell_type": "code",
      "metadata": {
        "colab": {
          "base_uri": "https://localhost:8080/",
          "height": 142
        },
        "id": "Qn_GVXMwaSL9",
        "outputId": "cf896b1a-a6c2-465b-d33c-38e110d2b29d"
      },
      "source": [
        "df.tail(3)  #displaying last 3 rows of database"
      ],
      "execution_count": 50,
      "outputs": [
        {
          "output_type": "execute_result",
          "data": {
            "text/html": [
              "<div>\n",
              "<style scoped>\n",
              "    .dataframe tbody tr th:only-of-type {\n",
              "        vertical-align: middle;\n",
              "    }\n",
              "\n",
              "    .dataframe tbody tr th {\n",
              "        vertical-align: top;\n",
              "    }\n",
              "\n",
              "    .dataframe thead th {\n",
              "        text-align: right;\n",
              "    }\n",
              "</style>\n",
              "<table border=\"1\" class=\"dataframe\">\n",
              "  <thead>\n",
              "    <tr style=\"text-align: right;\">\n",
              "      <th></th>\n",
              "      <th>A</th>\n",
              "      <th>B</th>\n",
              "      <th>C</th>\n",
              "      <th>D</th>\n",
              "    </tr>\n",
              "  </thead>\n",
              "  <tbody>\n",
              "    <tr>\n",
              "      <th>2013-01-04</th>\n",
              "      <td>-0.943104</td>\n",
              "      <td>-0.621458</td>\n",
              "      <td>1.261407</td>\n",
              "      <td>-0.424963</td>\n",
              "    </tr>\n",
              "    <tr>\n",
              "      <th>2013-01-05</th>\n",
              "      <td>0.555460</td>\n",
              "      <td>1.265124</td>\n",
              "      <td>1.382343</td>\n",
              "      <td>-0.423750</td>\n",
              "    </tr>\n",
              "    <tr>\n",
              "      <th>2013-01-06</th>\n",
              "      <td>0.174468</td>\n",
              "      <td>-0.046051</td>\n",
              "      <td>-0.162930</td>\n",
              "      <td>0.011305</td>\n",
              "    </tr>\n",
              "  </tbody>\n",
              "</table>\n",
              "</div>"
            ],
            "text/plain": [
              "                   A         B         C         D\n",
              "2013-01-04 -0.943104 -0.621458  1.261407 -0.424963\n",
              "2013-01-05  0.555460  1.265124  1.382343 -0.423750\n",
              "2013-01-06  0.174468 -0.046051 -0.162930  0.011305"
            ]
          },
          "metadata": {
            "tags": []
          },
          "execution_count": 50
        }
      ]
    },
    {
      "cell_type": "code",
      "metadata": {
        "colab": {
          "base_uri": "https://localhost:8080/"
        },
        "id": "xhoaImxKaSJs",
        "outputId": "27518f15-be7f-40a0-ca86-a4acc50e8a05"
      },
      "source": [
        "df.index  #displaying index"
      ],
      "execution_count": 51,
      "outputs": [
        {
          "output_type": "execute_result",
          "data": {
            "text/plain": [
              "DatetimeIndex(['2013-01-01', '2013-01-02', '2013-01-03', '2013-01-04',\n",
              "               '2013-01-05', '2013-01-06'],\n",
              "              dtype='datetime64[ns]', freq='D')"
            ]
          },
          "metadata": {
            "tags": []
          },
          "execution_count": 51
        }
      ]
    },
    {
      "cell_type": "code",
      "metadata": {
        "colab": {
          "base_uri": "https://localhost:8080/"
        },
        "id": "BjcLfOtiaSHd",
        "outputId": "5dd7303f-a596-4686-bd06-39a7d93163ff"
      },
      "source": [
        "df.columns  #displaying column labels"
      ],
      "execution_count": 52,
      "outputs": [
        {
          "output_type": "execute_result",
          "data": {
            "text/plain": [
              "Index(['A', 'B', 'C', 'D'], dtype='object')"
            ]
          },
          "metadata": {
            "tags": []
          },
          "execution_count": 52
        }
      ]
    },
    {
      "cell_type": "code",
      "metadata": {
        "colab": {
          "base_uri": "https://localhost:8080/"
        },
        "id": "FcI3CjEPaSE-",
        "outputId": "9929d797-64d8-4443-ca48-5fb8be09529d"
      },
      "source": [
        "df.to_numpy()  #arranges database as an array"
      ],
      "execution_count": 53,
      "outputs": [
        {
          "output_type": "execute_result",
          "data": {
            "text/plain": [
              "array([[-1.21836183, -1.19925325, -1.36464582,  0.70874937],\n",
              "       [-0.34748634, -0.84900262,  1.26171755, -0.99679136],\n",
              "       [-0.76218313,  0.4936509 ,  0.29288606,  0.56626754],\n",
              "       [-0.94310382, -0.62145781,  1.26140714, -0.42496297],\n",
              "       [ 0.55546027,  1.26512435,  1.38234318, -0.42375022],\n",
              "       [ 0.17446822, -0.04605087, -0.16293014,  0.01130523]])"
            ]
          },
          "metadata": {
            "tags": []
          },
          "execution_count": 53
        }
      ]
    },
    {
      "cell_type": "code",
      "metadata": {
        "colab": {
          "base_uri": "https://localhost:8080/"
        },
        "id": "8aVR-YxSaSCQ",
        "outputId": "21c0c643-d932-42a4-87c9-d3a5245f3148"
      },
      "source": [
        "df2.to_numpy()\n"
      ],
      "execution_count": 54,
      "outputs": [
        {
          "output_type": "execute_result",
          "data": {
            "text/plain": [
              "array([[1.0, Timestamp('2013-01-02 00:00:00'), 1.0, 3, 'test', 'foo'],\n",
              "       [1.0, Timestamp('2013-01-02 00:00:00'), 1.0, 3, 'train', 'foo'],\n",
              "       [1.0, Timestamp('2013-01-02 00:00:00'), 1.0, 3, 'test', 'foo'],\n",
              "       [1.0, Timestamp('2013-01-02 00:00:00'), 1.0, 3, 'train', 'foo']],\n",
              "      dtype=object)"
            ]
          },
          "metadata": {
            "tags": []
          },
          "execution_count": 54
        }
      ]
    },
    {
      "cell_type": "code",
      "metadata": {
        "colab": {
          "base_uri": "https://localhost:8080/",
          "height": 295
        },
        "id": "w7aXu6B9aSAH",
        "outputId": "33f38a7d-4f70-4009-d5af-7ef599b2b9d4"
      },
      "source": [
        "df.describe()  #displaying detailed statistics"
      ],
      "execution_count": 55,
      "outputs": [
        {
          "output_type": "execute_result",
          "data": {
            "text/html": [
              "<div>\n",
              "<style scoped>\n",
              "    .dataframe tbody tr th:only-of-type {\n",
              "        vertical-align: middle;\n",
              "    }\n",
              "\n",
              "    .dataframe tbody tr th {\n",
              "        vertical-align: top;\n",
              "    }\n",
              "\n",
              "    .dataframe thead th {\n",
              "        text-align: right;\n",
              "    }\n",
              "</style>\n",
              "<table border=\"1\" class=\"dataframe\">\n",
              "  <thead>\n",
              "    <tr style=\"text-align: right;\">\n",
              "      <th></th>\n",
              "      <th>A</th>\n",
              "      <th>B</th>\n",
              "      <th>C</th>\n",
              "      <th>D</th>\n",
              "    </tr>\n",
              "  </thead>\n",
              "  <tbody>\n",
              "    <tr>\n",
              "      <th>count</th>\n",
              "      <td>6.000000</td>\n",
              "      <td>6.000000</td>\n",
              "      <td>6.000000</td>\n",
              "      <td>6.000000</td>\n",
              "    </tr>\n",
              "    <tr>\n",
              "      <th>mean</th>\n",
              "      <td>-0.423534</td>\n",
              "      <td>-0.159498</td>\n",
              "      <td>0.445130</td>\n",
              "      <td>-0.093197</td>\n",
              "    </tr>\n",
              "    <tr>\n",
              "      <th>std</th>\n",
              "      <td>0.683843</td>\n",
              "      <td>0.920754</td>\n",
              "      <td>1.084407</td>\n",
              "      <td>0.651882</td>\n",
              "    </tr>\n",
              "    <tr>\n",
              "      <th>min</th>\n",
              "      <td>-1.218362</td>\n",
              "      <td>-1.199253</td>\n",
              "      <td>-1.364646</td>\n",
              "      <td>-0.996791</td>\n",
              "    </tr>\n",
              "    <tr>\n",
              "      <th>25%</th>\n",
              "      <td>-0.897874</td>\n",
              "      <td>-0.792116</td>\n",
              "      <td>-0.048976</td>\n",
              "      <td>-0.424660</td>\n",
              "    </tr>\n",
              "    <tr>\n",
              "      <th>50%</th>\n",
              "      <td>-0.554835</td>\n",
              "      <td>-0.333754</td>\n",
              "      <td>0.777147</td>\n",
              "      <td>-0.206222</td>\n",
              "    </tr>\n",
              "    <tr>\n",
              "      <th>75%</th>\n",
              "      <td>0.043980</td>\n",
              "      <td>0.358725</td>\n",
              "      <td>1.261640</td>\n",
              "      <td>0.427527</td>\n",
              "    </tr>\n",
              "    <tr>\n",
              "      <th>max</th>\n",
              "      <td>0.555460</td>\n",
              "      <td>1.265124</td>\n",
              "      <td>1.382343</td>\n",
              "      <td>0.708749</td>\n",
              "    </tr>\n",
              "  </tbody>\n",
              "</table>\n",
              "</div>"
            ],
            "text/plain": [
              "              A         B         C         D\n",
              "count  6.000000  6.000000  6.000000  6.000000\n",
              "mean  -0.423534 -0.159498  0.445130 -0.093197\n",
              "std    0.683843  0.920754  1.084407  0.651882\n",
              "min   -1.218362 -1.199253 -1.364646 -0.996791\n",
              "25%   -0.897874 -0.792116 -0.048976 -0.424660\n",
              "50%   -0.554835 -0.333754  0.777147 -0.206222\n",
              "75%    0.043980  0.358725  1.261640  0.427527\n",
              "max    0.555460  1.265124  1.382343  0.708749"
            ]
          },
          "metadata": {
            "tags": []
          },
          "execution_count": 55
        }
      ]
    },
    {
      "cell_type": "code",
      "metadata": {
        "colab": {
          "base_uri": "https://localhost:8080/",
          "height": 172
        },
        "id": "psYWh63faR9N",
        "outputId": "ba3efece-252f-4198-ea94-8ffb147f7baf"
      },
      "source": [
        "df.T  #transposes the database"
      ],
      "execution_count": 56,
      "outputs": [
        {
          "output_type": "execute_result",
          "data": {
            "text/html": [
              "<div>\n",
              "<style scoped>\n",
              "    .dataframe tbody tr th:only-of-type {\n",
              "        vertical-align: middle;\n",
              "    }\n",
              "\n",
              "    .dataframe tbody tr th {\n",
              "        vertical-align: top;\n",
              "    }\n",
              "\n",
              "    .dataframe thead th {\n",
              "        text-align: right;\n",
              "    }\n",
              "</style>\n",
              "<table border=\"1\" class=\"dataframe\">\n",
              "  <thead>\n",
              "    <tr style=\"text-align: right;\">\n",
              "      <th></th>\n",
              "      <th>2013-01-01</th>\n",
              "      <th>2013-01-02</th>\n",
              "      <th>2013-01-03</th>\n",
              "      <th>2013-01-04</th>\n",
              "      <th>2013-01-05</th>\n",
              "      <th>2013-01-06</th>\n",
              "    </tr>\n",
              "  </thead>\n",
              "  <tbody>\n",
              "    <tr>\n",
              "      <th>A</th>\n",
              "      <td>-1.218362</td>\n",
              "      <td>-0.347486</td>\n",
              "      <td>-0.762183</td>\n",
              "      <td>-0.943104</td>\n",
              "      <td>0.555460</td>\n",
              "      <td>0.174468</td>\n",
              "    </tr>\n",
              "    <tr>\n",
              "      <th>B</th>\n",
              "      <td>-1.199253</td>\n",
              "      <td>-0.849003</td>\n",
              "      <td>0.493651</td>\n",
              "      <td>-0.621458</td>\n",
              "      <td>1.265124</td>\n",
              "      <td>-0.046051</td>\n",
              "    </tr>\n",
              "    <tr>\n",
              "      <th>C</th>\n",
              "      <td>-1.364646</td>\n",
              "      <td>1.261718</td>\n",
              "      <td>0.292886</td>\n",
              "      <td>1.261407</td>\n",
              "      <td>1.382343</td>\n",
              "      <td>-0.162930</td>\n",
              "    </tr>\n",
              "    <tr>\n",
              "      <th>D</th>\n",
              "      <td>0.708749</td>\n",
              "      <td>-0.996791</td>\n",
              "      <td>0.566268</td>\n",
              "      <td>-0.424963</td>\n",
              "      <td>-0.423750</td>\n",
              "      <td>0.011305</td>\n",
              "    </tr>\n",
              "  </tbody>\n",
              "</table>\n",
              "</div>"
            ],
            "text/plain": [
              "   2013-01-01  2013-01-02  2013-01-03  2013-01-04  2013-01-05  2013-01-06\n",
              "A   -1.218362   -0.347486   -0.762183   -0.943104    0.555460    0.174468\n",
              "B   -1.199253   -0.849003    0.493651   -0.621458    1.265124   -0.046051\n",
              "C   -1.364646    1.261718    0.292886    1.261407    1.382343   -0.162930\n",
              "D    0.708749   -0.996791    0.566268   -0.424963   -0.423750    0.011305"
            ]
          },
          "metadata": {
            "tags": []
          },
          "execution_count": 56
        }
      ]
    },
    {
      "cell_type": "code",
      "metadata": {
        "colab": {
          "base_uri": "https://localhost:8080/",
          "height": 234
        },
        "id": "WRorR6g2aR5p",
        "outputId": "cf9b8f29-e513-4779-be57-04c36dbb97b2"
      },
      "source": [
        "df.sort_index(axis=1, ascending=False)\n"
      ],
      "execution_count": 57,
      "outputs": [
        {
          "output_type": "execute_result",
          "data": {
            "text/html": [
              "<div>\n",
              "<style scoped>\n",
              "    .dataframe tbody tr th:only-of-type {\n",
              "        vertical-align: middle;\n",
              "    }\n",
              "\n",
              "    .dataframe tbody tr th {\n",
              "        vertical-align: top;\n",
              "    }\n",
              "\n",
              "    .dataframe thead th {\n",
              "        text-align: right;\n",
              "    }\n",
              "</style>\n",
              "<table border=\"1\" class=\"dataframe\">\n",
              "  <thead>\n",
              "    <tr style=\"text-align: right;\">\n",
              "      <th></th>\n",
              "      <th>D</th>\n",
              "      <th>C</th>\n",
              "      <th>B</th>\n",
              "      <th>A</th>\n",
              "    </tr>\n",
              "  </thead>\n",
              "  <tbody>\n",
              "    <tr>\n",
              "      <th>2013-01-01</th>\n",
              "      <td>0.708749</td>\n",
              "      <td>-1.364646</td>\n",
              "      <td>-1.199253</td>\n",
              "      <td>-1.218362</td>\n",
              "    </tr>\n",
              "    <tr>\n",
              "      <th>2013-01-02</th>\n",
              "      <td>-0.996791</td>\n",
              "      <td>1.261718</td>\n",
              "      <td>-0.849003</td>\n",
              "      <td>-0.347486</td>\n",
              "    </tr>\n",
              "    <tr>\n",
              "      <th>2013-01-03</th>\n",
              "      <td>0.566268</td>\n",
              "      <td>0.292886</td>\n",
              "      <td>0.493651</td>\n",
              "      <td>-0.762183</td>\n",
              "    </tr>\n",
              "    <tr>\n",
              "      <th>2013-01-04</th>\n",
              "      <td>-0.424963</td>\n",
              "      <td>1.261407</td>\n",
              "      <td>-0.621458</td>\n",
              "      <td>-0.943104</td>\n",
              "    </tr>\n",
              "    <tr>\n",
              "      <th>2013-01-05</th>\n",
              "      <td>-0.423750</td>\n",
              "      <td>1.382343</td>\n",
              "      <td>1.265124</td>\n",
              "      <td>0.555460</td>\n",
              "    </tr>\n",
              "    <tr>\n",
              "      <th>2013-01-06</th>\n",
              "      <td>0.011305</td>\n",
              "      <td>-0.162930</td>\n",
              "      <td>-0.046051</td>\n",
              "      <td>0.174468</td>\n",
              "    </tr>\n",
              "  </tbody>\n",
              "</table>\n",
              "</div>"
            ],
            "text/plain": [
              "                   D         C         B         A\n",
              "2013-01-01  0.708749 -1.364646 -1.199253 -1.218362\n",
              "2013-01-02 -0.996791  1.261718 -0.849003 -0.347486\n",
              "2013-01-03  0.566268  0.292886  0.493651 -0.762183\n",
              "2013-01-04 -0.424963  1.261407 -0.621458 -0.943104\n",
              "2013-01-05 -0.423750  1.382343  1.265124  0.555460\n",
              "2013-01-06  0.011305 -0.162930 -0.046051  0.174468"
            ]
          },
          "metadata": {
            "tags": []
          },
          "execution_count": 57
        }
      ]
    },
    {
      "cell_type": "code",
      "metadata": {
        "colab": {
          "base_uri": "https://localhost:8080/",
          "height": 234
        },
        "id": "kVCN6cLmaRx1",
        "outputId": "ce68967a-ffa4-4eb2-db4e-191843bc3e29"
      },
      "source": [
        "df.sort_values(by='B')  #sorting the databases according to ascending of column B"
      ],
      "execution_count": 58,
      "outputs": [
        {
          "output_type": "execute_result",
          "data": {
            "text/html": [
              "<div>\n",
              "<style scoped>\n",
              "    .dataframe tbody tr th:only-of-type {\n",
              "        vertical-align: middle;\n",
              "    }\n",
              "\n",
              "    .dataframe tbody tr th {\n",
              "        vertical-align: top;\n",
              "    }\n",
              "\n",
              "    .dataframe thead th {\n",
              "        text-align: right;\n",
              "    }\n",
              "</style>\n",
              "<table border=\"1\" class=\"dataframe\">\n",
              "  <thead>\n",
              "    <tr style=\"text-align: right;\">\n",
              "      <th></th>\n",
              "      <th>A</th>\n",
              "      <th>B</th>\n",
              "      <th>C</th>\n",
              "      <th>D</th>\n",
              "    </tr>\n",
              "  </thead>\n",
              "  <tbody>\n",
              "    <tr>\n",
              "      <th>2013-01-01</th>\n",
              "      <td>-1.218362</td>\n",
              "      <td>-1.199253</td>\n",
              "      <td>-1.364646</td>\n",
              "      <td>0.708749</td>\n",
              "    </tr>\n",
              "    <tr>\n",
              "      <th>2013-01-02</th>\n",
              "      <td>-0.347486</td>\n",
              "      <td>-0.849003</td>\n",
              "      <td>1.261718</td>\n",
              "      <td>-0.996791</td>\n",
              "    </tr>\n",
              "    <tr>\n",
              "      <th>2013-01-04</th>\n",
              "      <td>-0.943104</td>\n",
              "      <td>-0.621458</td>\n",
              "      <td>1.261407</td>\n",
              "      <td>-0.424963</td>\n",
              "    </tr>\n",
              "    <tr>\n",
              "      <th>2013-01-06</th>\n",
              "      <td>0.174468</td>\n",
              "      <td>-0.046051</td>\n",
              "      <td>-0.162930</td>\n",
              "      <td>0.011305</td>\n",
              "    </tr>\n",
              "    <tr>\n",
              "      <th>2013-01-03</th>\n",
              "      <td>-0.762183</td>\n",
              "      <td>0.493651</td>\n",
              "      <td>0.292886</td>\n",
              "      <td>0.566268</td>\n",
              "    </tr>\n",
              "    <tr>\n",
              "      <th>2013-01-05</th>\n",
              "      <td>0.555460</td>\n",
              "      <td>1.265124</td>\n",
              "      <td>1.382343</td>\n",
              "      <td>-0.423750</td>\n",
              "    </tr>\n",
              "  </tbody>\n",
              "</table>\n",
              "</div>"
            ],
            "text/plain": [
              "                   A         B         C         D\n",
              "2013-01-01 -1.218362 -1.199253 -1.364646  0.708749\n",
              "2013-01-02 -0.347486 -0.849003  1.261718 -0.996791\n",
              "2013-01-04 -0.943104 -0.621458  1.261407 -0.424963\n",
              "2013-01-06  0.174468 -0.046051 -0.162930  0.011305\n",
              "2013-01-03 -0.762183  0.493651  0.292886  0.566268\n",
              "2013-01-05  0.555460  1.265124  1.382343 -0.423750"
            ]
          },
          "metadata": {
            "tags": []
          },
          "execution_count": 58
        }
      ]
    },
    {
      "cell_type": "code",
      "metadata": {
        "colab": {
          "base_uri": "https://localhost:8080/"
        },
        "id": "rQyjk-FaanyU",
        "outputId": "a939b747-e50d-4fd0-894f-8dd9954f755b"
      },
      "source": [
        "df['A']  #displaying column values of A"
      ],
      "execution_count": 59,
      "outputs": [
        {
          "output_type": "execute_result",
          "data": {
            "text/plain": [
              "2013-01-01   -1.218362\n",
              "2013-01-02   -0.347486\n",
              "2013-01-03   -0.762183\n",
              "2013-01-04   -0.943104\n",
              "2013-01-05    0.555460\n",
              "2013-01-06    0.174468\n",
              "Freq: D, Name: A, dtype: float64"
            ]
          },
          "metadata": {
            "tags": []
          },
          "execution_count": 59
        }
      ]
    },
    {
      "cell_type": "code",
      "metadata": {
        "colab": {
          "base_uri": "https://localhost:8080/",
          "height": 142
        },
        "id": "FTuARhEEanvr",
        "outputId": "ad29b1b4-b73b-47f2-b9aa-270bfc157dea"
      },
      "source": [
        "df[0:3]  #displaying columns in given range"
      ],
      "execution_count": 60,
      "outputs": [
        {
          "output_type": "execute_result",
          "data": {
            "text/html": [
              "<div>\n",
              "<style scoped>\n",
              "    .dataframe tbody tr th:only-of-type {\n",
              "        vertical-align: middle;\n",
              "    }\n",
              "\n",
              "    .dataframe tbody tr th {\n",
              "        vertical-align: top;\n",
              "    }\n",
              "\n",
              "    .dataframe thead th {\n",
              "        text-align: right;\n",
              "    }\n",
              "</style>\n",
              "<table border=\"1\" class=\"dataframe\">\n",
              "  <thead>\n",
              "    <tr style=\"text-align: right;\">\n",
              "      <th></th>\n",
              "      <th>A</th>\n",
              "      <th>B</th>\n",
              "      <th>C</th>\n",
              "      <th>D</th>\n",
              "    </tr>\n",
              "  </thead>\n",
              "  <tbody>\n",
              "    <tr>\n",
              "      <th>2013-01-01</th>\n",
              "      <td>-1.218362</td>\n",
              "      <td>-1.199253</td>\n",
              "      <td>-1.364646</td>\n",
              "      <td>0.708749</td>\n",
              "    </tr>\n",
              "    <tr>\n",
              "      <th>2013-01-02</th>\n",
              "      <td>-0.347486</td>\n",
              "      <td>-0.849003</td>\n",
              "      <td>1.261718</td>\n",
              "      <td>-0.996791</td>\n",
              "    </tr>\n",
              "    <tr>\n",
              "      <th>2013-01-03</th>\n",
              "      <td>-0.762183</td>\n",
              "      <td>0.493651</td>\n",
              "      <td>0.292886</td>\n",
              "      <td>0.566268</td>\n",
              "    </tr>\n",
              "  </tbody>\n",
              "</table>\n",
              "</div>"
            ],
            "text/plain": [
              "                   A         B         C         D\n",
              "2013-01-01 -1.218362 -1.199253 -1.364646  0.708749\n",
              "2013-01-02 -0.347486 -0.849003  1.261718 -0.996791\n",
              "2013-01-03 -0.762183  0.493651  0.292886  0.566268"
            ]
          },
          "metadata": {
            "tags": []
          },
          "execution_count": 60
        }
      ]
    },
    {
      "cell_type": "code",
      "metadata": {
        "colab": {
          "base_uri": "https://localhost:8080/",
          "height": 142
        },
        "id": "JxGZjZxsanta",
        "outputId": "ac53cccb-83cd-4f37-e9f3-93292d73e2e7"
      },
      "source": [
        "df['20130102':'20130104']  #displaying data in given date range\n"
      ],
      "execution_count": 61,
      "outputs": [
        {
          "output_type": "execute_result",
          "data": {
            "text/html": [
              "<div>\n",
              "<style scoped>\n",
              "    .dataframe tbody tr th:only-of-type {\n",
              "        vertical-align: middle;\n",
              "    }\n",
              "\n",
              "    .dataframe tbody tr th {\n",
              "        vertical-align: top;\n",
              "    }\n",
              "\n",
              "    .dataframe thead th {\n",
              "        text-align: right;\n",
              "    }\n",
              "</style>\n",
              "<table border=\"1\" class=\"dataframe\">\n",
              "  <thead>\n",
              "    <tr style=\"text-align: right;\">\n",
              "      <th></th>\n",
              "      <th>A</th>\n",
              "      <th>B</th>\n",
              "      <th>C</th>\n",
              "      <th>D</th>\n",
              "    </tr>\n",
              "  </thead>\n",
              "  <tbody>\n",
              "    <tr>\n",
              "      <th>2013-01-02</th>\n",
              "      <td>-0.347486</td>\n",
              "      <td>-0.849003</td>\n",
              "      <td>1.261718</td>\n",
              "      <td>-0.996791</td>\n",
              "    </tr>\n",
              "    <tr>\n",
              "      <th>2013-01-03</th>\n",
              "      <td>-0.762183</td>\n",
              "      <td>0.493651</td>\n",
              "      <td>0.292886</td>\n",
              "      <td>0.566268</td>\n",
              "    </tr>\n",
              "    <tr>\n",
              "      <th>2013-01-04</th>\n",
              "      <td>-0.943104</td>\n",
              "      <td>-0.621458</td>\n",
              "      <td>1.261407</td>\n",
              "      <td>-0.424963</td>\n",
              "    </tr>\n",
              "  </tbody>\n",
              "</table>\n",
              "</div>"
            ],
            "text/plain": [
              "                   A         B         C         D\n",
              "2013-01-02 -0.347486 -0.849003  1.261718 -0.996791\n",
              "2013-01-03 -0.762183  0.493651  0.292886  0.566268\n",
              "2013-01-04 -0.943104 -0.621458  1.261407 -0.424963"
            ]
          },
          "metadata": {
            "tags": []
          },
          "execution_count": 61
        }
      ]
    },
    {
      "cell_type": "code",
      "metadata": {
        "colab": {
          "base_uri": "https://localhost:8080/"
        },
        "id": "9R_gVqm_anqq",
        "outputId": "c69f72f7-adf2-4569-c860-2ba05a69017a"
      },
      "source": [
        "df.loc[dates[0]]  #values at index 0 in date columns"
      ],
      "execution_count": 62,
      "outputs": [
        {
          "output_type": "execute_result",
          "data": {
            "text/plain": [
              "A   -1.218362\n",
              "B   -1.199253\n",
              "C   -1.364646\n",
              "D    0.708749\n",
              "Name: 2013-01-01 00:00:00, dtype: float64"
            ]
          },
          "metadata": {
            "tags": []
          },
          "execution_count": 62
        }
      ]
    },
    {
      "cell_type": "code",
      "metadata": {
        "colab": {
          "base_uri": "https://localhost:8080/",
          "height": 234
        },
        "id": "rRUj4Z-Vann_",
        "outputId": "3de34d98-6b4a-4797-a284-aa78868c8a31"
      },
      "source": [
        "df.loc[:, [\"A\", \"B\"]]  #displaying values of column A and B"
      ],
      "execution_count": 63,
      "outputs": [
        {
          "output_type": "execute_result",
          "data": {
            "text/html": [
              "<div>\n",
              "<style scoped>\n",
              "    .dataframe tbody tr th:only-of-type {\n",
              "        vertical-align: middle;\n",
              "    }\n",
              "\n",
              "    .dataframe tbody tr th {\n",
              "        vertical-align: top;\n",
              "    }\n",
              "\n",
              "    .dataframe thead th {\n",
              "        text-align: right;\n",
              "    }\n",
              "</style>\n",
              "<table border=\"1\" class=\"dataframe\">\n",
              "  <thead>\n",
              "    <tr style=\"text-align: right;\">\n",
              "      <th></th>\n",
              "      <th>A</th>\n",
              "      <th>B</th>\n",
              "    </tr>\n",
              "  </thead>\n",
              "  <tbody>\n",
              "    <tr>\n",
              "      <th>2013-01-01</th>\n",
              "      <td>-1.218362</td>\n",
              "      <td>-1.199253</td>\n",
              "    </tr>\n",
              "    <tr>\n",
              "      <th>2013-01-02</th>\n",
              "      <td>-0.347486</td>\n",
              "      <td>-0.849003</td>\n",
              "    </tr>\n",
              "    <tr>\n",
              "      <th>2013-01-03</th>\n",
              "      <td>-0.762183</td>\n",
              "      <td>0.493651</td>\n",
              "    </tr>\n",
              "    <tr>\n",
              "      <th>2013-01-04</th>\n",
              "      <td>-0.943104</td>\n",
              "      <td>-0.621458</td>\n",
              "    </tr>\n",
              "    <tr>\n",
              "      <th>2013-01-05</th>\n",
              "      <td>0.555460</td>\n",
              "      <td>1.265124</td>\n",
              "    </tr>\n",
              "    <tr>\n",
              "      <th>2013-01-06</th>\n",
              "      <td>0.174468</td>\n",
              "      <td>-0.046051</td>\n",
              "    </tr>\n",
              "  </tbody>\n",
              "</table>\n",
              "</div>"
            ],
            "text/plain": [
              "                   A         B\n",
              "2013-01-01 -1.218362 -1.199253\n",
              "2013-01-02 -0.347486 -0.849003\n",
              "2013-01-03 -0.762183  0.493651\n",
              "2013-01-04 -0.943104 -0.621458\n",
              "2013-01-05  0.555460  1.265124\n",
              "2013-01-06  0.174468 -0.046051"
            ]
          },
          "metadata": {
            "tags": []
          },
          "execution_count": 63
        }
      ]
    },
    {
      "cell_type": "code",
      "metadata": {
        "colab": {
          "base_uri": "https://localhost:8080/"
        },
        "id": "v4JRG2_0anld",
        "outputId": "29bd94cd-634a-49d4-ad16-b5a9990eb35e"
      },
      "source": [
        "df.at[dates[0], 'A']  #displaying values of column A at index 0\n"
      ],
      "execution_count": 64,
      "outputs": [
        {
          "output_type": "execute_result",
          "data": {
            "text/plain": [
              "-1.2183618301835726"
            ]
          },
          "metadata": {
            "tags": []
          },
          "execution_count": 64
        }
      ]
    },
    {
      "cell_type": "code",
      "metadata": {
        "colab": {
          "base_uri": "https://localhost:8080/"
        },
        "id": "VHBxuAAqanjC",
        "outputId": "555f1983-52ae-4222-aee6-a1da025aa59e"
      },
      "source": [
        " df.iloc[3]\n"
      ],
      "execution_count": 65,
      "outputs": [
        {
          "output_type": "execute_result",
          "data": {
            "text/plain": [
              "A   -0.943104\n",
              "B   -0.621458\n",
              "C    1.261407\n",
              "D   -0.424963\n",
              "Name: 2013-01-04 00:00:00, dtype: float64"
            ]
          },
          "metadata": {
            "tags": []
          },
          "execution_count": 65
        }
      ]
    },
    {
      "cell_type": "code",
      "metadata": {
        "colab": {
          "base_uri": "https://localhost:8080/",
          "height": 110
        },
        "id": "1awt9lusangd",
        "outputId": "9a161ed6-3142-4f22-87bf-a25e22b8f86a"
      },
      "source": [
        "df[df['A'] > 0]  #display rows where A>0\n"
      ],
      "execution_count": 66,
      "outputs": [
        {
          "output_type": "execute_result",
          "data": {
            "text/html": [
              "<div>\n",
              "<style scoped>\n",
              "    .dataframe tbody tr th:only-of-type {\n",
              "        vertical-align: middle;\n",
              "    }\n",
              "\n",
              "    .dataframe tbody tr th {\n",
              "        vertical-align: top;\n",
              "    }\n",
              "\n",
              "    .dataframe thead th {\n",
              "        text-align: right;\n",
              "    }\n",
              "</style>\n",
              "<table border=\"1\" class=\"dataframe\">\n",
              "  <thead>\n",
              "    <tr style=\"text-align: right;\">\n",
              "      <th></th>\n",
              "      <th>A</th>\n",
              "      <th>B</th>\n",
              "      <th>C</th>\n",
              "      <th>D</th>\n",
              "    </tr>\n",
              "  </thead>\n",
              "  <tbody>\n",
              "    <tr>\n",
              "      <th>2013-01-05</th>\n",
              "      <td>0.555460</td>\n",
              "      <td>1.265124</td>\n",
              "      <td>1.382343</td>\n",
              "      <td>-0.423750</td>\n",
              "    </tr>\n",
              "    <tr>\n",
              "      <th>2013-01-06</th>\n",
              "      <td>0.174468</td>\n",
              "      <td>-0.046051</td>\n",
              "      <td>-0.162930</td>\n",
              "      <td>0.011305</td>\n",
              "    </tr>\n",
              "  </tbody>\n",
              "</table>\n",
              "</div>"
            ],
            "text/plain": [
              "                   A         B         C         D\n",
              "2013-01-05  0.555460  1.265124  1.382343 -0.423750\n",
              "2013-01-06  0.174468 -0.046051 -0.162930  0.011305"
            ]
          },
          "metadata": {
            "tags": []
          },
          "execution_count": 66
        }
      ]
    },
    {
      "cell_type": "code",
      "metadata": {
        "id": "r6GrWW60and7"
      },
      "source": [
        "s1 = pd.Series([1, 2, 3, 4, 5, 6], index=pd.date_range(\"20130102\", periods=6))  #create new series\n"
      ],
      "execution_count": 67,
      "outputs": []
    },
    {
      "cell_type": "code",
      "metadata": {
        "colab": {
          "base_uri": "https://localhost:8080/"
        },
        "id": "zK3Ct5isanbJ",
        "outputId": "6ead57d1-c498-4322-803c-d29c84aa94e1"
      },
      "source": [
        "s1"
      ],
      "execution_count": 68,
      "outputs": [
        {
          "output_type": "execute_result",
          "data": {
            "text/plain": [
              "2013-01-02    1\n",
              "2013-01-03    2\n",
              "2013-01-04    3\n",
              "2013-01-05    4\n",
              "2013-01-06    5\n",
              "2013-01-07    6\n",
              "Freq: D, dtype: int64"
            ]
          },
          "metadata": {
            "tags": []
          },
          "execution_count": 68
        }
      ]
    },
    {
      "cell_type": "code",
      "metadata": {
        "id": "STdoeFenanVe"
      },
      "source": [
        "df['F'] = s1\n"
      ],
      "execution_count": 69,
      "outputs": []
    },
    {
      "cell_type": "code",
      "metadata": {
        "colab": {
          "base_uri": "https://localhost:8080/",
          "height": 234
        },
        "id": "cXo5f7MwbHoU",
        "outputId": "f5309de1-b7f8-4f32-db48-4822c7e2e074"
      },
      "source": [
        "df"
      ],
      "execution_count": 70,
      "outputs": [
        {
          "output_type": "execute_result",
          "data": {
            "text/html": [
              "<div>\n",
              "<style scoped>\n",
              "    .dataframe tbody tr th:only-of-type {\n",
              "        vertical-align: middle;\n",
              "    }\n",
              "\n",
              "    .dataframe tbody tr th {\n",
              "        vertical-align: top;\n",
              "    }\n",
              "\n",
              "    .dataframe thead th {\n",
              "        text-align: right;\n",
              "    }\n",
              "</style>\n",
              "<table border=\"1\" class=\"dataframe\">\n",
              "  <thead>\n",
              "    <tr style=\"text-align: right;\">\n",
              "      <th></th>\n",
              "      <th>A</th>\n",
              "      <th>B</th>\n",
              "      <th>C</th>\n",
              "      <th>D</th>\n",
              "      <th>F</th>\n",
              "    </tr>\n",
              "  </thead>\n",
              "  <tbody>\n",
              "    <tr>\n",
              "      <th>2013-01-01</th>\n",
              "      <td>-1.218362</td>\n",
              "      <td>-1.199253</td>\n",
              "      <td>-1.364646</td>\n",
              "      <td>0.708749</td>\n",
              "      <td>NaN</td>\n",
              "    </tr>\n",
              "    <tr>\n",
              "      <th>2013-01-02</th>\n",
              "      <td>-0.347486</td>\n",
              "      <td>-0.849003</td>\n",
              "      <td>1.261718</td>\n",
              "      <td>-0.996791</td>\n",
              "      <td>1.0</td>\n",
              "    </tr>\n",
              "    <tr>\n",
              "      <th>2013-01-03</th>\n",
              "      <td>-0.762183</td>\n",
              "      <td>0.493651</td>\n",
              "      <td>0.292886</td>\n",
              "      <td>0.566268</td>\n",
              "      <td>2.0</td>\n",
              "    </tr>\n",
              "    <tr>\n",
              "      <th>2013-01-04</th>\n",
              "      <td>-0.943104</td>\n",
              "      <td>-0.621458</td>\n",
              "      <td>1.261407</td>\n",
              "      <td>-0.424963</td>\n",
              "      <td>3.0</td>\n",
              "    </tr>\n",
              "    <tr>\n",
              "      <th>2013-01-05</th>\n",
              "      <td>0.555460</td>\n",
              "      <td>1.265124</td>\n",
              "      <td>1.382343</td>\n",
              "      <td>-0.423750</td>\n",
              "      <td>4.0</td>\n",
              "    </tr>\n",
              "    <tr>\n",
              "      <th>2013-01-06</th>\n",
              "      <td>0.174468</td>\n",
              "      <td>-0.046051</td>\n",
              "      <td>-0.162930</td>\n",
              "      <td>0.011305</td>\n",
              "      <td>5.0</td>\n",
              "    </tr>\n",
              "  </tbody>\n",
              "</table>\n",
              "</div>"
            ],
            "text/plain": [
              "                   A         B         C         D    F\n",
              "2013-01-01 -1.218362 -1.199253 -1.364646  0.708749  NaN\n",
              "2013-01-02 -0.347486 -0.849003  1.261718 -0.996791  1.0\n",
              "2013-01-03 -0.762183  0.493651  0.292886  0.566268  2.0\n",
              "2013-01-04 -0.943104 -0.621458  1.261407 -0.424963  3.0\n",
              "2013-01-05  0.555460  1.265124  1.382343 -0.423750  4.0\n",
              "2013-01-06  0.174468 -0.046051 -0.162930  0.011305  5.0"
            ]
          },
          "metadata": {
            "tags": []
          },
          "execution_count": 70
        }
      ]
    },
    {
      "cell_type": "code",
      "metadata": {
        "colab": {
          "base_uri": "https://localhost:8080/",
          "height": 234
        },
        "id": "BGpiDDFjbHls",
        "outputId": "52e31df2-c19f-4578-872e-74c0169822b3"
      },
      "source": [
        "df.fillna(value=5)"
      ],
      "execution_count": 71,
      "outputs": [
        {
          "output_type": "execute_result",
          "data": {
            "text/html": [
              "<div>\n",
              "<style scoped>\n",
              "    .dataframe tbody tr th:only-of-type {\n",
              "        vertical-align: middle;\n",
              "    }\n",
              "\n",
              "    .dataframe tbody tr th {\n",
              "        vertical-align: top;\n",
              "    }\n",
              "\n",
              "    .dataframe thead th {\n",
              "        text-align: right;\n",
              "    }\n",
              "</style>\n",
              "<table border=\"1\" class=\"dataframe\">\n",
              "  <thead>\n",
              "    <tr style=\"text-align: right;\">\n",
              "      <th></th>\n",
              "      <th>A</th>\n",
              "      <th>B</th>\n",
              "      <th>C</th>\n",
              "      <th>D</th>\n",
              "      <th>F</th>\n",
              "    </tr>\n",
              "  </thead>\n",
              "  <tbody>\n",
              "    <tr>\n",
              "      <th>2013-01-01</th>\n",
              "      <td>-1.218362</td>\n",
              "      <td>-1.199253</td>\n",
              "      <td>-1.364646</td>\n",
              "      <td>0.708749</td>\n",
              "      <td>5.0</td>\n",
              "    </tr>\n",
              "    <tr>\n",
              "      <th>2013-01-02</th>\n",
              "      <td>-0.347486</td>\n",
              "      <td>-0.849003</td>\n",
              "      <td>1.261718</td>\n",
              "      <td>-0.996791</td>\n",
              "      <td>1.0</td>\n",
              "    </tr>\n",
              "    <tr>\n",
              "      <th>2013-01-03</th>\n",
              "      <td>-0.762183</td>\n",
              "      <td>0.493651</td>\n",
              "      <td>0.292886</td>\n",
              "      <td>0.566268</td>\n",
              "      <td>2.0</td>\n",
              "    </tr>\n",
              "    <tr>\n",
              "      <th>2013-01-04</th>\n",
              "      <td>-0.943104</td>\n",
              "      <td>-0.621458</td>\n",
              "      <td>1.261407</td>\n",
              "      <td>-0.424963</td>\n",
              "      <td>3.0</td>\n",
              "    </tr>\n",
              "    <tr>\n",
              "      <th>2013-01-05</th>\n",
              "      <td>0.555460</td>\n",
              "      <td>1.265124</td>\n",
              "      <td>1.382343</td>\n",
              "      <td>-0.423750</td>\n",
              "      <td>4.0</td>\n",
              "    </tr>\n",
              "    <tr>\n",
              "      <th>2013-01-06</th>\n",
              "      <td>0.174468</td>\n",
              "      <td>-0.046051</td>\n",
              "      <td>-0.162930</td>\n",
              "      <td>0.011305</td>\n",
              "      <td>5.0</td>\n",
              "    </tr>\n",
              "  </tbody>\n",
              "</table>\n",
              "</div>"
            ],
            "text/plain": [
              "                   A         B         C         D    F\n",
              "2013-01-01 -1.218362 -1.199253 -1.364646  0.708749  5.0\n",
              "2013-01-02 -0.347486 -0.849003  1.261718 -0.996791  1.0\n",
              "2013-01-03 -0.762183  0.493651  0.292886  0.566268  2.0\n",
              "2013-01-04 -0.943104 -0.621458  1.261407 -0.424963  3.0\n",
              "2013-01-05  0.555460  1.265124  1.382343 -0.423750  4.0\n",
              "2013-01-06  0.174468 -0.046051 -0.162930  0.011305  5.0"
            ]
          },
          "metadata": {
            "tags": []
          },
          "execution_count": 71
        }
      ]
    },
    {
      "cell_type": "code",
      "metadata": {
        "colab": {
          "base_uri": "https://localhost:8080/",
          "height": 234
        },
        "id": "gPM8pZdVbHij",
        "outputId": "3dba59da-c93a-4efc-9890-65d1aedc8fb5"
      },
      "source": [
        "pd.isna(df)"
      ],
      "execution_count": 72,
      "outputs": [
        {
          "output_type": "execute_result",
          "data": {
            "text/html": [
              "<div>\n",
              "<style scoped>\n",
              "    .dataframe tbody tr th:only-of-type {\n",
              "        vertical-align: middle;\n",
              "    }\n",
              "\n",
              "    .dataframe tbody tr th {\n",
              "        vertical-align: top;\n",
              "    }\n",
              "\n",
              "    .dataframe thead th {\n",
              "        text-align: right;\n",
              "    }\n",
              "</style>\n",
              "<table border=\"1\" class=\"dataframe\">\n",
              "  <thead>\n",
              "    <tr style=\"text-align: right;\">\n",
              "      <th></th>\n",
              "      <th>A</th>\n",
              "      <th>B</th>\n",
              "      <th>C</th>\n",
              "      <th>D</th>\n",
              "      <th>F</th>\n",
              "    </tr>\n",
              "  </thead>\n",
              "  <tbody>\n",
              "    <tr>\n",
              "      <th>2013-01-01</th>\n",
              "      <td>False</td>\n",
              "      <td>False</td>\n",
              "      <td>False</td>\n",
              "      <td>False</td>\n",
              "      <td>True</td>\n",
              "    </tr>\n",
              "    <tr>\n",
              "      <th>2013-01-02</th>\n",
              "      <td>False</td>\n",
              "      <td>False</td>\n",
              "      <td>False</td>\n",
              "      <td>False</td>\n",
              "      <td>False</td>\n",
              "    </tr>\n",
              "    <tr>\n",
              "      <th>2013-01-03</th>\n",
              "      <td>False</td>\n",
              "      <td>False</td>\n",
              "      <td>False</td>\n",
              "      <td>False</td>\n",
              "      <td>False</td>\n",
              "    </tr>\n",
              "    <tr>\n",
              "      <th>2013-01-04</th>\n",
              "      <td>False</td>\n",
              "      <td>False</td>\n",
              "      <td>False</td>\n",
              "      <td>False</td>\n",
              "      <td>False</td>\n",
              "    </tr>\n",
              "    <tr>\n",
              "      <th>2013-01-05</th>\n",
              "      <td>False</td>\n",
              "      <td>False</td>\n",
              "      <td>False</td>\n",
              "      <td>False</td>\n",
              "      <td>False</td>\n",
              "    </tr>\n",
              "    <tr>\n",
              "      <th>2013-01-06</th>\n",
              "      <td>False</td>\n",
              "      <td>False</td>\n",
              "      <td>False</td>\n",
              "      <td>False</td>\n",
              "      <td>False</td>\n",
              "    </tr>\n",
              "  </tbody>\n",
              "</table>\n",
              "</div>"
            ],
            "text/plain": [
              "                A      B      C      D      F\n",
              "2013-01-01  False  False  False  False   True\n",
              "2013-01-02  False  False  False  False  False\n",
              "2013-01-03  False  False  False  False  False\n",
              "2013-01-04  False  False  False  False  False\n",
              "2013-01-05  False  False  False  False  False\n",
              "2013-01-06  False  False  False  False  False"
            ]
          },
          "metadata": {
            "tags": []
          },
          "execution_count": 72
        }
      ]
    },
    {
      "cell_type": "code",
      "metadata": {
        "colab": {
          "base_uri": "https://localhost:8080/"
        },
        "id": "mLo_dxU5bHfw",
        "outputId": "458e231c-867f-4e2c-f7f9-2be273e60049"
      },
      "source": [
        "df.mean()  #displays mean value of columns\n"
      ],
      "execution_count": 73,
      "outputs": [
        {
          "output_type": "execute_result",
          "data": {
            "text/plain": [
              "A   -0.423534\n",
              "B   -0.159498\n",
              "C    0.445130\n",
              "D   -0.093197\n",
              "F    3.000000\n",
              "dtype: float64"
            ]
          },
          "metadata": {
            "tags": []
          },
          "execution_count": 73
        }
      ]
    },
    {
      "cell_type": "code",
      "metadata": {
        "colab": {
          "base_uri": "https://localhost:8080/"
        },
        "id": "Bf8SJUbNbHde",
        "outputId": "41422d0e-60ad-40e7-a148-d8511977056c"
      },
      "source": [
        "df.mean(axis=1)\n"
      ],
      "execution_count": 74,
      "outputs": [
        {
          "output_type": "execute_result",
          "data": {
            "text/plain": [
              "2013-01-01   -0.768378\n",
              "2013-01-02    0.013687\n",
              "2013-01-03    0.518124\n",
              "2013-01-04    0.454377\n",
              "2013-01-05    1.355836\n",
              "2013-01-06    0.995358\n",
              "Freq: D, dtype: float64"
            ]
          },
          "metadata": {
            "tags": []
          },
          "execution_count": 74
        }
      ]
    },
    {
      "cell_type": "code",
      "metadata": {
        "colab": {
          "base_uri": "https://localhost:8080/",
          "height": 234
        },
        "id": "RAQwzLa9bHbB",
        "outputId": "5c4c16b3-fdeb-4559-83cc-ab5f458c8c69"
      },
      "source": [
        "df.apply(np.cumsum)  "
      ],
      "execution_count": 75,
      "outputs": [
        {
          "output_type": "execute_result",
          "data": {
            "text/html": [
              "<div>\n",
              "<style scoped>\n",
              "    .dataframe tbody tr th:only-of-type {\n",
              "        vertical-align: middle;\n",
              "    }\n",
              "\n",
              "    .dataframe tbody tr th {\n",
              "        vertical-align: top;\n",
              "    }\n",
              "\n",
              "    .dataframe thead th {\n",
              "        text-align: right;\n",
              "    }\n",
              "</style>\n",
              "<table border=\"1\" class=\"dataframe\">\n",
              "  <thead>\n",
              "    <tr style=\"text-align: right;\">\n",
              "      <th></th>\n",
              "      <th>A</th>\n",
              "      <th>B</th>\n",
              "      <th>C</th>\n",
              "      <th>D</th>\n",
              "      <th>F</th>\n",
              "    </tr>\n",
              "  </thead>\n",
              "  <tbody>\n",
              "    <tr>\n",
              "      <th>2013-01-01</th>\n",
              "      <td>-1.218362</td>\n",
              "      <td>-1.199253</td>\n",
              "      <td>-1.364646</td>\n",
              "      <td>0.708749</td>\n",
              "      <td>NaN</td>\n",
              "    </tr>\n",
              "    <tr>\n",
              "      <th>2013-01-02</th>\n",
              "      <td>-1.565848</td>\n",
              "      <td>-2.048256</td>\n",
              "      <td>-0.102928</td>\n",
              "      <td>-0.288042</td>\n",
              "      <td>1.0</td>\n",
              "    </tr>\n",
              "    <tr>\n",
              "      <th>2013-01-03</th>\n",
              "      <td>-2.328031</td>\n",
              "      <td>-1.554605</td>\n",
              "      <td>0.189958</td>\n",
              "      <td>0.278226</td>\n",
              "      <td>3.0</td>\n",
              "    </tr>\n",
              "    <tr>\n",
              "      <th>2013-01-04</th>\n",
              "      <td>-3.271135</td>\n",
              "      <td>-2.176063</td>\n",
              "      <td>1.451365</td>\n",
              "      <td>-0.146737</td>\n",
              "      <td>6.0</td>\n",
              "    </tr>\n",
              "    <tr>\n",
              "      <th>2013-01-05</th>\n",
              "      <td>-2.715675</td>\n",
              "      <td>-0.910938</td>\n",
              "      <td>2.833708</td>\n",
              "      <td>-0.570488</td>\n",
              "      <td>10.0</td>\n",
              "    </tr>\n",
              "    <tr>\n",
              "      <th>2013-01-06</th>\n",
              "      <td>-2.541207</td>\n",
              "      <td>-0.956989</td>\n",
              "      <td>2.670778</td>\n",
              "      <td>-0.559182</td>\n",
              "      <td>15.0</td>\n",
              "    </tr>\n",
              "  </tbody>\n",
              "</table>\n",
              "</div>"
            ],
            "text/plain": [
              "                   A         B         C         D     F\n",
              "2013-01-01 -1.218362 -1.199253 -1.364646  0.708749   NaN\n",
              "2013-01-02 -1.565848 -2.048256 -0.102928 -0.288042   1.0\n",
              "2013-01-03 -2.328031 -1.554605  0.189958  0.278226   3.0\n",
              "2013-01-04 -3.271135 -2.176063  1.451365 -0.146737   6.0\n",
              "2013-01-05 -2.715675 -0.910938  2.833708 -0.570488  10.0\n",
              "2013-01-06 -2.541207 -0.956989  2.670778 -0.559182  15.0"
            ]
          },
          "metadata": {
            "tags": []
          },
          "execution_count": 75
        }
      ]
    },
    {
      "cell_type": "code",
      "metadata": {
        "colab": {
          "base_uri": "https://localhost:8080/"
        },
        "id": "-yKnMxekbHX8",
        "outputId": "1795e4af-bfd8-40d4-d9de-7e1013c73d88"
      },
      "source": [
        "df.apply(lambda x: x.max() - x.min())  #displaying the difference of max and min values in columns\n"
      ],
      "execution_count": 76,
      "outputs": [
        {
          "output_type": "execute_result",
          "data": {
            "text/plain": [
              "A    1.773822\n",
              "B    2.464378\n",
              "C    2.746989\n",
              "D    1.705541\n",
              "F    4.000000\n",
              "dtype: float64"
            ]
          },
          "metadata": {
            "tags": []
          },
          "execution_count": 76
        }
      ]
    },
    {
      "cell_type": "code",
      "metadata": {
        "id": "wkrr8uVEbHT1"
      },
      "source": [
        "s = pd.Series([\"A\", \"B\", \"C\", \"Aaba\", \"Baca\", np.nan, \"CABA\", \"dog\", \"cat\"])  #create new series"
      ],
      "execution_count": 77,
      "outputs": []
    },
    {
      "cell_type": "code",
      "metadata": {
        "colab": {
          "base_uri": "https://localhost:8080/"
        },
        "id": "mDyaYSWsbblQ",
        "outputId": "9c49d7f3-53bd-4d13-bc16-985fc32cb9af"
      },
      "source": [
        "s.str.lower()  #converts all strings to lower case"
      ],
      "execution_count": 78,
      "outputs": [
        {
          "output_type": "execute_result",
          "data": {
            "text/plain": [
              "0       a\n",
              "1       b\n",
              "2       c\n",
              "3    aaba\n",
              "4    baca\n",
              "5     NaN\n",
              "6    caba\n",
              "7     dog\n",
              "8     cat\n",
              "dtype: object"
            ]
          },
          "metadata": {
            "tags": []
          },
          "execution_count": 78
        }
      ]
    },
    {
      "cell_type": "code",
      "metadata": {
        "id": "NBYOkNdJbbiU"
      },
      "source": [
        "df = pd.DataFrame(np.random.randn(10, 4))\n"
      ],
      "execution_count": 79,
      "outputs": []
    },
    {
      "cell_type": "code",
      "metadata": {
        "colab": {
          "base_uri": "https://localhost:8080/",
          "height": 357
        },
        "id": "GZ5hDKxnbbfZ",
        "outputId": "f828cd28-cca0-417c-e112-5e9f5cff3a16"
      },
      "source": [
        "df"
      ],
      "execution_count": 80,
      "outputs": [
        {
          "output_type": "execute_result",
          "data": {
            "text/html": [
              "<div>\n",
              "<style scoped>\n",
              "    .dataframe tbody tr th:only-of-type {\n",
              "        vertical-align: middle;\n",
              "    }\n",
              "\n",
              "    .dataframe tbody tr th {\n",
              "        vertical-align: top;\n",
              "    }\n",
              "\n",
              "    .dataframe thead th {\n",
              "        text-align: right;\n",
              "    }\n",
              "</style>\n",
              "<table border=\"1\" class=\"dataframe\">\n",
              "  <thead>\n",
              "    <tr style=\"text-align: right;\">\n",
              "      <th></th>\n",
              "      <th>0</th>\n",
              "      <th>1</th>\n",
              "      <th>2</th>\n",
              "      <th>3</th>\n",
              "    </tr>\n",
              "  </thead>\n",
              "  <tbody>\n",
              "    <tr>\n",
              "      <th>0</th>\n",
              "      <td>-0.748284</td>\n",
              "      <td>-0.366640</td>\n",
              "      <td>-0.449347</td>\n",
              "      <td>1.352257</td>\n",
              "    </tr>\n",
              "    <tr>\n",
              "      <th>1</th>\n",
              "      <td>-0.018000</td>\n",
              "      <td>2.754425</td>\n",
              "      <td>0.751890</td>\n",
              "      <td>0.173320</td>\n",
              "    </tr>\n",
              "    <tr>\n",
              "      <th>2</th>\n",
              "      <td>-0.486118</td>\n",
              "      <td>-2.203426</td>\n",
              "      <td>0.581212</td>\n",
              "      <td>-0.490598</td>\n",
              "    </tr>\n",
              "    <tr>\n",
              "      <th>3</th>\n",
              "      <td>-0.317439</td>\n",
              "      <td>-0.682573</td>\n",
              "      <td>-0.045825</td>\n",
              "      <td>-1.576252</td>\n",
              "    </tr>\n",
              "    <tr>\n",
              "      <th>4</th>\n",
              "      <td>0.551626</td>\n",
              "      <td>-0.641317</td>\n",
              "      <td>0.066266</td>\n",
              "      <td>0.034100</td>\n",
              "    </tr>\n",
              "    <tr>\n",
              "      <th>5</th>\n",
              "      <td>-0.953354</td>\n",
              "      <td>-0.130712</td>\n",
              "      <td>0.456001</td>\n",
              "      <td>0.353682</td>\n",
              "    </tr>\n",
              "    <tr>\n",
              "      <th>6</th>\n",
              "      <td>0.672217</td>\n",
              "      <td>1.284281</td>\n",
              "      <td>0.047272</td>\n",
              "      <td>1.413660</td>\n",
              "    </tr>\n",
              "    <tr>\n",
              "      <th>7</th>\n",
              "      <td>1.432509</td>\n",
              "      <td>0.441018</td>\n",
              "      <td>-0.153903</td>\n",
              "      <td>1.616332</td>\n",
              "    </tr>\n",
              "    <tr>\n",
              "      <th>8</th>\n",
              "      <td>-0.988989</td>\n",
              "      <td>1.851011</td>\n",
              "      <td>-0.400980</td>\n",
              "      <td>0.396014</td>\n",
              "    </tr>\n",
              "    <tr>\n",
              "      <th>9</th>\n",
              "      <td>1.010814</td>\n",
              "      <td>0.715918</td>\n",
              "      <td>-0.083834</td>\n",
              "      <td>-1.269178</td>\n",
              "    </tr>\n",
              "  </tbody>\n",
              "</table>\n",
              "</div>"
            ],
            "text/plain": [
              "          0         1         2         3\n",
              "0 -0.748284 -0.366640 -0.449347  1.352257\n",
              "1 -0.018000  2.754425  0.751890  0.173320\n",
              "2 -0.486118 -2.203426  0.581212 -0.490598\n",
              "3 -0.317439 -0.682573 -0.045825 -1.576252\n",
              "4  0.551626 -0.641317  0.066266  0.034100\n",
              "5 -0.953354 -0.130712  0.456001  0.353682\n",
              "6  0.672217  1.284281  0.047272  1.413660\n",
              "7  1.432509  0.441018 -0.153903  1.616332\n",
              "8 -0.988989  1.851011 -0.400980  0.396014\n",
              "9  1.010814  0.715918 -0.083834 -1.269178"
            ]
          },
          "metadata": {
            "tags": []
          },
          "execution_count": 80
        }
      ]
    },
    {
      "cell_type": "code",
      "metadata": {
        "id": "tmcZRCpMbbbm"
      },
      "source": [
        "pieces = [df[:3], df[3:7], df[7:]]\n"
      ],
      "execution_count": 81,
      "outputs": []
    },
    {
      "cell_type": "code",
      "metadata": {
        "colab": {
          "base_uri": "https://localhost:8080/"
        },
        "id": "b6eB_utObbYx",
        "outputId": "fe17e56f-13c5-455d-c1ac-3554f19107aa"
      },
      "source": [
        "pieces"
      ],
      "execution_count": 82,
      "outputs": [
        {
          "output_type": "execute_result",
          "data": {
            "text/plain": [
              "[          0         1         2         3\n",
              " 0 -0.748284 -0.366640 -0.449347  1.352257\n",
              " 1 -0.018000  2.754425  0.751890  0.173320\n",
              " 2 -0.486118 -2.203426  0.581212 -0.490598,\n",
              "           0         1         2         3\n",
              " 3 -0.317439 -0.682573 -0.045825 -1.576252\n",
              " 4  0.551626 -0.641317  0.066266  0.034100\n",
              " 5 -0.953354 -0.130712  0.456001  0.353682\n",
              " 6  0.672217  1.284281  0.047272  1.413660,\n",
              "           0         1         2         3\n",
              " 7  1.432509  0.441018 -0.153903  1.616332\n",
              " 8 -0.988989  1.851011 -0.400980  0.396014\n",
              " 9  1.010814  0.715918 -0.083834 -1.269178]"
            ]
          },
          "metadata": {
            "tags": []
          },
          "execution_count": 82
        }
      ]
    },
    {
      "cell_type": "code",
      "metadata": {
        "colab": {
          "base_uri": "https://localhost:8080/",
          "height": 357
        },
        "id": "4Ze53uNBbbVi",
        "outputId": "16da8e0a-c67b-4a30-adc5-6859e8f5631a"
      },
      "source": [
        "pd.concat(pieces)"
      ],
      "execution_count": 83,
      "outputs": [
        {
          "output_type": "execute_result",
          "data": {
            "text/html": [
              "<div>\n",
              "<style scoped>\n",
              "    .dataframe tbody tr th:only-of-type {\n",
              "        vertical-align: middle;\n",
              "    }\n",
              "\n",
              "    .dataframe tbody tr th {\n",
              "        vertical-align: top;\n",
              "    }\n",
              "\n",
              "    .dataframe thead th {\n",
              "        text-align: right;\n",
              "    }\n",
              "</style>\n",
              "<table border=\"1\" class=\"dataframe\">\n",
              "  <thead>\n",
              "    <tr style=\"text-align: right;\">\n",
              "      <th></th>\n",
              "      <th>0</th>\n",
              "      <th>1</th>\n",
              "      <th>2</th>\n",
              "      <th>3</th>\n",
              "    </tr>\n",
              "  </thead>\n",
              "  <tbody>\n",
              "    <tr>\n",
              "      <th>0</th>\n",
              "      <td>-0.748284</td>\n",
              "      <td>-0.366640</td>\n",
              "      <td>-0.449347</td>\n",
              "      <td>1.352257</td>\n",
              "    </tr>\n",
              "    <tr>\n",
              "      <th>1</th>\n",
              "      <td>-0.018000</td>\n",
              "      <td>2.754425</td>\n",
              "      <td>0.751890</td>\n",
              "      <td>0.173320</td>\n",
              "    </tr>\n",
              "    <tr>\n",
              "      <th>2</th>\n",
              "      <td>-0.486118</td>\n",
              "      <td>-2.203426</td>\n",
              "      <td>0.581212</td>\n",
              "      <td>-0.490598</td>\n",
              "    </tr>\n",
              "    <tr>\n",
              "      <th>3</th>\n",
              "      <td>-0.317439</td>\n",
              "      <td>-0.682573</td>\n",
              "      <td>-0.045825</td>\n",
              "      <td>-1.576252</td>\n",
              "    </tr>\n",
              "    <tr>\n",
              "      <th>4</th>\n",
              "      <td>0.551626</td>\n",
              "      <td>-0.641317</td>\n",
              "      <td>0.066266</td>\n",
              "      <td>0.034100</td>\n",
              "    </tr>\n",
              "    <tr>\n",
              "      <th>5</th>\n",
              "      <td>-0.953354</td>\n",
              "      <td>-0.130712</td>\n",
              "      <td>0.456001</td>\n",
              "      <td>0.353682</td>\n",
              "    </tr>\n",
              "    <tr>\n",
              "      <th>6</th>\n",
              "      <td>0.672217</td>\n",
              "      <td>1.284281</td>\n",
              "      <td>0.047272</td>\n",
              "      <td>1.413660</td>\n",
              "    </tr>\n",
              "    <tr>\n",
              "      <th>7</th>\n",
              "      <td>1.432509</td>\n",
              "      <td>0.441018</td>\n",
              "      <td>-0.153903</td>\n",
              "      <td>1.616332</td>\n",
              "    </tr>\n",
              "    <tr>\n",
              "      <th>8</th>\n",
              "      <td>-0.988989</td>\n",
              "      <td>1.851011</td>\n",
              "      <td>-0.400980</td>\n",
              "      <td>0.396014</td>\n",
              "    </tr>\n",
              "    <tr>\n",
              "      <th>9</th>\n",
              "      <td>1.010814</td>\n",
              "      <td>0.715918</td>\n",
              "      <td>-0.083834</td>\n",
              "      <td>-1.269178</td>\n",
              "    </tr>\n",
              "  </tbody>\n",
              "</table>\n",
              "</div>"
            ],
            "text/plain": [
              "          0         1         2         3\n",
              "0 -0.748284 -0.366640 -0.449347  1.352257\n",
              "1 -0.018000  2.754425  0.751890  0.173320\n",
              "2 -0.486118 -2.203426  0.581212 -0.490598\n",
              "3 -0.317439 -0.682573 -0.045825 -1.576252\n",
              "4  0.551626 -0.641317  0.066266  0.034100\n",
              "5 -0.953354 -0.130712  0.456001  0.353682\n",
              "6  0.672217  1.284281  0.047272  1.413660\n",
              "7  1.432509  0.441018 -0.153903  1.616332\n",
              "8 -0.988989  1.851011 -0.400980  0.396014\n",
              "9  1.010814  0.715918 -0.083834 -1.269178"
            ]
          },
          "metadata": {
            "tags": []
          },
          "execution_count": 83
        }
      ]
    },
    {
      "cell_type": "code",
      "metadata": {
        "id": "FLG3NiJVbbSQ"
      },
      "source": [
        "left = pd.DataFrame({\"key\": [\"foo\", \"foo\"], \"lval\": [1, 2]})"
      ],
      "execution_count": 84,
      "outputs": []
    },
    {
      "cell_type": "code",
      "metadata": {
        "id": "svl0NFaNbtLJ"
      },
      "source": [
        "right = pd.DataFrame({\"key\": [\"foo\", \"foo\"], \"rval\": [4, 5]})"
      ],
      "execution_count": 85,
      "outputs": []
    },
    {
      "cell_type": "code",
      "metadata": {
        "colab": {
          "base_uri": "https://localhost:8080/",
          "height": 172
        },
        "id": "oHjrgGsDbtI6",
        "outputId": "deed3937-1c00-4b07-9500-232980d8ebf9"
      },
      "source": [
        " pd.merge(left, right, on=\"key\")\n"
      ],
      "execution_count": 86,
      "outputs": [
        {
          "output_type": "execute_result",
          "data": {
            "text/html": [
              "<div>\n",
              "<style scoped>\n",
              "    .dataframe tbody tr th:only-of-type {\n",
              "        vertical-align: middle;\n",
              "    }\n",
              "\n",
              "    .dataframe tbody tr th {\n",
              "        vertical-align: top;\n",
              "    }\n",
              "\n",
              "    .dataframe thead th {\n",
              "        text-align: right;\n",
              "    }\n",
              "</style>\n",
              "<table border=\"1\" class=\"dataframe\">\n",
              "  <thead>\n",
              "    <tr style=\"text-align: right;\">\n",
              "      <th></th>\n",
              "      <th>key</th>\n",
              "      <th>lval</th>\n",
              "      <th>rval</th>\n",
              "    </tr>\n",
              "  </thead>\n",
              "  <tbody>\n",
              "    <tr>\n",
              "      <th>0</th>\n",
              "      <td>foo</td>\n",
              "      <td>1</td>\n",
              "      <td>4</td>\n",
              "    </tr>\n",
              "    <tr>\n",
              "      <th>1</th>\n",
              "      <td>foo</td>\n",
              "      <td>1</td>\n",
              "      <td>5</td>\n",
              "    </tr>\n",
              "    <tr>\n",
              "      <th>2</th>\n",
              "      <td>foo</td>\n",
              "      <td>2</td>\n",
              "      <td>4</td>\n",
              "    </tr>\n",
              "    <tr>\n",
              "      <th>3</th>\n",
              "      <td>foo</td>\n",
              "      <td>2</td>\n",
              "      <td>5</td>\n",
              "    </tr>\n",
              "  </tbody>\n",
              "</table>\n",
              "</div>"
            ],
            "text/plain": [
              "   key  lval  rval\n",
              "0  foo     1     4\n",
              "1  foo     1     5\n",
              "2  foo     2     4\n",
              "3  foo     2     5"
            ]
          },
          "metadata": {
            "tags": []
          },
          "execution_count": 86
        }
      ]
    },
    {
      "cell_type": "code",
      "metadata": {
        "colab": {
          "base_uri": "https://localhost:8080/",
          "height": 388
        },
        "id": "EANRy8kPbtGD",
        "outputId": "c94348ae-3107-4b13-841c-bf685e15b853"
      },
      "source": [
        "df.groupby(1).sum()"
      ],
      "execution_count": 87,
      "outputs": [
        {
          "output_type": "execute_result",
          "data": {
            "text/html": [
              "<div>\n",
              "<style scoped>\n",
              "    .dataframe tbody tr th:only-of-type {\n",
              "        vertical-align: middle;\n",
              "    }\n",
              "\n",
              "    .dataframe tbody tr th {\n",
              "        vertical-align: top;\n",
              "    }\n",
              "\n",
              "    .dataframe thead th {\n",
              "        text-align: right;\n",
              "    }\n",
              "</style>\n",
              "<table border=\"1\" class=\"dataframe\">\n",
              "  <thead>\n",
              "    <tr style=\"text-align: right;\">\n",
              "      <th></th>\n",
              "      <th>0</th>\n",
              "      <th>2</th>\n",
              "      <th>3</th>\n",
              "    </tr>\n",
              "    <tr>\n",
              "      <th>1</th>\n",
              "      <th></th>\n",
              "      <th></th>\n",
              "      <th></th>\n",
              "    </tr>\n",
              "  </thead>\n",
              "  <tbody>\n",
              "    <tr>\n",
              "      <th>-2.203426</th>\n",
              "      <td>-0.486118</td>\n",
              "      <td>0.581212</td>\n",
              "      <td>-0.490598</td>\n",
              "    </tr>\n",
              "    <tr>\n",
              "      <th>-0.682573</th>\n",
              "      <td>-0.317439</td>\n",
              "      <td>-0.045825</td>\n",
              "      <td>-1.576252</td>\n",
              "    </tr>\n",
              "    <tr>\n",
              "      <th>-0.641317</th>\n",
              "      <td>0.551626</td>\n",
              "      <td>0.066266</td>\n",
              "      <td>0.034100</td>\n",
              "    </tr>\n",
              "    <tr>\n",
              "      <th>-0.366640</th>\n",
              "      <td>-0.748284</td>\n",
              "      <td>-0.449347</td>\n",
              "      <td>1.352257</td>\n",
              "    </tr>\n",
              "    <tr>\n",
              "      <th>-0.130712</th>\n",
              "      <td>-0.953354</td>\n",
              "      <td>0.456001</td>\n",
              "      <td>0.353682</td>\n",
              "    </tr>\n",
              "    <tr>\n",
              "      <th>0.441018</th>\n",
              "      <td>1.432509</td>\n",
              "      <td>-0.153903</td>\n",
              "      <td>1.616332</td>\n",
              "    </tr>\n",
              "    <tr>\n",
              "      <th>0.715918</th>\n",
              "      <td>1.010814</td>\n",
              "      <td>-0.083834</td>\n",
              "      <td>-1.269178</td>\n",
              "    </tr>\n",
              "    <tr>\n",
              "      <th>1.284281</th>\n",
              "      <td>0.672217</td>\n",
              "      <td>0.047272</td>\n",
              "      <td>1.413660</td>\n",
              "    </tr>\n",
              "    <tr>\n",
              "      <th>1.851011</th>\n",
              "      <td>-0.988989</td>\n",
              "      <td>-0.400980</td>\n",
              "      <td>0.396014</td>\n",
              "    </tr>\n",
              "    <tr>\n",
              "      <th>2.754425</th>\n",
              "      <td>-0.018000</td>\n",
              "      <td>0.751890</td>\n",
              "      <td>0.173320</td>\n",
              "    </tr>\n",
              "  </tbody>\n",
              "</table>\n",
              "</div>"
            ],
            "text/plain": [
              "                  0         2         3\n",
              "1                                      \n",
              "-2.203426 -0.486118  0.581212 -0.490598\n",
              "-0.682573 -0.317439 -0.045825 -1.576252\n",
              "-0.641317  0.551626  0.066266  0.034100\n",
              "-0.366640 -0.748284 -0.449347  1.352257\n",
              "-0.130712 -0.953354  0.456001  0.353682\n",
              " 0.441018  1.432509 -0.153903  1.616332\n",
              " 0.715918  1.010814 -0.083834 -1.269178\n",
              " 1.284281  0.672217  0.047272  1.413660\n",
              " 1.851011 -0.988989 -0.400980  0.396014\n",
              " 2.754425 -0.018000  0.751890  0.173320"
            ]
          },
          "metadata": {
            "tags": []
          },
          "execution_count": 87
        }
      ]
    },
    {
      "cell_type": "code",
      "metadata": {
        "colab": {
          "base_uri": "https://localhost:8080/",
          "height": 357
        },
        "id": "a1VxK_6CbtDc",
        "outputId": "f5babefe-12c3-429b-8608-159ecda89153"
      },
      "source": [
        "df.sort_values(by=1)"
      ],
      "execution_count": 88,
      "outputs": [
        {
          "output_type": "execute_result",
          "data": {
            "text/html": [
              "<div>\n",
              "<style scoped>\n",
              "    .dataframe tbody tr th:only-of-type {\n",
              "        vertical-align: middle;\n",
              "    }\n",
              "\n",
              "    .dataframe tbody tr th {\n",
              "        vertical-align: top;\n",
              "    }\n",
              "\n",
              "    .dataframe thead th {\n",
              "        text-align: right;\n",
              "    }\n",
              "</style>\n",
              "<table border=\"1\" class=\"dataframe\">\n",
              "  <thead>\n",
              "    <tr style=\"text-align: right;\">\n",
              "      <th></th>\n",
              "      <th>0</th>\n",
              "      <th>1</th>\n",
              "      <th>2</th>\n",
              "      <th>3</th>\n",
              "    </tr>\n",
              "  </thead>\n",
              "  <tbody>\n",
              "    <tr>\n",
              "      <th>2</th>\n",
              "      <td>-0.486118</td>\n",
              "      <td>-2.203426</td>\n",
              "      <td>0.581212</td>\n",
              "      <td>-0.490598</td>\n",
              "    </tr>\n",
              "    <tr>\n",
              "      <th>3</th>\n",
              "      <td>-0.317439</td>\n",
              "      <td>-0.682573</td>\n",
              "      <td>-0.045825</td>\n",
              "      <td>-1.576252</td>\n",
              "    </tr>\n",
              "    <tr>\n",
              "      <th>4</th>\n",
              "      <td>0.551626</td>\n",
              "      <td>-0.641317</td>\n",
              "      <td>0.066266</td>\n",
              "      <td>0.034100</td>\n",
              "    </tr>\n",
              "    <tr>\n",
              "      <th>0</th>\n",
              "      <td>-0.748284</td>\n",
              "      <td>-0.366640</td>\n",
              "      <td>-0.449347</td>\n",
              "      <td>1.352257</td>\n",
              "    </tr>\n",
              "    <tr>\n",
              "      <th>5</th>\n",
              "      <td>-0.953354</td>\n",
              "      <td>-0.130712</td>\n",
              "      <td>0.456001</td>\n",
              "      <td>0.353682</td>\n",
              "    </tr>\n",
              "    <tr>\n",
              "      <th>7</th>\n",
              "      <td>1.432509</td>\n",
              "      <td>0.441018</td>\n",
              "      <td>-0.153903</td>\n",
              "      <td>1.616332</td>\n",
              "    </tr>\n",
              "    <tr>\n",
              "      <th>9</th>\n",
              "      <td>1.010814</td>\n",
              "      <td>0.715918</td>\n",
              "      <td>-0.083834</td>\n",
              "      <td>-1.269178</td>\n",
              "    </tr>\n",
              "    <tr>\n",
              "      <th>6</th>\n",
              "      <td>0.672217</td>\n",
              "      <td>1.284281</td>\n",
              "      <td>0.047272</td>\n",
              "      <td>1.413660</td>\n",
              "    </tr>\n",
              "    <tr>\n",
              "      <th>8</th>\n",
              "      <td>-0.988989</td>\n",
              "      <td>1.851011</td>\n",
              "      <td>-0.400980</td>\n",
              "      <td>0.396014</td>\n",
              "    </tr>\n",
              "    <tr>\n",
              "      <th>1</th>\n",
              "      <td>-0.018000</td>\n",
              "      <td>2.754425</td>\n",
              "      <td>0.751890</td>\n",
              "      <td>0.173320</td>\n",
              "    </tr>\n",
              "  </tbody>\n",
              "</table>\n",
              "</div>"
            ],
            "text/plain": [
              "          0         1         2         3\n",
              "2 -0.486118 -2.203426  0.581212 -0.490598\n",
              "3 -0.317439 -0.682573 -0.045825 -1.576252\n",
              "4  0.551626 -0.641317  0.066266  0.034100\n",
              "0 -0.748284 -0.366640 -0.449347  1.352257\n",
              "5 -0.953354 -0.130712  0.456001  0.353682\n",
              "7  1.432509  0.441018 -0.153903  1.616332\n",
              "9  1.010814  0.715918 -0.083834 -1.269178\n",
              "6  0.672217  1.284281  0.047272  1.413660\n",
              "8 -0.988989  1.851011 -0.400980  0.396014\n",
              "1 -0.018000  2.754425  0.751890  0.173320"
            ]
          },
          "metadata": {
            "tags": []
          },
          "execution_count": 88
        }
      ]
    }
  ]
}